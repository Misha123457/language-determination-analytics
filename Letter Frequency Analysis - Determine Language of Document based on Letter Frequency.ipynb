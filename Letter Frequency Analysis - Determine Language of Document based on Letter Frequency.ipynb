{
 "cells": [
  {
   "cell_type": "markdown",
   "metadata": {},
   "source": [
    "# Letter Frequency Analysis - Determine Language of Document based on Frequency Sequence Similarity\n",
    "\n",
    "Letter frequency is language specific. See for Letter Frequencies this page in Wikipedia: https://en.wikipedia.org/wiki/Letter_frequency#Relative_frequencies_of_letters_in_other_languages.\n",
    "\n",
    "The letter occurrence in a language can be regarded as a signal or data series that can easily be plotted - as histogram or barchart. It is like the DNA or fingerprint of the language. This page gives us per language the sequence of letters in the order of highest frequency: http://letterfrequency.org/letter-frequency-by-language/ . \n",
    "\n",
    "For example for English: e t a o i n s r h l d c u m f p g w y b v k x j q z\n",
    "And for French: e s a i t n r u l o d c m p é v q f b g h j à x è y ê z ç ô ù â û î œ w k ï ë ü æ ñ\n",
    "While for Italian: e a i o n l r t s c d u p m v g h f b q z ò à ù ì é è ó y k w x j ô\n",
    "Or Dutch: e n a t i r o d s l g h v k m u b p w j c z f x y (ë é ó) q\n",
    "\n",
    "\n",
    "It would seem that we determine the letter frequency for any random document in an unknown language,by comparing the ordered letter sequence for this document with the known sequences for all languages and picking the best match, we can determine the language for the document under scrutiny.\n",
    "\n",
    "Let's see if that really works."
   ]
  },
  {
   "cell_type": "markdown",
   "metadata": {},
   "source": [
    "# Read Letter Frequency Data into Pandas Data Frame\n",
    "Let's load the CSV data from files into a Pandas Data Frame and prepare it for visualization and further processing."
   ]
  },
  {
   "cell_type": "code",
   "execution_count": 62,
   "metadata": {},
   "outputs": [],
   "source": [
    "import pandas as pd"
   ]
  },
  {
   "cell_type": "code",
   "execution_count": 63,
   "metadata": {},
   "outputs": [
    {
     "data": {
      "text/html": [
       "<div>\n",
       "<style scoped>\n",
       "    .dataframe tbody tr th:only-of-type {\n",
       "        vertical-align: middle;\n",
       "    }\n",
       "\n",
       "    .dataframe tbody tr th {\n",
       "        vertical-align: top;\n",
       "    }\n",
       "\n",
       "    .dataframe thead th {\n",
       "        text-align: right;\n",
       "    }\n",
       "</style>\n",
       "<table border=\"1\" class=\"dataframe\">\n",
       "  <thead>\n",
       "    <tr style=\"text-align: right;\">\n",
       "      <th></th>\n",
       "      <th>language</th>\n",
       "      <th>ordered_letters</th>\n",
       "    </tr>\n",
       "  </thead>\n",
       "  <tbody>\n",
       "    <tr>\n",
       "      <th>0</th>\n",
       "      <td>english</td>\n",
       "      <td>etaoinsrhldcumfpgwybvkxjqz</td>\n",
       "    </tr>\n",
       "    <tr>\n",
       "      <th>1</th>\n",
       "      <td>spanish</td>\n",
       "      <td>eaosrnidlctumpbgyívqóhfzjéáñxúüwk</td>\n",
       "    </tr>\n",
       "    <tr>\n",
       "      <th>2</th>\n",
       "      <td>german</td>\n",
       "      <td>enisratdhulcgmobwfkzvüpäßjöyqx</td>\n",
       "    </tr>\n",
       "    <tr>\n",
       "      <th>3</th>\n",
       "      <td>french</td>\n",
       "      <td>esaitnrulodcmpévqfbghjàxèyêzçôùâûî</td>\n",
       "    </tr>\n",
       "    <tr>\n",
       "      <th>4</th>\n",
       "      <td>italian</td>\n",
       "      <td>eaionlrtscdupmvghfbqzòàùì</td>\n",
       "    </tr>\n",
       "    <tr>\n",
       "      <th>5</th>\n",
       "      <td>dutch</td>\n",
       "      <td>enatirodslghvkmubpwjczfxy</td>\n",
       "    </tr>\n",
       "    <tr>\n",
       "      <th>6</th>\n",
       "      <td>turkish</td>\n",
       "      <td>aeinrlıdkmuytsboüşzgçhğvcöpfjwxq</td>\n",
       "    </tr>\n",
       "    <tr>\n",
       "      <th>7</th>\n",
       "      <td>polish</td>\n",
       "      <td>iaeoznscrwyłdkmtpujlgębąhżśóćńfźvqx</td>\n",
       "    </tr>\n",
       "    <tr>\n",
       "      <th>8</th>\n",
       "      <td>esperanto</td>\n",
       "      <td>aieonlsrtkjudmpvgfbcĝĉŭzŝhĵĥwyxq</td>\n",
       "    </tr>\n",
       "    <tr>\n",
       "      <th>9</th>\n",
       "      <td>swedish</td>\n",
       "      <td>eantrslidomgkvähfupåöbcjyxwzéq</td>\n",
       "    </tr>\n",
       "  </tbody>\n",
       "</table>\n",
       "</div>"
      ],
      "text/plain": [
       "    language                      ordered_letters\n",
       "0    english           etaoinsrhldcumfpgwybvkxjqz\n",
       "1    spanish    eaosrnidlctumpbgyívqóhfzjéáñxúüwk\n",
       "2     german       enisratdhulcgmobwfkzvüpäßjöyqx\n",
       "3     french   esaitnrulodcmpévqfbghjàxèyêzçôùâûî\n",
       "4    italian            eaionlrtscdupmvghfbqzòàùì\n",
       "5      dutch            enatirodslghvkmubpwjczfxy\n",
       "6    turkish     aeinrlıdkmuytsboüşzgçhğvcöpfjwxq\n",
       "7     polish  iaeoznscrwyłdkmtpujlgębąhżśóćńfźvqx\n",
       "8  esperanto     aieonlsrtkjudmpvgfbcĝĉŭzŝhĵĥwyxq\n",
       "9    swedish       eantrslidomgkvähfupåöbcjyxwzéq"
      ]
     },
     "execution_count": 63,
     "metadata": {},
     "output_type": "execute_result"
    }
   ],
   "source": [
    "lf_df = pd.read_csv(\"ordered-letter-sequences.csv\", skiprows = 0, sep=',')\n",
    "lf_df.head(10)"
   ]
  },
  {
   "cell_type": "code",
   "execution_count": 64,
   "metadata": {},
   "outputs": [],
   "source": [
    "# Process Text File and Determine Letter Frequency\n",
    "# based on from https://github.com/akleemans/letter-frequency/blob/master/language_identifier.py\n",
    "def process_file(textfile):\n",
    "    with open(textfile) as myfile:\n",
    "        content = myfile.readlines()\n",
    "    \n",
    "    all_letters ='esaitnrulodcmpévqfbghjàxèyêzçôùâûîøöœwkäßïëüæñ'\n",
    "    # initialize the dict with ordered entries for all letters, with each a value initialized to 0\n",
    "    dic ={letter: 0 for letter in all_letters}\n",
    "    total = 0\n",
    "    for line in content:\n",
    "        for letter in line:\n",
    "            letter = letter.lower()\n",
    "            if letter in all_letters:\n",
    "                total += 1\n",
    "                if letter in dic: dic[letter] += 1\n",
    "                else: dic[letter] = 0\n",
    "\n",
    "    # normalize\n",
    "    for letter in dic:\n",
    "        dic[letter] = dic[letter] / total\n",
    "    return dic\n",
    "\n",
    "textfile='text-file-italian.txt'\n",
    "\n",
    "text_lf_dict = process_file(textfile)\n"
   ]
  },
  {
   "cell_type": "code",
   "execution_count": 65,
   "metadata": {},
   "outputs": [
    {
     "data": {
      "text/html": [
       "<div>\n",
       "<style scoped>\n",
       "    .dataframe tbody tr th:only-of-type {\n",
       "        vertical-align: middle;\n",
       "    }\n",
       "\n",
       "    .dataframe tbody tr th {\n",
       "        vertical-align: top;\n",
       "    }\n",
       "\n",
       "    .dataframe thead th {\n",
       "        text-align: right;\n",
       "    }\n",
       "</style>\n",
       "<table border=\"1\" class=\"dataframe\">\n",
       "  <thead>\n",
       "    <tr style=\"text-align: right;\">\n",
       "      <th></th>\n",
       "      <th>frequency</th>\n",
       "      <th>letter</th>\n",
       "    </tr>\n",
       "  </thead>\n",
       "  <tbody>\n",
       "    <tr>\n",
       "      <th>e</th>\n",
       "      <td>0.128478</td>\n",
       "      <td>e</td>\n",
       "    </tr>\n",
       "    <tr>\n",
       "      <th>s</th>\n",
       "      <td>0.054318</td>\n",
       "      <td>s</td>\n",
       "    </tr>\n",
       "    <tr>\n",
       "      <th>a</th>\n",
       "      <td>0.104090</td>\n",
       "      <td>a</td>\n",
       "    </tr>\n",
       "    <tr>\n",
       "      <th>i</th>\n",
       "      <td>0.108635</td>\n",
       "      <td>i</td>\n",
       "    </tr>\n",
       "    <tr>\n",
       "      <th>t</th>\n",
       "      <td>0.058863</td>\n",
       "      <td>t</td>\n",
       "    </tr>\n",
       "    <tr>\n",
       "      <th>n</th>\n",
       "      <td>0.069837</td>\n",
       "      <td>n</td>\n",
       "    </tr>\n",
       "    <tr>\n",
       "      <th>r</th>\n",
       "      <td>0.060525</td>\n",
       "      <td>r</td>\n",
       "    </tr>\n",
       "    <tr>\n",
       "      <th>u</th>\n",
       "      <td>0.036692</td>\n",
       "      <td>u</td>\n",
       "    </tr>\n",
       "    <tr>\n",
       "      <th>l</th>\n",
       "      <td>0.062521</td>\n",
       "      <td>l</td>\n",
       "    </tr>\n",
       "    <tr>\n",
       "      <th>o</th>\n",
       "      <td>0.092118</td>\n",
       "      <td>o</td>\n",
       "    </tr>\n",
       "  </tbody>\n",
       "</table>\n",
       "</div>"
      ],
      "text/plain": [
       "   frequency letter\n",
       "e   0.128478      e\n",
       "s   0.054318      s\n",
       "a   0.104090      a\n",
       "i   0.108635      i\n",
       "t   0.058863      t\n",
       "n   0.069837      n\n",
       "r   0.060525      r\n",
       "u   0.036692      u\n",
       "l   0.062521      l\n",
       "o   0.092118      o"
      ]
     },
     "execution_count": 65,
     "metadata": {},
     "output_type": "execute_result"
    }
   ],
   "source": [
    "text_lf = pd.DataFrame.from_dict(text_lf_dict, orient='index', columns=['frequency'])\n",
    "text_lf['letter'] = text_lf.index\n",
    "text_lf.head(10)       "
   ]
  },
  {
   "cell_type": "markdown",
   "metadata": {},
   "source": [
    "Show the letter sequence ordered by frequency. "
   ]
  },
  {
   "cell_type": "code",
   "execution_count": 66,
   "metadata": {},
   "outputs": [
    {
     "data": {
      "text/plain": [
       "'eiaonlrtscdupmgvfhqbzéèjxâû'"
      ]
     },
     "execution_count": 66,
     "metadata": {},
     "output_type": "execute_result"
    }
   ],
   "source": [
    "''.join(text_lf[text_lf['frequency']>0].sort_values(by=['frequency'], ascending=False)['letter'])"
   ]
  },
  {
   "cell_type": "code",
   "execution_count": 67,
   "metadata": {},
   "outputs": [],
   "source": [
    "# a function to calculate the Levenshtein distance matrix for two sequences\n",
    "# taken from https://stackabuse.com/levenshtein-distance-and-text-similarity-in-python/ \n",
    "import numpy as np\n",
    "\n",
    "def levenshtein(seq1, seq2):\n",
    "    size_x = len(seq1) + 1\n",
    "    size_y = len(seq2) + 1\n",
    "    matrix = np.zeros ((size_x, size_y))\n",
    "    for x in range(size_x):\n",
    "        matrix [x, 0] = x\n",
    "    for y in range(size_y):\n",
    "        matrix [0, y] = y\n",
    "\n",
    "    for x in range(1, size_x):\n",
    "        for y in range(1, size_y):\n",
    "            if seq1[x-1] == seq2[y-1]:\n",
    "                matrix [x,y] = min(\n",
    "                    matrix[x-1, y] + 1,\n",
    "                    matrix[x-1, y-1],\n",
    "                    matrix[x, y-1] + 1\n",
    "                )\n",
    "            else:\n",
    "                matrix [x,y] = min(\n",
    "                    matrix[x-1,y] + 1,\n",
    "                    matrix[x-1,y-1] + 1,\n",
    "                    matrix[x,y-1] + 1\n",
    "                )\n",
    "    # print (matrix)\n",
    "    return (matrix[size_x - 1, size_y - 1])"
   ]
  },
  {
   "cell_type": "code",
   "execution_count": 80,
   "metadata": {},
   "outputs": [
    {
     "name": "stdout",
     "output_type": "stream",
     "text": [
      "0.0\n",
      "2.0\n",
      "3.0\n",
      "3.0\n",
      "2.0\n",
      "4.0\n",
      "11.0\n"
     ]
    }
   ],
   "source": [
    "print(levenshtein('bright','bright'))\n",
    "print(levenshtein('bright','freight'))\n",
    "print(levenshtein('bright','sleight'))\n",
    "print(levenshtein('bright','bride'))\n",
    "print(levenshtein('bright','plight'))\n",
    "print(levenshtein('bright','pride'))\n",
    "print(levenshtein('bright','donald duck'))"
   ]
  },
  {
   "cell_type": "code",
   "execution_count": 69,
   "metadata": {},
   "outputs": [
    {
     "name": "stdout",
     "output_type": "stream",
     "text": [
      "english :  19.0\n",
      "spanish :  23.0\n",
      "german :  26.0\n",
      "french :  25.0\n",
      "italian :  12.0\n",
      "dutch :  22.0\n",
      "turkish :  26.0\n",
      "polish :  27.0\n",
      "esperanto :  22.0\n",
      "swedish :  22.0\n",
      "portuguese :  30.0\n",
      "norwegian :  25.0\n",
      "icelandic :  31.0\n",
      "hungarian :  31.0\n",
      "slovak :  22.0\n",
      "finnish :  23.0\n",
      "danish :  33.0\n",
      "czech :  32.0\n",
      "hawaiian :  23.0\n",
      "maori :  23.0\n",
      "latin :  20.0\n",
      "irish :  22.0\n",
      "welsh :  27.0\n",
      "gaelic :  21.0\n",
      "We have a winner:  italian\n"
     ]
    }
   ],
   "source": [
    "document_letter_sequence = ''.join(text_lf[text_lf['frequency']>0].sort_values(by=['frequency'], ascending=False)['letter'])\n",
    "# loop over the letter sequences in lf_df - for each language, determine levenshtein distance with document_letter_sequence\n",
    "best_score = 999\n",
    "best_matching_language = None\n",
    "for index, row in lf_df.iterrows():\n",
    "    ld = levenshtein(document_letter_sequence,row['ordered_letters'])\n",
    "    print(row['language'],': ',ld)\n",
    "    if ld < best_score:\n",
    "        best_score= ld\n",
    "        best_matching_language = row['language']\n",
    "print(\"We have a winner: \",best_matching_language)        "
   ]
  },
  {
   "cell_type": "code",
   "execution_count": 81,
   "metadata": {},
   "outputs": [
    {
     "name": "stdout",
     "output_type": "stream",
     "text": [
      "enirtsadhlgucmbozwfvkäüßöjpqy\n",
      "english :  21.0\n",
      "spanish :  28.0\n",
      "german :  19.0\n",
      "french :  29.0\n",
      "italian :  23.0\n",
      "dutch :  22.0\n",
      "turkish :  26.0\n",
      "polish :  29.0\n",
      "esperanto :  27.0\n",
      "swedish :  25.0\n",
      "portuguese :  30.0\n",
      "norwegian :  26.0\n",
      "icelandic :  30.0\n",
      "hungarian :  31.0\n",
      "slovak :  25.0\n",
      "finnish :  22.0\n",
      "danish :  33.0\n",
      "czech :  33.0\n",
      "hawaiian :  25.0\n",
      "maori :  24.0\n",
      "latin :  23.0\n",
      "irish :  23.0\n",
      "welsh :  26.0\n",
      "gaelic :  24.0\n",
      "We have a winner:  german\n"
     ]
    }
   ],
   "source": [
    "def inspect_file(textfilename):\n",
    "      text_lf_dict = process_file(textfilename)\n",
    "      text_lf = pd.DataFrame.from_dict(text_lf_dict, orient='index', columns=['frequency'])\n",
    "      text_lf['letter'] = text_lf.index\n",
    "      document_letter_sequence = ''.join(text_lf[text_lf['frequency']>0].sort_values(by=['frequency'], ascending=False)['letter'])\n",
    "      print(document_letter_sequence)\n",
    "      # loop over the letter sequences in lf_df - for each language, determine levenshtein distance with document_letter_sequence\n",
    "      best_score = 999\n",
    "      best_matching_language = None\n",
    "      for index, row in lf_df.iterrows():        \n",
    "           ld = levenshtein(document_letter_sequence,row['ordered_letters'])\n",
    "           print(row['language'],': ',ld)\n",
    "           if ld == best_score:\n",
    "               best_matching_language = best_matching_language + ', '+row['language']\n",
    "           if ld < best_score:\n",
    "               best_score= ld\n",
    "               best_matching_language = row['language']\n",
    "      print(\"We have a winner: \",best_matching_language) \n",
    "    \n",
    "inspect_file('text-file-german.txt')    "
   ]
  },
  {
   "cell_type": "code",
   "execution_count": 73,
   "metadata": {},
   "outputs": [
    {
     "name": "stdout",
     "output_type": "stream",
     "text": [
      "eandrstgloihkvmufpcøbjæxyzéä\n",
      "english :  21.0\n",
      "spanish :  26.0\n",
      "german :  25.0\n",
      "french :  27.0\n",
      "italian :  22.0\n",
      "dutch :  19.0\n",
      "turkish :  27.0\n",
      "polish :  30.0\n",
      "esperanto :  27.0\n",
      "swedish :  15.0\n",
      "portuguese :  28.0\n",
      "norwegian :  22.0\n",
      "icelandic :  30.0\n",
      "hungarian :  29.0\n",
      "slovak :  22.0\n",
      "finnish :  21.0\n",
      "danish :  26.0\n",
      "czech :  35.0\n",
      "hawaiian :  24.0\n",
      "maori :  23.0\n",
      "latin :  23.0\n",
      "irish :  24.0\n",
      "welsh :  25.0\n",
      "gaelic :  22.0\n",
      "We have a winner:  swedish\n"
     ]
    }
   ],
   "source": [
    "inspect_file('text-file-danish.txt') "
   ]
  },
  {
   "cell_type": "code",
   "execution_count": 72,
   "metadata": {},
   "outputs": [
    {
     "name": "stdout",
     "output_type": "stream",
     "text": [
      "enatirodslguvwkmphbcjzfyëxïé\n",
      "english :  23.0\n",
      "spanish :  27.0\n",
      "german :  23.0\n",
      "french :  25.0\n",
      "italian :  23.0\n",
      "dutch :  11.0\n",
      "turkish :  27.0\n",
      "polish :  30.0\n",
      "esperanto :  26.0\n",
      "swedish :  21.0\n",
      "portuguese :  30.0\n",
      "norwegian :  23.0\n",
      "icelandic :  30.0\n",
      "hungarian :  29.0\n",
      "slovak :  23.0\n",
      "finnish :  18.0\n",
      "danish :  31.0\n",
      "czech :  33.0\n",
      "hawaiian :  23.0\n",
      "maori :  24.0\n",
      "latin :  22.0\n",
      "irish :  26.0\n",
      "welsh :  28.0\n",
      "gaelic :  25.0\n",
      "We have a winner:  dutch\n"
     ]
    }
   ],
   "source": [
    "inspect_file('text-file-dutch.txt') "
   ]
  },
  {
   "cell_type": "markdown",
   "metadata": {},
   "source": [
    "# Resources\n",
    "\n",
    "Letter Frequencies: http://letterfrequency.org/ \n",
    "\n",
    "Levenshtein Distance - to compare series and their difference - https://stackabuse.com/levenshtein-distance-and-text-similarity-in-python/ \n",
    "\n",
    "xrange in Python 3.0 (replaced with range) - https://www.geeksforgeeks.org/range-vs-xrange-python/ "
   ]
  },
  {
   "cell_type": "markdown",
   "metadata": {},
   "source": [
    "# Technical Environment\n",
    "For this notebook, I made use of Jupyter Notebook 5.7 with the Jupyter Lab extension 1.0.4 installed (https://jupyterlab.readthedocs.io/en/stable/getting_started/installation.html) in combination with ploty 4.1\n",
    "\n",
    "conda install -c conda-forge jupyterlab\n",
    "\n",
    "Installing plotly (4.1): \n",
    "\n",
    "conda install -c plotly plotly=4.1.0 \n",
    "\n",
    "conda install -c plotly chart-studio=1.0.0\n",
    "\n",
    "conda install jupyterlab=1.0 \"ipywidgets>=7.5\"\n",
    "\n",
    "(see: https://plot.ly/python/getting-started/)\n",
    "\n"
   ]
  }
 ],
 "metadata": {
  "kernelspec": {
   "display_name": "Python 3",
   "language": "python",
   "name": "python3"
  },
  "language_info": {
   "codemirror_mode": {
    "name": "ipython",
    "version": 3
   },
   "file_extension": ".py",
   "mimetype": "text/x-python",
   "name": "python",
   "nbconvert_exporter": "python",
   "pygments_lexer": "ipython3",
   "version": "3.6.8"
  }
 },
 "nbformat": 4,
 "nbformat_minor": 4
}
