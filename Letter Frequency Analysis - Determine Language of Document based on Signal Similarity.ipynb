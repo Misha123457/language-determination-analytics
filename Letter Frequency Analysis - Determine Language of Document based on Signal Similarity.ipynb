{
 "cells": [
  {
   "cell_type": "markdown",
   "metadata": {},
   "source": [
    "# Letter Frequency Analysis - Determine Language of Document based on Signal Similarity\n",
    "\n",
    "Letter frequency is language specific. See for Letter Frequencies this page in Wikipedia: https://en.wikipedia.org/wiki/Letter_frequency#Relative_frequencies_of_letters_in_other_languages.\n",
    "\n",
    "The letter occurrence in a language can be regarded as a signal or data series that can easily be plotted - as histogram or barchart. It is like the DNA or fingerprint of the language.\n",
    "\n",
    "And that signal can be compared to the signal extracted from any document or piece of text. The language DNA closest to the DNA taken from that document is likely to be the language that document is written in. That is the theory that I like to validate in this article. \n",
    "\n",
    "A similar investigation was done by Adrianus Kleemans in this blog article: https://www.kleemans.ch/letter-frequency. He used a slightly different approach than I will be using here - but I am certainly inspired by his article. I am gratefully using the data file composed by Adrianus with the letter frequencies per language.\n",
    "\n",
    "In this notebook, I will investigate the incidence of letters in several \"unknown\" documents. I do know in fact what language these documents are written in - their name reveals the language. They were taken from the Gutenberg project (https://www.gutenberg.org/ - with over 50K free ebooks).\n",
    "\n",
    "I will use various methods for comparing the letter frequency in the documents under scrutiny with the known relative letter frequency in 20+ languages:\n",
    "* Compare Euclidean distance between letter frequencies for all letters in document under scrutiny and all reference frequencies for all languages\n",
    "* Naive binning of letter frequencies, symbolic representation and comparing using Fuzzy Search with Levenshtein distance\n",
    "* SAX (Symbolic Aggregate approXimation) and MINDIST distance determination between strings representing the relative occurrence for each letter\n",
    "\n",
    "All three methods give us decent results. Whether any is an actual meaningful method for language detection on documents I cannot tell. Note: an even simpler approach to that particular challenge was discussed in my article: [Determine the Language of a Document from the Letter Frequency – using Levenshtein Distance between sequences](https://technology.amis.nl/2019/08/21/determine-the-language-of-a-document-from-the-letter-frequency-using-levenshtein-distance-between-sequences/)\n",
    "\n",
    "I consider this notebook primarily an introduction to various methods of describing and comparing signals. More on that in other notebooks as well."
   ]
  },
  {
   "cell_type": "markdown",
   "metadata": {},
   "source": [
    "# Read Letter Frequency Data into Pandas Data Frame\n",
    "Let's load the CSV data from file letter-frequencies.csv into a Pandas Data Frame and prepare it for visualization and further processing. This file contains the relative frequencies per letter in over a dozen languages (not currently for English). "
   ]
  },
  {
   "cell_type": "code",
   "execution_count": 232,
   "metadata": {},
   "outputs": [],
   "source": [
    "import pandas as pd\n",
    "import json\n",
    "import plotly.graph_objs as go\n",
    "import plotly.express as px\n",
    "from chart_studio.plotly import plot, iplot\n",
    "from plotly.subplots import make_subplots"
   ]
  },
  {
   "cell_type": "code",
   "execution_count": 233,
   "metadata": {},
   "outputs": [
    {
     "data": {
      "text/html": [
       "<div>\n",
       "<style scoped>\n",
       "    .dataframe tbody tr th:only-of-type {\n",
       "        vertical-align: middle;\n",
       "    }\n",
       "\n",
       "    .dataframe tbody tr th {\n",
       "        vertical-align: top;\n",
       "    }\n",
       "\n",
       "    .dataframe thead th {\n",
       "        text-align: right;\n",
       "    }\n",
       "</style>\n",
       "<table border=\"1\" class=\"dataframe\">\n",
       "  <thead>\n",
       "    <tr style=\"text-align: right;\">\n",
       "      <th></th>\n",
       "      <th>Letter</th>\n",
       "      <th>French</th>\n",
       "      <th>German</th>\n",
       "      <th>Spanish</th>\n",
       "      <th>Portuguese</th>\n",
       "      <th>Esperanto</th>\n",
       "      <th>Italian</th>\n",
       "      <th>Turkish</th>\n",
       "      <th>Swedish</th>\n",
       "      <th>Polish</th>\n",
       "      <th>Dutch</th>\n",
       "      <th>Danish</th>\n",
       "      <th>Icelandic</th>\n",
       "      <th>Finnish</th>\n",
       "      <th>Czech</th>\n",
       "    </tr>\n",
       "  </thead>\n",
       "  <tbody>\n",
       "    <tr>\n",
       "      <th>0</th>\n",
       "      <td>a</td>\n",
       "      <td>7.636%</td>\n",
       "      <td>6.516%</td>\n",
       "      <td>11.525%</td>\n",
       "      <td>14.634%</td>\n",
       "      <td>12.117%</td>\n",
       "      <td>11.745%</td>\n",
       "      <td>12.920%</td>\n",
       "      <td>9.383%</td>\n",
       "      <td>10.503%</td>\n",
       "      <td>7.486%</td>\n",
       "      <td>6.025%</td>\n",
       "      <td>10.110%</td>\n",
       "      <td>12.217%</td>\n",
       "      <td>8.421%</td>\n",
       "    </tr>\n",
       "    <tr>\n",
       "      <th>1</th>\n",
       "      <td>b</td>\n",
       "      <td>0.901%</td>\n",
       "      <td>1.886%</td>\n",
       "      <td>2.215%</td>\n",
       "      <td>1.043%</td>\n",
       "      <td>0.980%</td>\n",
       "      <td>0.927%</td>\n",
       "      <td>2.844%</td>\n",
       "      <td>1.535%</td>\n",
       "      <td>1.740%</td>\n",
       "      <td>1.584%</td>\n",
       "      <td>2.000%</td>\n",
       "      <td>1.043%</td>\n",
       "      <td>0.281%</td>\n",
       "      <td>0.822%</td>\n",
       "    </tr>\n",
       "    <tr>\n",
       "      <th>2</th>\n",
       "      <td>c</td>\n",
       "      <td>3.260%</td>\n",
       "      <td>2.732%</td>\n",
       "      <td>4.019%</td>\n",
       "      <td>3.882%</td>\n",
       "      <td>0.776%</td>\n",
       "      <td>4.501%</td>\n",
       "      <td>1.463%</td>\n",
       "      <td>1.486%</td>\n",
       "      <td>3.895%</td>\n",
       "      <td>1.242%</td>\n",
       "      <td>0.565%</td>\n",
       "      <td>0</td>\n",
       "      <td>0.281%</td>\n",
       "      <td>0.740%</td>\n",
       "    </tr>\n",
       "    <tr>\n",
       "      <th>3</th>\n",
       "      <td>d</td>\n",
       "      <td>3.669%</td>\n",
       "      <td>5.076%</td>\n",
       "      <td>5.010%</td>\n",
       "      <td>4.992%</td>\n",
       "      <td>3.044%</td>\n",
       "      <td>3.736%</td>\n",
       "      <td>5.206%</td>\n",
       "      <td>4.702%</td>\n",
       "      <td>3.725%</td>\n",
       "      <td>5.933%</td>\n",
       "      <td>5.858%</td>\n",
       "      <td>1.575%</td>\n",
       "      <td>1.043%</td>\n",
       "      <td>3.475%</td>\n",
       "    </tr>\n",
       "    <tr>\n",
       "      <th>4</th>\n",
       "      <td>e</td>\n",
       "      <td>14.715%</td>\n",
       "      <td>16.396%</td>\n",
       "      <td>12.181%</td>\n",
       "      <td>12.570%</td>\n",
       "      <td>8.995%</td>\n",
       "      <td>11.792%</td>\n",
       "      <td>9.912%</td>\n",
       "      <td>10.149%</td>\n",
       "      <td>7.352%</td>\n",
       "      <td>17.324%</td>\n",
       "      <td>15.453%</td>\n",
       "      <td>6.418%</td>\n",
       "      <td>7.968%</td>\n",
       "      <td>7.562%</td>\n",
       "    </tr>\n",
       "    <tr>\n",
       "      <th>5</th>\n",
       "      <td>f</td>\n",
       "      <td>1.066%</td>\n",
       "      <td>1.656%</td>\n",
       "      <td>0.692%</td>\n",
       "      <td>1.023%</td>\n",
       "      <td>1.037%</td>\n",
       "      <td>1.153%</td>\n",
       "      <td>0.461%</td>\n",
       "      <td>2.027%</td>\n",
       "      <td>0.143%</td>\n",
       "      <td>0.805%</td>\n",
       "      <td>2.406%</td>\n",
       "      <td>3.013%</td>\n",
       "      <td>0.194%</td>\n",
       "      <td>0.084%</td>\n",
       "    </tr>\n",
       "    <tr>\n",
       "      <th>6</th>\n",
       "      <td>g</td>\n",
       "      <td>0.866%</td>\n",
       "      <td>3.009%</td>\n",
       "      <td>1.768%</td>\n",
       "      <td>1.303%</td>\n",
       "      <td>1.171%</td>\n",
       "      <td>1.644%</td>\n",
       "      <td>1.253%</td>\n",
       "      <td>2.862%</td>\n",
       "      <td>1.731%</td>\n",
       "      <td>3.403%</td>\n",
       "      <td>4.077%</td>\n",
       "      <td>4.241%</td>\n",
       "      <td>0.392%</td>\n",
       "      <td>0.092%</td>\n",
       "    </tr>\n",
       "    <tr>\n",
       "      <th>7</th>\n",
       "      <td>h</td>\n",
       "      <td>0.737%</td>\n",
       "      <td>4.577%</td>\n",
       "      <td>0.703%</td>\n",
       "      <td>0.781%</td>\n",
       "      <td>0.384%</td>\n",
       "      <td>0.636%</td>\n",
       "      <td>1.212%</td>\n",
       "      <td>2.090%</td>\n",
       "      <td>1.015%</td>\n",
       "      <td>2.380%</td>\n",
       "      <td>1.621%</td>\n",
       "      <td>1.871%</td>\n",
       "      <td>1.851%</td>\n",
       "      <td>1.356%</td>\n",
       "    </tr>\n",
       "    <tr>\n",
       "      <th>8</th>\n",
       "      <td>i</td>\n",
       "      <td>7.529%</td>\n",
       "      <td>6.550%</td>\n",
       "      <td>6.247%</td>\n",
       "      <td>6.186%</td>\n",
       "      <td>10.012%</td>\n",
       "      <td>10.143%</td>\n",
       "      <td>9.600%*</td>\n",
       "      <td>5.817%</td>\n",
       "      <td>8.328%</td>\n",
       "      <td>6.499%</td>\n",
       "      <td>6.000%</td>\n",
       "      <td>7.578%</td>\n",
       "      <td>10.817%</td>\n",
       "      <td>6.073%</td>\n",
       "    </tr>\n",
       "    <tr>\n",
       "      <th>9</th>\n",
       "      <td>j</td>\n",
       "      <td>0.613%</td>\n",
       "      <td>0.268%</td>\n",
       "      <td>0.493%</td>\n",
       "      <td>0.397%</td>\n",
       "      <td>3.501%</td>\n",
       "      <td>0.011%</td>\n",
       "      <td>0.034%</td>\n",
       "      <td>0.614%</td>\n",
       "      <td>1.836%</td>\n",
       "      <td>1.461%</td>\n",
       "      <td>0.730%</td>\n",
       "      <td>1.144%</td>\n",
       "      <td>2.042%</td>\n",
       "      <td>1.433%</td>\n",
       "    </tr>\n",
       "    <tr>\n",
       "      <th>10</th>\n",
       "      <td>k</td>\n",
       "      <td>0.049%</td>\n",
       "      <td>1.417%</td>\n",
       "      <td>0.011%</td>\n",
       "      <td>0.015%</td>\n",
       "      <td>4.163%</td>\n",
       "      <td>0.009%</td>\n",
       "      <td>5.683%</td>\n",
       "      <td>3.140%</td>\n",
       "      <td>2.753%</td>\n",
       "      <td>2.248%</td>\n",
       "      <td>3.395%</td>\n",
       "      <td>3.314%</td>\n",
       "      <td>4.973%</td>\n",
       "      <td>2.894%</td>\n",
       "    </tr>\n",
       "    <tr>\n",
       "      <th>11</th>\n",
       "      <td>l</td>\n",
       "      <td>5.456%</td>\n",
       "      <td>3.437%</td>\n",
       "      <td>4.967%</td>\n",
       "      <td>2.779%</td>\n",
       "      <td>6.104%</td>\n",
       "      <td>6.510%</td>\n",
       "      <td>5.922%</td>\n",
       "      <td>5.275%</td>\n",
       "      <td>2.564%</td>\n",
       "      <td>3.568%</td>\n",
       "      <td>5.229%</td>\n",
       "      <td>4.532%</td>\n",
       "      <td>5.761%</td>\n",
       "      <td>3.802%</td>\n",
       "    </tr>\n",
       "    <tr>\n",
       "      <th>12</th>\n",
       "      <td>m</td>\n",
       "      <td>2.968%</td>\n",
       "      <td>2.534%</td>\n",
       "      <td>3.157%</td>\n",
       "      <td>4.738%</td>\n",
       "      <td>2.994%</td>\n",
       "      <td>2.512%</td>\n",
       "      <td>3.752%</td>\n",
       "      <td>3.471%</td>\n",
       "      <td>2.515%</td>\n",
       "      <td>2.213%</td>\n",
       "      <td>3.237%</td>\n",
       "      <td>4.041%</td>\n",
       "      <td>3.202%</td>\n",
       "      <td>2.446%</td>\n",
       "    </tr>\n",
       "    <tr>\n",
       "      <th>13</th>\n",
       "      <td>n</td>\n",
       "      <td>7.095%</td>\n",
       "      <td>9.776%</td>\n",
       "      <td>6.712%</td>\n",
       "      <td>4.446%</td>\n",
       "      <td>7.955%</td>\n",
       "      <td>6.883%</td>\n",
       "      <td>7.987%</td>\n",
       "      <td>8.542%</td>\n",
       "      <td>6.237%</td>\n",
       "      <td>10.032%</td>\n",
       "      <td>7.240%</td>\n",
       "      <td>7.711%</td>\n",
       "      <td>8.826%</td>\n",
       "      <td>6.468%</td>\n",
       "    </tr>\n",
       "    <tr>\n",
       "      <th>14</th>\n",
       "      <td>o</td>\n",
       "      <td>5.796%</td>\n",
       "      <td>2.594%</td>\n",
       "      <td>8.683%</td>\n",
       "      <td>9.735%</td>\n",
       "      <td>8.779%</td>\n",
       "      <td>9.832%</td>\n",
       "      <td>2.976%</td>\n",
       "      <td>4.482%</td>\n",
       "      <td>6.667%</td>\n",
       "      <td>6.063%</td>\n",
       "      <td>4.636%</td>\n",
       "      <td>2.166%</td>\n",
       "      <td>5.614%</td>\n",
       "      <td>6.695%</td>\n",
       "    </tr>\n",
       "    <tr>\n",
       "      <th>15</th>\n",
       "      <td>p</td>\n",
       "      <td>2.521%</td>\n",
       "      <td>0.670%</td>\n",
       "      <td>2.510%</td>\n",
       "      <td>2.523%</td>\n",
       "      <td>2.755%</td>\n",
       "      <td>3.056%</td>\n",
       "      <td>0.886%</td>\n",
       "      <td>1.839%</td>\n",
       "      <td>2.445%</td>\n",
       "      <td>1.370%</td>\n",
       "      <td>1.756%</td>\n",
       "      <td>0.789%</td>\n",
       "      <td>1.842%</td>\n",
       "      <td>1.906%</td>\n",
       "    </tr>\n",
       "    <tr>\n",
       "      <th>16</th>\n",
       "      <td>q</td>\n",
       "      <td>1.362%</td>\n",
       "      <td>0.018%</td>\n",
       "      <td>0.877%</td>\n",
       "      <td>1.204%</td>\n",
       "      <td>0</td>\n",
       "      <td>0.505%</td>\n",
       "      <td>0</td>\n",
       "      <td>0.020%</td>\n",
       "      <td>0</td>\n",
       "      <td>0.009%</td>\n",
       "      <td>0.007%</td>\n",
       "      <td>0</td>\n",
       "      <td>0.013%</td>\n",
       "      <td>0.001%</td>\n",
       "    </tr>\n",
       "    <tr>\n",
       "      <th>17</th>\n",
       "      <td>r</td>\n",
       "      <td>6.693%</td>\n",
       "      <td>7.003%</td>\n",
       "      <td>6.871%</td>\n",
       "      <td>6.530%</td>\n",
       "      <td>5.914%</td>\n",
       "      <td>6.367%</td>\n",
       "      <td>7.722%</td>\n",
       "      <td>8.431%</td>\n",
       "      <td>5.243%</td>\n",
       "      <td>6.411%</td>\n",
       "      <td>8.956%</td>\n",
       "      <td>8.581%</td>\n",
       "      <td>2.872%</td>\n",
       "      <td>4.799%</td>\n",
       "    </tr>\n",
       "    <tr>\n",
       "      <th>18</th>\n",
       "      <td>s</td>\n",
       "      <td>7.948%</td>\n",
       "      <td>7.270%</td>\n",
       "      <td>7.977%</td>\n",
       "      <td>6.805%</td>\n",
       "      <td>6.092%</td>\n",
       "      <td>4.981%</td>\n",
       "      <td>3.014%</td>\n",
       "      <td>6.590%</td>\n",
       "      <td>5.224%</td>\n",
       "      <td>5.733%</td>\n",
       "      <td>5.805%</td>\n",
       "      <td>5.630%</td>\n",
       "      <td>7.862%</td>\n",
       "      <td>5.212%</td>\n",
       "    </tr>\n",
       "    <tr>\n",
       "      <th>19</th>\n",
       "      <td>t</td>\n",
       "      <td>7.244%</td>\n",
       "      <td>6.154%</td>\n",
       "      <td>4.632%</td>\n",
       "      <td>4.336%</td>\n",
       "      <td>5.276%</td>\n",
       "      <td>5.623%</td>\n",
       "      <td>3.314%</td>\n",
       "      <td>7.691%</td>\n",
       "      <td>2.475%</td>\n",
       "      <td>6.923%</td>\n",
       "      <td>6.862%</td>\n",
       "      <td>4.953%</td>\n",
       "      <td>8.750%</td>\n",
       "      <td>5.727%</td>\n",
       "    </tr>\n",
       "    <tr>\n",
       "      <th>20</th>\n",
       "      <td>u</td>\n",
       "      <td>6.311%</td>\n",
       "      <td>4.166%</td>\n",
       "      <td>2.927%</td>\n",
       "      <td>3.639%</td>\n",
       "      <td>3.183%</td>\n",
       "      <td>3.011%</td>\n",
       "      <td>3.235%</td>\n",
       "      <td>1.919%</td>\n",
       "      <td>2.062%</td>\n",
       "      <td>2.192%</td>\n",
       "      <td>1.979%</td>\n",
       "      <td>4.562%</td>\n",
       "      <td>5.008%</td>\n",
       "      <td>2.160%</td>\n",
       "    </tr>\n",
       "    <tr>\n",
       "      <th>21</th>\n",
       "      <td>v</td>\n",
       "      <td>1.838%</td>\n",
       "      <td>0.846%</td>\n",
       "      <td>1.138%</td>\n",
       "      <td>1.575%</td>\n",
       "      <td>1.904%</td>\n",
       "      <td>2.097%</td>\n",
       "      <td>0.959%</td>\n",
       "      <td>2.415%</td>\n",
       "      <td>0.012%</td>\n",
       "      <td>1.854%</td>\n",
       "      <td>2.332%</td>\n",
       "      <td>2.437%</td>\n",
       "      <td>2.250%</td>\n",
       "      <td>5.344%</td>\n",
       "    </tr>\n",
       "    <tr>\n",
       "      <th>22</th>\n",
       "      <td>w</td>\n",
       "      <td>0.074%</td>\n",
       "      <td>1.921%</td>\n",
       "      <td>0.017%</td>\n",
       "      <td>0.037%</td>\n",
       "      <td>0</td>\n",
       "      <td>0.033%</td>\n",
       "      <td>0</td>\n",
       "      <td>0.142%</td>\n",
       "      <td>5.813%</td>\n",
       "      <td>1.821%</td>\n",
       "      <td>0.069%</td>\n",
       "      <td>0</td>\n",
       "      <td>0.094%</td>\n",
       "      <td>0.016%</td>\n",
       "    </tr>\n",
       "    <tr>\n",
       "      <th>23</th>\n",
       "      <td>x</td>\n",
       "      <td>0.427%</td>\n",
       "      <td>0.034%</td>\n",
       "      <td>0.215%</td>\n",
       "      <td>0.253%</td>\n",
       "      <td>0</td>\n",
       "      <td>0.003%</td>\n",
       "      <td>0</td>\n",
       "      <td>0.159%</td>\n",
       "      <td>0.004%</td>\n",
       "      <td>0.036%</td>\n",
       "      <td>0.028%</td>\n",
       "      <td>0.046%</td>\n",
       "      <td>0.031%</td>\n",
       "      <td>0.027%</td>\n",
       "    </tr>\n",
       "    <tr>\n",
       "      <th>24</th>\n",
       "      <td>y</td>\n",
       "      <td>0.128%</td>\n",
       "      <td>0.039%</td>\n",
       "      <td>1.008%</td>\n",
       "      <td>0.006%</td>\n",
       "      <td>0</td>\n",
       "      <td>0.020%</td>\n",
       "      <td>3.336%</td>\n",
       "      <td>0.708%</td>\n",
       "      <td>3.206%</td>\n",
       "      <td>0.035%</td>\n",
       "      <td>0.698%</td>\n",
       "      <td>0.900%</td>\n",
       "      <td>1.745%</td>\n",
       "      <td>1.043%</td>\n",
       "    </tr>\n",
       "    <tr>\n",
       "      <th>25</th>\n",
       "      <td>z</td>\n",
       "      <td>0.326%</td>\n",
       "      <td>1.134%</td>\n",
       "      <td>0.467%</td>\n",
       "      <td>0.470%</td>\n",
       "      <td>0.494%</td>\n",
       "      <td>1.181%</td>\n",
       "      <td>1.500%</td>\n",
       "      <td>0.070%</td>\n",
       "      <td>4.852%</td>\n",
       "      <td>1.374%</td>\n",
       "      <td>0.034%</td>\n",
       "      <td>0</td>\n",
       "      <td>0.051%</td>\n",
       "      <td>1.503%</td>\n",
       "    </tr>\n",
       "    <tr>\n",
       "      <th>26</th>\n",
       "      <td>ß</td>\n",
       "      <td>0</td>\n",
       "      <td>0.307%</td>\n",
       "      <td>0</td>\n",
       "      <td>0</td>\n",
       "      <td>0</td>\n",
       "      <td>0</td>\n",
       "      <td>0</td>\n",
       "      <td>0</td>\n",
       "      <td>0</td>\n",
       "      <td>0</td>\n",
       "      <td>0</td>\n",
       "      <td>0</td>\n",
       "      <td>0</td>\n",
       "      <td>0</td>\n",
       "    </tr>\n",
       "    <tr>\n",
       "      <th>27</th>\n",
       "      <td>à</td>\n",
       "      <td>0.486%</td>\n",
       "      <td>0</td>\n",
       "      <td>0</td>\n",
       "      <td>0.072%</td>\n",
       "      <td>0</td>\n",
       "      <td>0.635%</td>\n",
       "      <td>0</td>\n",
       "      <td>0</td>\n",
       "      <td>0</td>\n",
       "      <td>0</td>\n",
       "      <td>0</td>\n",
       "      <td>0</td>\n",
       "      <td>0</td>\n",
       "      <td>0</td>\n",
       "    </tr>\n",
       "    <tr>\n",
       "      <th>28</th>\n",
       "      <td>á</td>\n",
       "      <td>0</td>\n",
       "      <td>0</td>\n",
       "      <td>0.502%</td>\n",
       "      <td>0.118%</td>\n",
       "      <td>0</td>\n",
       "      <td>0</td>\n",
       "      <td>0</td>\n",
       "      <td>0</td>\n",
       "      <td>0</td>\n",
       "      <td>0</td>\n",
       "      <td>0</td>\n",
       "      <td>1.799%</td>\n",
       "      <td>0</td>\n",
       "      <td>0.867%</td>\n",
       "    </tr>\n",
       "    <tr>\n",
       "      <th>29</th>\n",
       "      <td>â</td>\n",
       "      <td>0.051%</td>\n",
       "      <td>0</td>\n",
       "      <td>0</td>\n",
       "      <td>0.562%</td>\n",
       "      <td>0</td>\n",
       "      <td>0</td>\n",
       "      <td>0</td>\n",
       "      <td>0</td>\n",
       "      <td>0</td>\n",
       "      <td>0</td>\n",
       "      <td>0</td>\n",
       "      <td>0</td>\n",
       "      <td>0</td>\n",
       "      <td>0</td>\n",
       "    </tr>\n",
       "    <tr>\n",
       "      <th>30</th>\n",
       "      <td>ã</td>\n",
       "      <td>0</td>\n",
       "      <td>0</td>\n",
       "      <td>0</td>\n",
       "      <td>0.733%</td>\n",
       "      <td>0</td>\n",
       "      <td>0</td>\n",
       "      <td>0</td>\n",
       "      <td>0</td>\n",
       "      <td>0</td>\n",
       "      <td>0</td>\n",
       "      <td>0</td>\n",
       "      <td>0</td>\n",
       "      <td>0</td>\n",
       "      <td>0</td>\n",
       "    </tr>\n",
       "    <tr>\n",
       "      <th>31</th>\n",
       "      <td>ä</td>\n",
       "      <td>0</td>\n",
       "      <td>0.578%</td>\n",
       "      <td>0</td>\n",
       "      <td>0</td>\n",
       "      <td>0</td>\n",
       "      <td>0</td>\n",
       "      <td>0</td>\n",
       "      <td>1.797%</td>\n",
       "      <td>0</td>\n",
       "      <td>0</td>\n",
       "      <td>0</td>\n",
       "      <td>0</td>\n",
       "      <td>3.577%</td>\n",
       "      <td>0</td>\n",
       "    </tr>\n",
       "    <tr>\n",
       "      <th>32</th>\n",
       "      <td>å</td>\n",
       "      <td>0</td>\n",
       "      <td>0</td>\n",
       "      <td>0</td>\n",
       "      <td>0</td>\n",
       "      <td>0</td>\n",
       "      <td>0</td>\n",
       "      <td>0</td>\n",
       "      <td>1.338%</td>\n",
       "      <td>0</td>\n",
       "      <td>0</td>\n",
       "      <td>1.190%</td>\n",
       "      <td>0</td>\n",
       "      <td>0.003%</td>\n",
       "      <td>0</td>\n",
       "    </tr>\n",
       "    <tr>\n",
       "      <th>33</th>\n",
       "      <td>æ</td>\n",
       "      <td>0</td>\n",
       "      <td>0</td>\n",
       "      <td>0</td>\n",
       "      <td>0</td>\n",
       "      <td>0</td>\n",
       "      <td>0</td>\n",
       "      <td>0</td>\n",
       "      <td>0</td>\n",
       "      <td>0</td>\n",
       "      <td>0</td>\n",
       "      <td>0.872%</td>\n",
       "      <td>0.867%</td>\n",
       "      <td>0</td>\n",
       "      <td>0</td>\n",
       "    </tr>\n",
       "    <tr>\n",
       "      <th>34</th>\n",
       "      <td>ç</td>\n",
       "      <td>0.085%</td>\n",
       "      <td>0</td>\n",
       "      <td>0</td>\n",
       "      <td>0.530%</td>\n",
       "      <td>0</td>\n",
       "      <td>0</td>\n",
       "      <td>1.156%</td>\n",
       "      <td>0</td>\n",
       "      <td>0</td>\n",
       "      <td>0</td>\n",
       "      <td>0</td>\n",
       "      <td>0</td>\n",
       "      <td>0</td>\n",
       "      <td>0</td>\n",
       "    </tr>\n",
       "    <tr>\n",
       "      <th>35</th>\n",
       "      <td>è</td>\n",
       "      <td>0.271%</td>\n",
       "      <td>0</td>\n",
       "      <td>0</td>\n",
       "      <td>0</td>\n",
       "      <td>0</td>\n",
       "      <td>0.263%</td>\n",
       "      <td>0</td>\n",
       "      <td>0</td>\n",
       "      <td>0</td>\n",
       "      <td>0</td>\n",
       "      <td>0</td>\n",
       "      <td>0</td>\n",
       "      <td>0</td>\n",
       "      <td>0</td>\n",
       "    </tr>\n",
       "    <tr>\n",
       "      <th>36</th>\n",
       "      <td>é</td>\n",
       "      <td>1.504%</td>\n",
       "      <td>0</td>\n",
       "      <td>0.433%</td>\n",
       "      <td>0.337%</td>\n",
       "      <td>0</td>\n",
       "      <td>0</td>\n",
       "      <td>0</td>\n",
       "      <td>0</td>\n",
       "      <td>0</td>\n",
       "      <td>0</td>\n",
       "      <td>0</td>\n",
       "      <td>0.647%</td>\n",
       "      <td>0</td>\n",
       "      <td>0.633%</td>\n",
       "    </tr>\n",
       "    <tr>\n",
       "      <th>37</th>\n",
       "      <td>ê</td>\n",
       "      <td>0.218%</td>\n",
       "      <td>0</td>\n",
       "      <td>0</td>\n",
       "      <td>0.450%</td>\n",
       "      <td>0</td>\n",
       "      <td>0</td>\n",
       "      <td>0</td>\n",
       "      <td>0</td>\n",
       "      <td>0</td>\n",
       "      <td>0</td>\n",
       "      <td>0</td>\n",
       "      <td>0</td>\n",
       "      <td>0</td>\n",
       "      <td>0</td>\n",
       "    </tr>\n",
       "    <tr>\n",
       "      <th>38</th>\n",
       "      <td>ë</td>\n",
       "      <td>0.008%</td>\n",
       "      <td>0</td>\n",
       "      <td>0</td>\n",
       "      <td>0</td>\n",
       "      <td>0</td>\n",
       "      <td>0</td>\n",
       "      <td>0</td>\n",
       "      <td>0</td>\n",
       "      <td>0</td>\n",
       "      <td>0</td>\n",
       "      <td>0</td>\n",
       "      <td>0</td>\n",
       "      <td>0</td>\n",
       "      <td>0</td>\n",
       "    </tr>\n",
       "    <tr>\n",
       "      <th>39</th>\n",
       "      <td>ì</td>\n",
       "      <td>0</td>\n",
       "      <td>0</td>\n",
       "      <td>0</td>\n",
       "      <td>0</td>\n",
       "      <td>0</td>\n",
       "      <td>0.030%</td>\n",
       "      <td>0</td>\n",
       "      <td>0</td>\n",
       "      <td>0</td>\n",
       "      <td>0</td>\n",
       "      <td>0</td>\n",
       "      <td>0</td>\n",
       "      <td>0</td>\n",
       "      <td>0</td>\n",
       "    </tr>\n",
       "    <tr>\n",
       "      <th>40</th>\n",
       "      <td>í</td>\n",
       "      <td>0</td>\n",
       "      <td>0</td>\n",
       "      <td>0.725%</td>\n",
       "      <td>0.132%</td>\n",
       "      <td>0</td>\n",
       "      <td>0</td>\n",
       "      <td>0</td>\n",
       "      <td>0</td>\n",
       "      <td>0</td>\n",
       "      <td>0</td>\n",
       "      <td>0</td>\n",
       "      <td>1.570%</td>\n",
       "      <td>0</td>\n",
       "      <td>1.643%</td>\n",
       "    </tr>\n",
       "    <tr>\n",
       "      <th>41</th>\n",
       "      <td>î</td>\n",
       "      <td>0.045%</td>\n",
       "      <td>0</td>\n",
       "      <td>0</td>\n",
       "      <td>0</td>\n",
       "      <td>0</td>\n",
       "      <td>0</td>\n",
       "      <td>0</td>\n",
       "      <td>0</td>\n",
       "      <td>0</td>\n",
       "      <td>0</td>\n",
       "      <td>0</td>\n",
       "      <td>0</td>\n",
       "      <td>0</td>\n",
       "      <td>0</td>\n",
       "    </tr>\n",
       "    <tr>\n",
       "      <th>42</th>\n",
       "      <td>ï</td>\n",
       "      <td>0.005%</td>\n",
       "      <td>0</td>\n",
       "      <td>0</td>\n",
       "      <td>0</td>\n",
       "      <td>0</td>\n",
       "      <td>0</td>\n",
       "      <td>0</td>\n",
       "      <td>0</td>\n",
       "      <td>0</td>\n",
       "      <td>0</td>\n",
       "      <td>0</td>\n",
       "      <td>0</td>\n",
       "      <td>0</td>\n",
       "      <td>0</td>\n",
       "    </tr>\n",
       "    <tr>\n",
       "      <th>43</th>\n",
       "      <td>ð</td>\n",
       "      <td>0</td>\n",
       "      <td>0</td>\n",
       "      <td>0</td>\n",
       "      <td>0</td>\n",
       "      <td>0</td>\n",
       "      <td>0</td>\n",
       "      <td>0</td>\n",
       "      <td>0</td>\n",
       "      <td>0</td>\n",
       "      <td>0</td>\n",
       "      <td>0</td>\n",
       "      <td>4.393%</td>\n",
       "      <td>0</td>\n",
       "      <td>0</td>\n",
       "    </tr>\n",
       "    <tr>\n",
       "      <th>44</th>\n",
       "      <td>ñ</td>\n",
       "      <td>0</td>\n",
       "      <td>0</td>\n",
       "      <td>0.311%</td>\n",
       "      <td>0</td>\n",
       "      <td>0</td>\n",
       "      <td>0</td>\n",
       "      <td>0</td>\n",
       "      <td>0</td>\n",
       "      <td>0</td>\n",
       "      <td>0</td>\n",
       "      <td>0</td>\n",
       "      <td>0</td>\n",
       "      <td>0</td>\n",
       "      <td>0</td>\n",
       "    </tr>\n",
       "    <tr>\n",
       "      <th>45</th>\n",
       "      <td>ò</td>\n",
       "      <td>0</td>\n",
       "      <td>0</td>\n",
       "      <td>0</td>\n",
       "      <td>0</td>\n",
       "      <td>0</td>\n",
       "      <td>0.002%</td>\n",
       "      <td>0</td>\n",
       "      <td>0</td>\n",
       "      <td>0</td>\n",
       "      <td>0</td>\n",
       "      <td>0</td>\n",
       "      <td>0</td>\n",
       "      <td>0</td>\n",
       "      <td>0</td>\n",
       "    </tr>\n",
       "    <tr>\n",
       "      <th>46</th>\n",
       "      <td>ó</td>\n",
       "      <td>0</td>\n",
       "      <td>0</td>\n",
       "      <td>0.827%</td>\n",
       "      <td>0.296%</td>\n",
       "      <td>0</td>\n",
       "      <td>0</td>\n",
       "      <td>0</td>\n",
       "      <td>0</td>\n",
       "      <td>1.141%</td>\n",
       "      <td>0</td>\n",
       "      <td>0</td>\n",
       "      <td>0.994%</td>\n",
       "      <td>0</td>\n",
       "      <td>0.024%</td>\n",
       "    </tr>\n",
       "    <tr>\n",
       "      <th>47</th>\n",
       "      <td>ô</td>\n",
       "      <td>0.023%</td>\n",
       "      <td>0</td>\n",
       "      <td>0</td>\n",
       "      <td>0.635%</td>\n",
       "      <td>0</td>\n",
       "      <td>0</td>\n",
       "      <td>0</td>\n",
       "      <td>0</td>\n",
       "      <td>0</td>\n",
       "      <td>0</td>\n",
       "      <td>0</td>\n",
       "      <td>0</td>\n",
       "      <td>0</td>\n",
       "      <td>0</td>\n",
       "    </tr>\n",
       "    <tr>\n",
       "      <th>48</th>\n",
       "      <td>ö</td>\n",
       "      <td>0</td>\n",
       "      <td>0.443%</td>\n",
       "      <td>0</td>\n",
       "      <td>0</td>\n",
       "      <td>0</td>\n",
       "      <td>0</td>\n",
       "      <td>0.777%</td>\n",
       "      <td>1.305%</td>\n",
       "      <td>0</td>\n",
       "      <td>0</td>\n",
       "      <td>0</td>\n",
       "      <td>0.777%</td>\n",
       "      <td>0.444%</td>\n",
       "      <td>0</td>\n",
       "    </tr>\n",
       "    <tr>\n",
       "      <th>49</th>\n",
       "      <td>ø</td>\n",
       "      <td>0</td>\n",
       "      <td>0</td>\n",
       "      <td>0</td>\n",
       "      <td>0</td>\n",
       "      <td>0</td>\n",
       "      <td>0</td>\n",
       "      <td>0</td>\n",
       "      <td>0</td>\n",
       "      <td>0</td>\n",
       "      <td>0</td>\n",
       "      <td>0.939%</td>\n",
       "      <td>0</td>\n",
       "      <td>0</td>\n",
       "      <td>0</td>\n",
       "    </tr>\n",
       "  </tbody>\n",
       "</table>\n",
       "</div>"
      ],
      "text/plain": [
       "   Letter   French   German  Spanish Portuguese Esperanto  Italian  Turkish  \\\n",
       "0       a   7.636%   6.516%  11.525%    14.634%   12.117%  11.745%  12.920%   \n",
       "1       b   0.901%   1.886%   2.215%     1.043%    0.980%   0.927%   2.844%   \n",
       "2       c   3.260%   2.732%   4.019%     3.882%    0.776%   4.501%   1.463%   \n",
       "3       d   3.669%   5.076%   5.010%     4.992%    3.044%   3.736%   5.206%   \n",
       "4       e  14.715%  16.396%  12.181%    12.570%    8.995%  11.792%   9.912%   \n",
       "5       f   1.066%   1.656%   0.692%     1.023%    1.037%   1.153%   0.461%   \n",
       "6       g   0.866%   3.009%   1.768%     1.303%    1.171%   1.644%   1.253%   \n",
       "7       h   0.737%   4.577%   0.703%     0.781%    0.384%   0.636%   1.212%   \n",
       "8       i   7.529%   6.550%   6.247%     6.186%   10.012%  10.143%  9.600%*   \n",
       "9       j   0.613%   0.268%   0.493%     0.397%    3.501%   0.011%   0.034%   \n",
       "10      k   0.049%   1.417%   0.011%     0.015%    4.163%   0.009%   5.683%   \n",
       "11      l   5.456%   3.437%   4.967%     2.779%    6.104%   6.510%   5.922%   \n",
       "12      m   2.968%   2.534%   3.157%     4.738%    2.994%   2.512%   3.752%   \n",
       "13      n   7.095%   9.776%   6.712%     4.446%    7.955%   6.883%   7.987%   \n",
       "14      o   5.796%   2.594%   8.683%     9.735%    8.779%   9.832%   2.976%   \n",
       "15      p   2.521%   0.670%   2.510%     2.523%    2.755%   3.056%   0.886%   \n",
       "16      q   1.362%   0.018%   0.877%     1.204%         0   0.505%        0   \n",
       "17      r   6.693%   7.003%   6.871%     6.530%    5.914%   6.367%   7.722%   \n",
       "18      s   7.948%   7.270%   7.977%     6.805%    6.092%   4.981%   3.014%   \n",
       "19      t   7.244%   6.154%   4.632%     4.336%    5.276%   5.623%   3.314%   \n",
       "20      u   6.311%   4.166%   2.927%     3.639%    3.183%   3.011%   3.235%   \n",
       "21      v   1.838%   0.846%   1.138%     1.575%    1.904%   2.097%   0.959%   \n",
       "22      w   0.074%   1.921%   0.017%     0.037%         0   0.033%        0   \n",
       "23      x   0.427%   0.034%   0.215%     0.253%         0   0.003%        0   \n",
       "24      y   0.128%   0.039%   1.008%     0.006%         0   0.020%   3.336%   \n",
       "25      z   0.326%   1.134%   0.467%     0.470%    0.494%   1.181%   1.500%   \n",
       "26      ß        0   0.307%        0          0         0        0        0   \n",
       "27      à   0.486%        0        0     0.072%         0   0.635%        0   \n",
       "28      á        0        0   0.502%     0.118%         0        0        0   \n",
       "29      â   0.051%        0        0     0.562%         0        0        0   \n",
       "30      ã        0        0        0     0.733%         0        0        0   \n",
       "31      ä        0   0.578%        0          0         0        0        0   \n",
       "32      å        0        0        0          0         0        0        0   \n",
       "33      æ        0        0        0          0         0        0        0   \n",
       "34      ç   0.085%        0        0     0.530%         0        0   1.156%   \n",
       "35      è   0.271%        0        0          0         0   0.263%        0   \n",
       "36      é   1.504%        0   0.433%     0.337%         0        0        0   \n",
       "37      ê   0.218%        0        0     0.450%         0        0        0   \n",
       "38      ë   0.008%        0        0          0         0        0        0   \n",
       "39      ì        0        0        0          0         0   0.030%        0   \n",
       "40      í        0        0   0.725%     0.132%         0        0        0   \n",
       "41      î   0.045%        0        0          0         0        0        0   \n",
       "42      ï   0.005%        0        0          0         0        0        0   \n",
       "43      ð        0        0        0          0         0        0        0   \n",
       "44      ñ        0        0   0.311%          0         0        0        0   \n",
       "45      ò        0        0        0          0         0   0.002%        0   \n",
       "46      ó        0        0   0.827%     0.296%         0        0        0   \n",
       "47      ô   0.023%        0        0     0.635%         0        0        0   \n",
       "48      ö        0   0.443%        0          0         0        0   0.777%   \n",
       "49      ø        0        0        0          0         0        0        0   \n",
       "\n",
       "    Swedish   Polish    Dutch   Danish Icelandic  Finnish   Czech  \n",
       "0    9.383%  10.503%   7.486%   6.025%   10.110%  12.217%  8.421%  \n",
       "1    1.535%   1.740%   1.584%   2.000%    1.043%   0.281%  0.822%  \n",
       "2    1.486%   3.895%   1.242%   0.565%         0   0.281%  0.740%  \n",
       "3    4.702%   3.725%   5.933%   5.858%    1.575%   1.043%  3.475%  \n",
       "4   10.149%   7.352%  17.324%  15.453%    6.418%   7.968%  7.562%  \n",
       "5    2.027%   0.143%   0.805%   2.406%    3.013%   0.194%  0.084%  \n",
       "6    2.862%   1.731%   3.403%   4.077%    4.241%   0.392%  0.092%  \n",
       "7    2.090%   1.015%   2.380%   1.621%    1.871%   1.851%  1.356%  \n",
       "8    5.817%   8.328%   6.499%   6.000%    7.578%  10.817%  6.073%  \n",
       "9    0.614%   1.836%   1.461%   0.730%    1.144%   2.042%  1.433%  \n",
       "10   3.140%   2.753%   2.248%   3.395%    3.314%   4.973%  2.894%  \n",
       "11   5.275%   2.564%   3.568%   5.229%    4.532%   5.761%  3.802%  \n",
       "12   3.471%   2.515%   2.213%   3.237%    4.041%   3.202%  2.446%  \n",
       "13   8.542%   6.237%  10.032%   7.240%    7.711%   8.826%  6.468%  \n",
       "14   4.482%   6.667%   6.063%   4.636%    2.166%   5.614%  6.695%  \n",
       "15   1.839%   2.445%   1.370%   1.756%    0.789%   1.842%  1.906%  \n",
       "16   0.020%        0   0.009%   0.007%         0   0.013%  0.001%  \n",
       "17   8.431%   5.243%   6.411%   8.956%    8.581%   2.872%  4.799%  \n",
       "18   6.590%   5.224%   5.733%   5.805%    5.630%   7.862%  5.212%  \n",
       "19   7.691%   2.475%   6.923%   6.862%    4.953%   8.750%  5.727%  \n",
       "20   1.919%   2.062%   2.192%   1.979%    4.562%   5.008%  2.160%  \n",
       "21   2.415%   0.012%   1.854%   2.332%    2.437%   2.250%  5.344%  \n",
       "22   0.142%   5.813%   1.821%   0.069%         0   0.094%  0.016%  \n",
       "23   0.159%   0.004%   0.036%   0.028%    0.046%   0.031%  0.027%  \n",
       "24   0.708%   3.206%   0.035%   0.698%    0.900%   1.745%  1.043%  \n",
       "25   0.070%   4.852%   1.374%   0.034%         0   0.051%  1.503%  \n",
       "26        0        0        0        0         0        0       0  \n",
       "27        0        0        0        0         0        0       0  \n",
       "28        0        0        0        0    1.799%        0  0.867%  \n",
       "29        0        0        0        0         0        0       0  \n",
       "30        0        0        0        0         0        0       0  \n",
       "31   1.797%        0        0        0         0   3.577%       0  \n",
       "32   1.338%        0        0   1.190%         0   0.003%       0  \n",
       "33        0        0        0   0.872%    0.867%        0       0  \n",
       "34        0        0        0        0         0        0       0  \n",
       "35        0        0        0        0         0        0       0  \n",
       "36        0        0        0        0    0.647%        0  0.633%  \n",
       "37        0        0        0        0         0        0       0  \n",
       "38        0        0        0        0         0        0       0  \n",
       "39        0        0        0        0         0        0       0  \n",
       "40        0        0        0        0    1.570%        0  1.643%  \n",
       "41        0        0        0        0         0        0       0  \n",
       "42        0        0        0        0         0        0       0  \n",
       "43        0        0        0        0    4.393%        0       0  \n",
       "44        0        0        0        0         0        0       0  \n",
       "45        0        0        0        0         0        0       0  \n",
       "46        0   1.141%        0        0    0.994%        0  0.024%  \n",
       "47        0        0        0        0         0        0       0  \n",
       "48   1.305%        0        0        0    0.777%   0.444%       0  \n",
       "49        0        0        0   0.939%         0        0       0  "
      ]
     },
     "execution_count": 233,
     "metadata": {},
     "output_type": "execute_result"
    }
   ],
   "source": [
    "lf_df = pd.read_csv(\"letter-frequencies.csv\", skiprows = 0, sep=';')\n",
    "# show the content of the dataframe with our reference data\n",
    "lf_df.head(50)"
   ]
  },
  {
   "cell_type": "code",
   "execution_count": 234,
   "metadata": {},
   "outputs": [],
   "source": [
    "# create a list of all letters (to iterate through later on)\n",
    "all_letters = lf_df['Letter'].to_list()"
   ]
  },
  {
   "cell_type": "code",
   "execution_count": 235,
   "metadata": {},
   "outputs": [
    {
     "data": {
      "text/html": [
       "<div>\n",
       "<style scoped>\n",
       "    .dataframe tbody tr th:only-of-type {\n",
       "        vertical-align: middle;\n",
       "    }\n",
       "\n",
       "    .dataframe tbody tr th {\n",
       "        vertical-align: top;\n",
       "    }\n",
       "\n",
       "    .dataframe thead th {\n",
       "        text-align: right;\n",
       "    }\n",
       "</style>\n",
       "<table border=\"1\" class=\"dataframe\">\n",
       "  <thead>\n",
       "    <tr style=\"text-align: right;\">\n",
       "      <th></th>\n",
       "      <th>letter</th>\n",
       "      <th>language</th>\n",
       "      <th>value</th>\n",
       "    </tr>\n",
       "  </thead>\n",
       "  <tbody>\n",
       "    <tr>\n",
       "      <th>0</th>\n",
       "      <td>a</td>\n",
       "      <td>French</td>\n",
       "      <td>7.636%</td>\n",
       "    </tr>\n",
       "    <tr>\n",
       "      <th>1</th>\n",
       "      <td>b</td>\n",
       "      <td>French</td>\n",
       "      <td>0.901%</td>\n",
       "    </tr>\n",
       "    <tr>\n",
       "      <th>2</th>\n",
       "      <td>c</td>\n",
       "      <td>French</td>\n",
       "      <td>3.260%</td>\n",
       "    </tr>\n",
       "    <tr>\n",
       "      <th>3</th>\n",
       "      <td>d</td>\n",
       "      <td>French</td>\n",
       "      <td>3.669%</td>\n",
       "    </tr>\n",
       "    <tr>\n",
       "      <th>4</th>\n",
       "      <td>e</td>\n",
       "      <td>French</td>\n",
       "      <td>14.715%</td>\n",
       "    </tr>\n",
       "    <tr>\n",
       "      <th>5</th>\n",
       "      <td>f</td>\n",
       "      <td>French</td>\n",
       "      <td>1.066%</td>\n",
       "    </tr>\n",
       "    <tr>\n",
       "      <th>6</th>\n",
       "      <td>g</td>\n",
       "      <td>French</td>\n",
       "      <td>0.866%</td>\n",
       "    </tr>\n",
       "    <tr>\n",
       "      <th>7</th>\n",
       "      <td>h</td>\n",
       "      <td>French</td>\n",
       "      <td>0.737%</td>\n",
       "    </tr>\n",
       "    <tr>\n",
       "      <th>8</th>\n",
       "      <td>i</td>\n",
       "      <td>French</td>\n",
       "      <td>7.529%</td>\n",
       "    </tr>\n",
       "    <tr>\n",
       "      <th>9</th>\n",
       "      <td>j</td>\n",
       "      <td>French</td>\n",
       "      <td>0.613%</td>\n",
       "    </tr>\n",
       "  </tbody>\n",
       "</table>\n",
       "</div>"
      ],
      "text/plain": [
       "  letter language    value\n",
       "0      a   French   7.636%\n",
       "1      b   French   0.901%\n",
       "2      c   French   3.260%\n",
       "3      d   French   3.669%\n",
       "4      e   French  14.715%\n",
       "5      f   French   1.066%\n",
       "6      g   French   0.866%\n",
       "7      h   French   0.737%\n",
       "8      i   French   7.529%\n",
       "9      j   French   0.613%"
      ]
     },
     "execution_count": 235,
     "metadata": {},
     "output_type": "execute_result"
    }
   ],
   "source": [
    "# I want this shape for the data frame: three columns - Letter,  Language,  Frequency\n",
    "# using melt (see https://hackernoon.com/reshaping-data-in-python-fa27dda2ff77) to to an unpivot and create a long format\n",
    "\n",
    "df = pd.melt(lf_df, id_vars='Letter', value_vars=['French','German','Spanish','Portuguese','Esperanto','Italian','Turkish','Swedish','Polish','Dutch','Danish','Icelandic','Finnish','Czech'])\n",
    "df.rename(columns={\"variable\": \"language\",\"Letter\": \"letter\"}, inplace=True)\n",
    "df.head(10)"
   ]
  },
  {
   "cell_type": "code",
   "execution_count": 236,
   "metadata": {},
   "outputs": [
    {
     "data": {
      "text/html": [
       "<div>\n",
       "<style scoped>\n",
       "    .dataframe tbody tr th:only-of-type {\n",
       "        vertical-align: middle;\n",
       "    }\n",
       "\n",
       "    .dataframe tbody tr th {\n",
       "        vertical-align: top;\n",
       "    }\n",
       "\n",
       "    .dataframe thead th {\n",
       "        text-align: right;\n",
       "    }\n",
       "</style>\n",
       "<table border=\"1\" class=\"dataframe\">\n",
       "  <thead>\n",
       "    <tr style=\"text-align: right;\">\n",
       "      <th></th>\n",
       "      <th>letter</th>\n",
       "      <th>language</th>\n",
       "      <th>value</th>\n",
       "      <th>frequency</th>\n",
       "    </tr>\n",
       "  </thead>\n",
       "  <tbody>\n",
       "    <tr>\n",
       "      <th>0</th>\n",
       "      <td>a</td>\n",
       "      <td>French</td>\n",
       "      <td>7.636%</td>\n",
       "      <td>7.636</td>\n",
       "    </tr>\n",
       "    <tr>\n",
       "      <th>1</th>\n",
       "      <td>b</td>\n",
       "      <td>French</td>\n",
       "      <td>0.901%</td>\n",
       "      <td>0.901</td>\n",
       "    </tr>\n",
       "    <tr>\n",
       "      <th>2</th>\n",
       "      <td>c</td>\n",
       "      <td>French</td>\n",
       "      <td>3.260%</td>\n",
       "      <td>3.260</td>\n",
       "    </tr>\n",
       "    <tr>\n",
       "      <th>3</th>\n",
       "      <td>d</td>\n",
       "      <td>French</td>\n",
       "      <td>3.669%</td>\n",
       "      <td>3.669</td>\n",
       "    </tr>\n",
       "    <tr>\n",
       "      <th>4</th>\n",
       "      <td>e</td>\n",
       "      <td>French</td>\n",
       "      <td>14.715%</td>\n",
       "      <td>14.715</td>\n",
       "    </tr>\n",
       "  </tbody>\n",
       "</table>\n",
       "</div>"
      ],
      "text/plain": [
       "  letter language    value  frequency\n",
       "0      a   French   7.636%      7.636\n",
       "1      b   French   0.901%      0.901\n",
       "2      c   French   3.260%      3.260\n",
       "3      d   French   3.669%      3.669\n",
       "4      e   French  14.715%     14.715"
      ]
     },
     "execution_count": 236,
     "metadata": {},
     "output_type": "execute_result"
    }
   ],
   "source": [
    "# the value column should contain numeric values, not strings only representing a percentage\n",
    "df['frequency']= df['value'].apply(lambda percentage_string: float(percentage_string.replace('%','').replace('*','')))\n",
    "df.head(5)"
   ]
  },
  {
   "cell_type": "markdown",
   "metadata": {},
   "source": [
    "Show a bar chart with the fingerprint for French"
   ]
  },
  {
   "cell_type": "code",
   "execution_count": 237,
   "metadata": {},
   "outputs": [
    {
     "data": {
      "application/vnd.plotly.v1+json": {
       "config": {
        "plotlyServerURL": "https://plot.ly"
       },
       "data": [
        {
         "alignmentgroup": "True",
         "hoverlabel": {
          "namelength": 0
         },
         "hovertemplate": "language=French<br>letter=%{x}<br>frequency=%{y}",
         "legendgroup": "language=French",
         "marker": {
          "color": "#636efa"
         },
         "name": "language=French",
         "offsetgroup": "language=French",
         "orientation": "v",
         "showlegend": true,
         "textposition": "auto",
         "type": "bar",
         "x": [
          "a",
          "b",
          "c",
          "d",
          "e",
          "f",
          "g",
          "h",
          "i",
          "j",
          "l",
          "m",
          "n",
          "o",
          "p",
          "q",
          "r",
          "s",
          "t",
          "u",
          "v",
          "w",
          "x",
          "y",
          "z",
          "à",
          "â",
          "ç",
          "è",
          "é",
          "ê",
          "ù"
         ],
         "xaxis": "x",
         "y": [
          7.636,
          0.901,
          3.26,
          3.669,
          14.715,
          1.066,
          0.866,
          0.737,
          7.529,
          0.613,
          5.456,
          2.968,
          7.095,
          5.796,
          2.521,
          1.362,
          6.693,
          7.948,
          7.244,
          6.311,
          1.838,
          0.074,
          0.427,
          0.128,
          0.326,
          0.486,
          0.051,
          0.085,
          0.271,
          1.504,
          0.218,
          0.058
         ],
         "yaxis": "y"
        }
       ],
       "layout": {
        "barmode": "group",
        "height": 600,
        "legend": {
         "tracegroupgap": 0
        },
        "margin": {
         "t": 60
        },
        "template": {
         "data": {
          "bar": [
           {
            "error_x": {
             "color": "#2a3f5f"
            },
            "error_y": {
             "color": "#2a3f5f"
            },
            "marker": {
             "line": {
              "color": "#E5ECF6",
              "width": 0.5
             }
            },
            "type": "bar"
           }
          ],
          "barpolar": [
           {
            "marker": {
             "line": {
              "color": "#E5ECF6",
              "width": 0.5
             }
            },
            "type": "barpolar"
           }
          ],
          "carpet": [
           {
            "aaxis": {
             "endlinecolor": "#2a3f5f",
             "gridcolor": "white",
             "linecolor": "white",
             "minorgridcolor": "white",
             "startlinecolor": "#2a3f5f"
            },
            "baxis": {
             "endlinecolor": "#2a3f5f",
             "gridcolor": "white",
             "linecolor": "white",
             "minorgridcolor": "white",
             "startlinecolor": "#2a3f5f"
            },
            "type": "carpet"
           }
          ],
          "choropleth": [
           {
            "colorbar": {
             "outlinewidth": 0,
             "ticks": ""
            },
            "type": "choropleth"
           }
          ],
          "contour": [
           {
            "colorbar": {
             "outlinewidth": 0,
             "ticks": ""
            },
            "colorscale": [
             [
              0,
              "#0d0887"
             ],
             [
              0.1111111111111111,
              "#46039f"
             ],
             [
              0.2222222222222222,
              "#7201a8"
             ],
             [
              0.3333333333333333,
              "#9c179e"
             ],
             [
              0.4444444444444444,
              "#bd3786"
             ],
             [
              0.5555555555555556,
              "#d8576b"
             ],
             [
              0.6666666666666666,
              "#ed7953"
             ],
             [
              0.7777777777777778,
              "#fb9f3a"
             ],
             [
              0.8888888888888888,
              "#fdca26"
             ],
             [
              1,
              "#f0f921"
             ]
            ],
            "type": "contour"
           }
          ],
          "contourcarpet": [
           {
            "colorbar": {
             "outlinewidth": 0,
             "ticks": ""
            },
            "type": "contourcarpet"
           }
          ],
          "heatmap": [
           {
            "colorbar": {
             "outlinewidth": 0,
             "ticks": ""
            },
            "colorscale": [
             [
              0,
              "#0d0887"
             ],
             [
              0.1111111111111111,
              "#46039f"
             ],
             [
              0.2222222222222222,
              "#7201a8"
             ],
             [
              0.3333333333333333,
              "#9c179e"
             ],
             [
              0.4444444444444444,
              "#bd3786"
             ],
             [
              0.5555555555555556,
              "#d8576b"
             ],
             [
              0.6666666666666666,
              "#ed7953"
             ],
             [
              0.7777777777777778,
              "#fb9f3a"
             ],
             [
              0.8888888888888888,
              "#fdca26"
             ],
             [
              1,
              "#f0f921"
             ]
            ],
            "type": "heatmap"
           }
          ],
          "heatmapgl": [
           {
            "colorbar": {
             "outlinewidth": 0,
             "ticks": ""
            },
            "colorscale": [
             [
              0,
              "#0d0887"
             ],
             [
              0.1111111111111111,
              "#46039f"
             ],
             [
              0.2222222222222222,
              "#7201a8"
             ],
             [
              0.3333333333333333,
              "#9c179e"
             ],
             [
              0.4444444444444444,
              "#bd3786"
             ],
             [
              0.5555555555555556,
              "#d8576b"
             ],
             [
              0.6666666666666666,
              "#ed7953"
             ],
             [
              0.7777777777777778,
              "#fb9f3a"
             ],
             [
              0.8888888888888888,
              "#fdca26"
             ],
             [
              1,
              "#f0f921"
             ]
            ],
            "type": "heatmapgl"
           }
          ],
          "histogram": [
           {
            "marker": {
             "colorbar": {
              "outlinewidth": 0,
              "ticks": ""
             }
            },
            "type": "histogram"
           }
          ],
          "histogram2d": [
           {
            "colorbar": {
             "outlinewidth": 0,
             "ticks": ""
            },
            "colorscale": [
             [
              0,
              "#0d0887"
             ],
             [
              0.1111111111111111,
              "#46039f"
             ],
             [
              0.2222222222222222,
              "#7201a8"
             ],
             [
              0.3333333333333333,
              "#9c179e"
             ],
             [
              0.4444444444444444,
              "#bd3786"
             ],
             [
              0.5555555555555556,
              "#d8576b"
             ],
             [
              0.6666666666666666,
              "#ed7953"
             ],
             [
              0.7777777777777778,
              "#fb9f3a"
             ],
             [
              0.8888888888888888,
              "#fdca26"
             ],
             [
              1,
              "#f0f921"
             ]
            ],
            "type": "histogram2d"
           }
          ],
          "histogram2dcontour": [
           {
            "colorbar": {
             "outlinewidth": 0,
             "ticks": ""
            },
            "colorscale": [
             [
              0,
              "#0d0887"
             ],
             [
              0.1111111111111111,
              "#46039f"
             ],
             [
              0.2222222222222222,
              "#7201a8"
             ],
             [
              0.3333333333333333,
              "#9c179e"
             ],
             [
              0.4444444444444444,
              "#bd3786"
             ],
             [
              0.5555555555555556,
              "#d8576b"
             ],
             [
              0.6666666666666666,
              "#ed7953"
             ],
             [
              0.7777777777777778,
              "#fb9f3a"
             ],
             [
              0.8888888888888888,
              "#fdca26"
             ],
             [
              1,
              "#f0f921"
             ]
            ],
            "type": "histogram2dcontour"
           }
          ],
          "mesh3d": [
           {
            "colorbar": {
             "outlinewidth": 0,
             "ticks": ""
            },
            "type": "mesh3d"
           }
          ],
          "parcoords": [
           {
            "line": {
             "colorbar": {
              "outlinewidth": 0,
              "ticks": ""
             }
            },
            "type": "parcoords"
           }
          ],
          "scatter": [
           {
            "marker": {
             "colorbar": {
              "outlinewidth": 0,
              "ticks": ""
             }
            },
            "type": "scatter"
           }
          ],
          "scatter3d": [
           {
            "line": {
             "colorbar": {
              "outlinewidth": 0,
              "ticks": ""
             }
            },
            "marker": {
             "colorbar": {
              "outlinewidth": 0,
              "ticks": ""
             }
            },
            "type": "scatter3d"
           }
          ],
          "scattercarpet": [
           {
            "marker": {
             "colorbar": {
              "outlinewidth": 0,
              "ticks": ""
             }
            },
            "type": "scattercarpet"
           }
          ],
          "scattergeo": [
           {
            "marker": {
             "colorbar": {
              "outlinewidth": 0,
              "ticks": ""
             }
            },
            "type": "scattergeo"
           }
          ],
          "scattergl": [
           {
            "marker": {
             "colorbar": {
              "outlinewidth": 0,
              "ticks": ""
             }
            },
            "type": "scattergl"
           }
          ],
          "scattermapbox": [
           {
            "marker": {
             "colorbar": {
              "outlinewidth": 0,
              "ticks": ""
             }
            },
            "type": "scattermapbox"
           }
          ],
          "scatterpolar": [
           {
            "marker": {
             "colorbar": {
              "outlinewidth": 0,
              "ticks": ""
             }
            },
            "type": "scatterpolar"
           }
          ],
          "scatterpolargl": [
           {
            "marker": {
             "colorbar": {
              "outlinewidth": 0,
              "ticks": ""
             }
            },
            "type": "scatterpolargl"
           }
          ],
          "scatterternary": [
           {
            "marker": {
             "colorbar": {
              "outlinewidth": 0,
              "ticks": ""
             }
            },
            "type": "scatterternary"
           }
          ],
          "surface": [
           {
            "colorbar": {
             "outlinewidth": 0,
             "ticks": ""
            },
            "colorscale": [
             [
              0,
              "#0d0887"
             ],
             [
              0.1111111111111111,
              "#46039f"
             ],
             [
              0.2222222222222222,
              "#7201a8"
             ],
             [
              0.3333333333333333,
              "#9c179e"
             ],
             [
              0.4444444444444444,
              "#bd3786"
             ],
             [
              0.5555555555555556,
              "#d8576b"
             ],
             [
              0.6666666666666666,
              "#ed7953"
             ],
             [
              0.7777777777777778,
              "#fb9f3a"
             ],
             [
              0.8888888888888888,
              "#fdca26"
             ],
             [
              1,
              "#f0f921"
             ]
            ],
            "type": "surface"
           }
          ],
          "table": [
           {
            "cells": {
             "fill": {
              "color": "#EBF0F8"
             },
             "line": {
              "color": "white"
             }
            },
            "header": {
             "fill": {
              "color": "#C8D4E3"
             },
             "line": {
              "color": "white"
             }
            },
            "type": "table"
           }
          ]
         },
         "layout": {
          "annotationdefaults": {
           "arrowcolor": "#2a3f5f",
           "arrowhead": 0,
           "arrowwidth": 1
          },
          "colorscale": {
           "diverging": [
            [
             0,
             "#8e0152"
            ],
            [
             0.1,
             "#c51b7d"
            ],
            [
             0.2,
             "#de77ae"
            ],
            [
             0.3,
             "#f1b6da"
            ],
            [
             0.4,
             "#fde0ef"
            ],
            [
             0.5,
             "#f7f7f7"
            ],
            [
             0.6,
             "#e6f5d0"
            ],
            [
             0.7,
             "#b8e186"
            ],
            [
             0.8,
             "#7fbc41"
            ],
            [
             0.9,
             "#4d9221"
            ],
            [
             1,
             "#276419"
            ]
           ],
           "sequential": [
            [
             0,
             "#0d0887"
            ],
            [
             0.1111111111111111,
             "#46039f"
            ],
            [
             0.2222222222222222,
             "#7201a8"
            ],
            [
             0.3333333333333333,
             "#9c179e"
            ],
            [
             0.4444444444444444,
             "#bd3786"
            ],
            [
             0.5555555555555556,
             "#d8576b"
            ],
            [
             0.6666666666666666,
             "#ed7953"
            ],
            [
             0.7777777777777778,
             "#fb9f3a"
            ],
            [
             0.8888888888888888,
             "#fdca26"
            ],
            [
             1,
             "#f0f921"
            ]
           ],
           "sequentialminus": [
            [
             0,
             "#0d0887"
            ],
            [
             0.1111111111111111,
             "#46039f"
            ],
            [
             0.2222222222222222,
             "#7201a8"
            ],
            [
             0.3333333333333333,
             "#9c179e"
            ],
            [
             0.4444444444444444,
             "#bd3786"
            ],
            [
             0.5555555555555556,
             "#d8576b"
            ],
            [
             0.6666666666666666,
             "#ed7953"
            ],
            [
             0.7777777777777778,
             "#fb9f3a"
            ],
            [
             0.8888888888888888,
             "#fdca26"
            ],
            [
             1,
             "#f0f921"
            ]
           ]
          },
          "colorway": [
           "#636efa",
           "#EF553B",
           "#00cc96",
           "#ab63fa",
           "#FFA15A",
           "#19d3f3",
           "#FF6692",
           "#B6E880",
           "#FF97FF",
           "#FECB52"
          ],
          "font": {
           "color": "#2a3f5f"
          },
          "geo": {
           "bgcolor": "white",
           "lakecolor": "white",
           "landcolor": "#E5ECF6",
           "showlakes": true,
           "showland": true,
           "subunitcolor": "white"
          },
          "hoverlabel": {
           "align": "left"
          },
          "hovermode": "closest",
          "mapbox": {
           "style": "light"
          },
          "paper_bgcolor": "white",
          "plot_bgcolor": "#E5ECF6",
          "polar": {
           "angularaxis": {
            "gridcolor": "white",
            "linecolor": "white",
            "ticks": ""
           },
           "bgcolor": "#E5ECF6",
           "radialaxis": {
            "gridcolor": "white",
            "linecolor": "white",
            "ticks": ""
           }
          },
          "scene": {
           "xaxis": {
            "backgroundcolor": "#E5ECF6",
            "gridcolor": "white",
            "gridwidth": 2,
            "linecolor": "white",
            "showbackground": true,
            "ticks": "",
            "zerolinecolor": "white"
           },
           "yaxis": {
            "backgroundcolor": "#E5ECF6",
            "gridcolor": "white",
            "gridwidth": 2,
            "linecolor": "white",
            "showbackground": true,
            "ticks": "",
            "zerolinecolor": "white"
           },
           "zaxis": {
            "backgroundcolor": "#E5ECF6",
            "gridcolor": "white",
            "gridwidth": 2,
            "linecolor": "white",
            "showbackground": true,
            "ticks": "",
            "zerolinecolor": "white"
           }
          },
          "shapedefaults": {
           "line": {
            "color": "#2a3f5f"
           }
          },
          "ternary": {
           "aaxis": {
            "gridcolor": "white",
            "linecolor": "white",
            "ticks": ""
           },
           "baxis": {
            "gridcolor": "white",
            "linecolor": "white",
            "ticks": ""
           },
           "bgcolor": "#E5ECF6",
           "caxis": {
            "gridcolor": "white",
            "linecolor": "white",
            "ticks": ""
           }
          },
          "title": {
           "x": 0.05
          },
          "xaxis": {
           "automargin": true,
           "gridcolor": "white",
           "linecolor": "white",
           "ticks": "",
           "zerolinecolor": "white",
           "zerolinewidth": 2
          },
          "yaxis": {
           "automargin": true,
           "gridcolor": "white",
           "linecolor": "white",
           "ticks": "",
           "zerolinecolor": "white",
           "zerolinewidth": 2
          }
         }
        },
        "title": {
         "text": "Bar Chart with Relative Frequencies per Letter in French"
        },
        "xaxis": {
         "anchor": "y",
         "domain": [
          0,
          0.98
         ],
         "title": {
          "text": "letter"
         }
        },
        "yaxis": {
         "anchor": "x",
         "domain": [
          0,
          1
         ],
         "range": [
          0,
          15
         ],
         "title": {
          "text": "frequency"
         }
        }
       }
      },
      "text/html": [
       "<div>\n",
       "        \n",
       "        \n",
       "            <div id=\"deb86f2e-fd90-40e6-9eab-13f2b7d926d4\" class=\"plotly-graph-div\" style=\"height:600px; width:100%;\"></div>\n",
       "            <script type=\"text/javascript\">\n",
       "                require([\"plotly\"], function(Plotly) {\n",
       "                    window.PLOTLYENV=window.PLOTLYENV || {};\n",
       "                    \n",
       "                if (document.getElementById(\"deb86f2e-fd90-40e6-9eab-13f2b7d926d4\")) {\n",
       "                    Plotly.newPlot(\n",
       "                        'deb86f2e-fd90-40e6-9eab-13f2b7d926d4',\n",
       "                        [{\"alignmentgroup\": \"True\", \"hoverlabel\": {\"namelength\": 0}, \"hovertemplate\": \"language=French<br>letter=%{x}<br>frequency=%{y}\", \"legendgroup\": \"language=French\", \"marker\": {\"color\": \"#636efa\"}, \"name\": \"language=French\", \"offsetgroup\": \"language=French\", \"orientation\": \"v\", \"showlegend\": true, \"textposition\": \"auto\", \"type\": \"bar\", \"x\": [\"a\", \"b\", \"c\", \"d\", \"e\", \"f\", \"g\", \"h\", \"i\", \"j\", \"l\", \"m\", \"n\", \"o\", \"p\", \"q\", \"r\", \"s\", \"t\", \"u\", \"v\", \"w\", \"x\", \"y\", \"z\", \"\\u00e0\", \"\\u00e2\", \"\\u00e7\", \"\\u00e8\", \"\\u00e9\", \"\\u00ea\", \"\\u00f9\"], \"xaxis\": \"x\", \"y\": [7.636, 0.901, 3.26, 3.669, 14.715, 1.066, 0.866, 0.737, 7.529, 0.613, 5.456, 2.968, 7.095, 5.796, 2.521, 1.362, 6.693, 7.948, 7.244, 6.311, 1.838, 0.074, 0.427, 0.128, 0.326, 0.486, 0.051, 0.085, 0.271, 1.504, 0.218, 0.058], \"yaxis\": \"y\"}],\n",
       "                        {\"barmode\": \"group\", \"height\": 600, \"legend\": {\"tracegroupgap\": 0}, \"margin\": {\"t\": 60}, \"template\": {\"data\": {\"bar\": [{\"error_x\": {\"color\": \"#2a3f5f\"}, \"error_y\": {\"color\": \"#2a3f5f\"}, \"marker\": {\"line\": {\"color\": \"#E5ECF6\", \"width\": 0.5}}, \"type\": \"bar\"}], \"barpolar\": [{\"marker\": {\"line\": {\"color\": \"#E5ECF6\", \"width\": 0.5}}, \"type\": \"barpolar\"}], \"carpet\": [{\"aaxis\": {\"endlinecolor\": \"#2a3f5f\", \"gridcolor\": \"white\", \"linecolor\": \"white\", \"minorgridcolor\": \"white\", \"startlinecolor\": \"#2a3f5f\"}, \"baxis\": {\"endlinecolor\": \"#2a3f5f\", \"gridcolor\": \"white\", \"linecolor\": \"white\", \"minorgridcolor\": \"white\", \"startlinecolor\": \"#2a3f5f\"}, \"type\": \"carpet\"}], \"choropleth\": [{\"colorbar\": {\"outlinewidth\": 0, \"ticks\": \"\"}, \"type\": \"choropleth\"}], \"contour\": [{\"colorbar\": {\"outlinewidth\": 0, \"ticks\": \"\"}, \"colorscale\": [[0.0, \"#0d0887\"], [0.1111111111111111, \"#46039f\"], [0.2222222222222222, \"#7201a8\"], [0.3333333333333333, \"#9c179e\"], [0.4444444444444444, \"#bd3786\"], [0.5555555555555556, \"#d8576b\"], [0.6666666666666666, \"#ed7953\"], [0.7777777777777778, \"#fb9f3a\"], [0.8888888888888888, \"#fdca26\"], [1.0, \"#f0f921\"]], \"type\": \"contour\"}], \"contourcarpet\": [{\"colorbar\": {\"outlinewidth\": 0, \"ticks\": \"\"}, \"type\": \"contourcarpet\"}], \"heatmap\": [{\"colorbar\": {\"outlinewidth\": 0, \"ticks\": \"\"}, \"colorscale\": [[0.0, \"#0d0887\"], [0.1111111111111111, \"#46039f\"], [0.2222222222222222, \"#7201a8\"], [0.3333333333333333, \"#9c179e\"], [0.4444444444444444, \"#bd3786\"], [0.5555555555555556, \"#d8576b\"], [0.6666666666666666, \"#ed7953\"], [0.7777777777777778, \"#fb9f3a\"], [0.8888888888888888, \"#fdca26\"], [1.0, \"#f0f921\"]], \"type\": \"heatmap\"}], \"heatmapgl\": [{\"colorbar\": {\"outlinewidth\": 0, \"ticks\": \"\"}, \"colorscale\": [[0.0, \"#0d0887\"], [0.1111111111111111, \"#46039f\"], [0.2222222222222222, \"#7201a8\"], [0.3333333333333333, \"#9c179e\"], [0.4444444444444444, \"#bd3786\"], [0.5555555555555556, \"#d8576b\"], [0.6666666666666666, \"#ed7953\"], [0.7777777777777778, \"#fb9f3a\"], [0.8888888888888888, \"#fdca26\"], [1.0, \"#f0f921\"]], \"type\": \"heatmapgl\"}], \"histogram\": [{\"marker\": {\"colorbar\": {\"outlinewidth\": 0, \"ticks\": \"\"}}, \"type\": \"histogram\"}], \"histogram2d\": [{\"colorbar\": {\"outlinewidth\": 0, \"ticks\": \"\"}, \"colorscale\": [[0.0, \"#0d0887\"], [0.1111111111111111, \"#46039f\"], [0.2222222222222222, \"#7201a8\"], [0.3333333333333333, \"#9c179e\"], [0.4444444444444444, \"#bd3786\"], [0.5555555555555556, \"#d8576b\"], [0.6666666666666666, \"#ed7953\"], [0.7777777777777778, \"#fb9f3a\"], [0.8888888888888888, \"#fdca26\"], [1.0, \"#f0f921\"]], \"type\": \"histogram2d\"}], \"histogram2dcontour\": [{\"colorbar\": {\"outlinewidth\": 0, \"ticks\": \"\"}, \"colorscale\": [[0.0, \"#0d0887\"], [0.1111111111111111, \"#46039f\"], [0.2222222222222222, \"#7201a8\"], [0.3333333333333333, \"#9c179e\"], [0.4444444444444444, \"#bd3786\"], [0.5555555555555556, \"#d8576b\"], [0.6666666666666666, \"#ed7953\"], [0.7777777777777778, \"#fb9f3a\"], [0.8888888888888888, \"#fdca26\"], [1.0, \"#f0f921\"]], \"type\": \"histogram2dcontour\"}], \"mesh3d\": [{\"colorbar\": {\"outlinewidth\": 0, \"ticks\": \"\"}, \"type\": \"mesh3d\"}], \"parcoords\": [{\"line\": {\"colorbar\": {\"outlinewidth\": 0, \"ticks\": \"\"}}, \"type\": \"parcoords\"}], \"scatter\": [{\"marker\": {\"colorbar\": {\"outlinewidth\": 0, \"ticks\": \"\"}}, \"type\": \"scatter\"}], \"scatter3d\": [{\"line\": {\"colorbar\": {\"outlinewidth\": 0, \"ticks\": \"\"}}, \"marker\": {\"colorbar\": {\"outlinewidth\": 0, \"ticks\": \"\"}}, \"type\": \"scatter3d\"}], \"scattercarpet\": [{\"marker\": {\"colorbar\": {\"outlinewidth\": 0, \"ticks\": \"\"}}, \"type\": \"scattercarpet\"}], \"scattergeo\": [{\"marker\": {\"colorbar\": {\"outlinewidth\": 0, \"ticks\": \"\"}}, \"type\": \"scattergeo\"}], \"scattergl\": [{\"marker\": {\"colorbar\": {\"outlinewidth\": 0, \"ticks\": \"\"}}, \"type\": \"scattergl\"}], \"scattermapbox\": [{\"marker\": {\"colorbar\": {\"outlinewidth\": 0, \"ticks\": \"\"}}, \"type\": \"scattermapbox\"}], \"scatterpolar\": [{\"marker\": {\"colorbar\": {\"outlinewidth\": 0, \"ticks\": \"\"}}, \"type\": \"scatterpolar\"}], \"scatterpolargl\": [{\"marker\": {\"colorbar\": {\"outlinewidth\": 0, \"ticks\": \"\"}}, \"type\": \"scatterpolargl\"}], \"scatterternary\": [{\"marker\": {\"colorbar\": {\"outlinewidth\": 0, \"ticks\": \"\"}}, \"type\": \"scatterternary\"}], \"surface\": [{\"colorbar\": {\"outlinewidth\": 0, \"ticks\": \"\"}, \"colorscale\": [[0.0, \"#0d0887\"], [0.1111111111111111, \"#46039f\"], [0.2222222222222222, \"#7201a8\"], [0.3333333333333333, \"#9c179e\"], [0.4444444444444444, \"#bd3786\"], [0.5555555555555556, \"#d8576b\"], [0.6666666666666666, \"#ed7953\"], [0.7777777777777778, \"#fb9f3a\"], [0.8888888888888888, \"#fdca26\"], [1.0, \"#f0f921\"]], \"type\": \"surface\"}], \"table\": [{\"cells\": {\"fill\": {\"color\": \"#EBF0F8\"}, \"line\": {\"color\": \"white\"}}, \"header\": {\"fill\": {\"color\": \"#C8D4E3\"}, \"line\": {\"color\": \"white\"}}, \"type\": \"table\"}]}, \"layout\": {\"annotationdefaults\": {\"arrowcolor\": \"#2a3f5f\", \"arrowhead\": 0, \"arrowwidth\": 1}, \"colorscale\": {\"diverging\": [[0, \"#8e0152\"], [0.1, \"#c51b7d\"], [0.2, \"#de77ae\"], [0.3, \"#f1b6da\"], [0.4, \"#fde0ef\"], [0.5, \"#f7f7f7\"], [0.6, \"#e6f5d0\"], [0.7, \"#b8e186\"], [0.8, \"#7fbc41\"], [0.9, \"#4d9221\"], [1, \"#276419\"]], \"sequential\": [[0.0, \"#0d0887\"], [0.1111111111111111, \"#46039f\"], [0.2222222222222222, \"#7201a8\"], [0.3333333333333333, \"#9c179e\"], [0.4444444444444444, \"#bd3786\"], [0.5555555555555556, \"#d8576b\"], [0.6666666666666666, \"#ed7953\"], [0.7777777777777778, \"#fb9f3a\"], [0.8888888888888888, \"#fdca26\"], [1.0, \"#f0f921\"]], \"sequentialminus\": [[0.0, \"#0d0887\"], [0.1111111111111111, \"#46039f\"], [0.2222222222222222, \"#7201a8\"], [0.3333333333333333, \"#9c179e\"], [0.4444444444444444, \"#bd3786\"], [0.5555555555555556, \"#d8576b\"], [0.6666666666666666, \"#ed7953\"], [0.7777777777777778, \"#fb9f3a\"], [0.8888888888888888, \"#fdca26\"], [1.0, \"#f0f921\"]]}, \"colorway\": [\"#636efa\", \"#EF553B\", \"#00cc96\", \"#ab63fa\", \"#FFA15A\", \"#19d3f3\", \"#FF6692\", \"#B6E880\", \"#FF97FF\", \"#FECB52\"], \"font\": {\"color\": \"#2a3f5f\"}, \"geo\": {\"bgcolor\": \"white\", \"lakecolor\": \"white\", \"landcolor\": \"#E5ECF6\", \"showlakes\": true, \"showland\": true, \"subunitcolor\": \"white\"}, \"hoverlabel\": {\"align\": \"left\"}, \"hovermode\": \"closest\", \"mapbox\": {\"style\": \"light\"}, \"paper_bgcolor\": \"white\", \"plot_bgcolor\": \"#E5ECF6\", \"polar\": {\"angularaxis\": {\"gridcolor\": \"white\", \"linecolor\": \"white\", \"ticks\": \"\"}, \"bgcolor\": \"#E5ECF6\", \"radialaxis\": {\"gridcolor\": \"white\", \"linecolor\": \"white\", \"ticks\": \"\"}}, \"scene\": {\"xaxis\": {\"backgroundcolor\": \"#E5ECF6\", \"gridcolor\": \"white\", \"gridwidth\": 2, \"linecolor\": \"white\", \"showbackground\": true, \"ticks\": \"\", \"zerolinecolor\": \"white\"}, \"yaxis\": {\"backgroundcolor\": \"#E5ECF6\", \"gridcolor\": \"white\", \"gridwidth\": 2, \"linecolor\": \"white\", \"showbackground\": true, \"ticks\": \"\", \"zerolinecolor\": \"white\"}, \"zaxis\": {\"backgroundcolor\": \"#E5ECF6\", \"gridcolor\": \"white\", \"gridwidth\": 2, \"linecolor\": \"white\", \"showbackground\": true, \"ticks\": \"\", \"zerolinecolor\": \"white\"}}, \"shapedefaults\": {\"line\": {\"color\": \"#2a3f5f\"}}, \"ternary\": {\"aaxis\": {\"gridcolor\": \"white\", \"linecolor\": \"white\", \"ticks\": \"\"}, \"baxis\": {\"gridcolor\": \"white\", \"linecolor\": \"white\", \"ticks\": \"\"}, \"bgcolor\": \"#E5ECF6\", \"caxis\": {\"gridcolor\": \"white\", \"linecolor\": \"white\", \"ticks\": \"\"}}, \"title\": {\"x\": 0.05}, \"xaxis\": {\"automargin\": true, \"gridcolor\": \"white\", \"linecolor\": \"white\", \"ticks\": \"\", \"zerolinecolor\": \"white\", \"zerolinewidth\": 2}, \"yaxis\": {\"automargin\": true, \"gridcolor\": \"white\", \"linecolor\": \"white\", \"ticks\": \"\", \"zerolinecolor\": \"white\", \"zerolinewidth\": 2}}}, \"title\": {\"text\": \"Bar Chart with Relative Frequencies per Letter in French\"}, \"xaxis\": {\"anchor\": \"y\", \"domain\": [0.0, 0.98], \"title\": {\"text\": \"letter\"}}, \"yaxis\": {\"anchor\": \"x\", \"domain\": [0.0, 1.0], \"range\": [0, 15], \"title\": {\"text\": \"frequency\"}}},\n",
       "                        {\"responsive\": true}\n",
       "                    ).then(function(){\n",
       "                            \n",
       "var gd = document.getElementById('deb86f2e-fd90-40e6-9eab-13f2b7d926d4');\n",
       "var x = new MutationObserver(function (mutations, observer) {{\n",
       "        var display = window.getComputedStyle(gd).display;\n",
       "        if (!display || display === 'none') {{\n",
       "            console.log([gd, 'removed!']);\n",
       "            Plotly.purge(gd);\n",
       "            observer.disconnect();\n",
       "        }}\n",
       "}});\n",
       "\n",
       "// Listen for the removal of the full notebook cells\n",
       "var notebookContainer = gd.closest('#notebook-container');\n",
       "if (notebookContainer) {{\n",
       "    x.observe(notebookContainer, {childList: true});\n",
       "}}\n",
       "\n",
       "// Listen for the clearing of the current output cell\n",
       "var outputEl = gd.closest('.output');\n",
       "if (outputEl) {{\n",
       "    x.observe(outputEl, {childList: true});\n",
       "}}\n",
       "\n",
       "                        })\n",
       "                };\n",
       "                });\n",
       "            </script>\n",
       "        </div>"
      ]
     },
     "metadata": {},
     "output_type": "display_data"
    }
   ],
   "source": [
    "fig = px.bar(df[(df['language']=='French') & (df['frequency']>0.05)] , x=\"letter\", y=\"frequency\"\n",
    "             , range_y=[0,15]\n",
    "             , color=\"language\"\n",
    "             , barmode=\"group\"\n",
    "            #,facet_col=\"language\"\n",
    "            )\n",
    "\n",
    "fig.update_layout(\n",
    "    title=go.layout.Title(\n",
    "        text=\"Bar Chart with Relative Frequencies per Letter in French\"\n",
    "    ))\n",
    "fig.show()"
   ]
  },
  {
   "cell_type": "code",
   "execution_count": 238,
   "metadata": {},
   "outputs": [
    {
     "data": {
      "application/vnd.plotly.v1+json": {
       "config": {
        "plotlyServerURL": "https://plot.ly"
       },
       "data": [
        {
         "alignmentgroup": "True",
         "hoverlabel": {
          "namelength": 0
         },
         "hovertemplate": "language=French<br>letter=%{x}<br>frequency=%{y}",
         "legendgroup": "language=French",
         "marker": {
          "color": "#636efa"
         },
         "name": "language=French",
         "offsetgroup": "language=French",
         "orientation": "v",
         "showlegend": true,
         "textposition": "auto",
         "type": "bar",
         "x": [
          "a",
          "c",
          "e",
          "i",
          "o",
          "u",
          "x",
          "y"
         ],
         "xaxis": "x",
         "y": [
          7.636,
          3.26,
          14.715,
          7.529,
          5.796,
          6.311,
          0.427,
          0.128
         ],
         "yaxis": "y"
        },
        {
         "alignmentgroup": "True",
         "hoverlabel": {
          "namelength": 0
         },
         "hovertemplate": "language=German<br>letter=%{x}<br>frequency=%{y}",
         "legendgroup": "language=German",
         "marker": {
          "color": "#EF553B"
         },
         "name": "language=German",
         "offsetgroup": "language=German",
         "orientation": "v",
         "showlegend": true,
         "textposition": "auto",
         "type": "bar",
         "x": [
          "a",
          "c",
          "e",
          "i",
          "o",
          "u",
          "x",
          "y"
         ],
         "xaxis": "x2",
         "y": [
          6.516,
          2.732,
          16.396,
          6.55,
          2.594,
          4.166,
          0.034,
          0.039
         ],
         "yaxis": "y2"
        },
        {
         "alignmentgroup": "True",
         "hoverlabel": {
          "namelength": 0
         },
         "hovertemplate": "language=Italian<br>letter=%{x}<br>frequency=%{y}",
         "legendgroup": "language=Italian",
         "marker": {
          "color": "#00cc96"
         },
         "name": "language=Italian",
         "offsetgroup": "language=Italian",
         "orientation": "v",
         "showlegend": true,
         "textposition": "auto",
         "type": "bar",
         "x": [
          "a",
          "c",
          "e",
          "i",
          "o",
          "u",
          "x",
          "y"
         ],
         "xaxis": "x3",
         "y": [
          11.745,
          4.501,
          11.792,
          10.143,
          9.832,
          3.011,
          0.003,
          0.02
         ],
         "yaxis": "y3"
        },
        {
         "alignmentgroup": "True",
         "hoverlabel": {
          "namelength": 0
         },
         "hovertemplate": "language=Dutch<br>letter=%{x}<br>frequency=%{y}",
         "legendgroup": "language=Dutch",
         "marker": {
          "color": "#ab63fa"
         },
         "name": "language=Dutch",
         "offsetgroup": "language=Dutch",
         "orientation": "v",
         "showlegend": true,
         "textposition": "auto",
         "type": "bar",
         "x": [
          "a",
          "c",
          "e",
          "i",
          "o",
          "u",
          "x",
          "y"
         ],
         "xaxis": "x4",
         "y": [
          7.486,
          1.242,
          17.324,
          6.499,
          6.063,
          2.192,
          0.036,
          0.035
         ],
         "yaxis": "y4"
        },
        {
         "alignmentgroup": "True",
         "hoverlabel": {
          "namelength": 0
         },
         "hovertemplate": "language=Czech<br>letter=%{x}<br>frequency=%{y}",
         "legendgroup": "language=Czech",
         "marker": {
          "color": "#FFA15A"
         },
         "name": "language=Czech",
         "offsetgroup": "language=Czech",
         "orientation": "v",
         "showlegend": true,
         "textposition": "auto",
         "type": "bar",
         "x": [
          "a",
          "c",
          "e",
          "i",
          "o",
          "u",
          "x",
          "y"
         ],
         "xaxis": "x5",
         "y": [
          8.421,
          0.74,
          7.562,
          6.073,
          6.695,
          2.16,
          0.027,
          1.043
         ],
         "yaxis": "y5"
        }
       ],
       "layout": {
        "annotations": [
         {
          "font": {},
          "showarrow": false,
          "text": "language=French",
          "x": 0.09000000000000001,
          "xanchor": "center",
          "xref": "paper",
          "y": 1,
          "yanchor": "bottom",
          "yref": "paper"
         },
         {
          "font": {},
          "showarrow": false,
          "text": "language=German",
          "x": 0.29000000000000004,
          "xanchor": "center",
          "xref": "paper",
          "y": 1,
          "yanchor": "bottom",
          "yref": "paper"
         },
         {
          "font": {},
          "showarrow": false,
          "text": "language=Italian",
          "x": 0.49000000000000005,
          "xanchor": "center",
          "xref": "paper",
          "y": 1,
          "yanchor": "bottom",
          "yref": "paper"
         },
         {
          "font": {},
          "showarrow": false,
          "text": "language=Dutch",
          "x": 0.6900000000000002,
          "xanchor": "center",
          "xref": "paper",
          "y": 1,
          "yanchor": "bottom",
          "yref": "paper"
         },
         {
          "font": {},
          "showarrow": false,
          "text": "language=Czech",
          "x": 0.8900000000000001,
          "xanchor": "center",
          "xref": "paper",
          "y": 1,
          "yanchor": "bottom",
          "yref": "paper"
         }
        ],
        "barmode": "group",
        "height": 600,
        "legend": {
         "tracegroupgap": 0
        },
        "margin": {
         "t": 60
        },
        "template": {
         "data": {
          "bar": [
           {
            "error_x": {
             "color": "#2a3f5f"
            },
            "error_y": {
             "color": "#2a3f5f"
            },
            "marker": {
             "line": {
              "color": "#E5ECF6",
              "width": 0.5
             }
            },
            "type": "bar"
           }
          ],
          "barpolar": [
           {
            "marker": {
             "line": {
              "color": "#E5ECF6",
              "width": 0.5
             }
            },
            "type": "barpolar"
           }
          ],
          "carpet": [
           {
            "aaxis": {
             "endlinecolor": "#2a3f5f",
             "gridcolor": "white",
             "linecolor": "white",
             "minorgridcolor": "white",
             "startlinecolor": "#2a3f5f"
            },
            "baxis": {
             "endlinecolor": "#2a3f5f",
             "gridcolor": "white",
             "linecolor": "white",
             "minorgridcolor": "white",
             "startlinecolor": "#2a3f5f"
            },
            "type": "carpet"
           }
          ],
          "choropleth": [
           {
            "colorbar": {
             "outlinewidth": 0,
             "ticks": ""
            },
            "type": "choropleth"
           }
          ],
          "contour": [
           {
            "colorbar": {
             "outlinewidth": 0,
             "ticks": ""
            },
            "colorscale": [
             [
              0,
              "#0d0887"
             ],
             [
              0.1111111111111111,
              "#46039f"
             ],
             [
              0.2222222222222222,
              "#7201a8"
             ],
             [
              0.3333333333333333,
              "#9c179e"
             ],
             [
              0.4444444444444444,
              "#bd3786"
             ],
             [
              0.5555555555555556,
              "#d8576b"
             ],
             [
              0.6666666666666666,
              "#ed7953"
             ],
             [
              0.7777777777777778,
              "#fb9f3a"
             ],
             [
              0.8888888888888888,
              "#fdca26"
             ],
             [
              1,
              "#f0f921"
             ]
            ],
            "type": "contour"
           }
          ],
          "contourcarpet": [
           {
            "colorbar": {
             "outlinewidth": 0,
             "ticks": ""
            },
            "type": "contourcarpet"
           }
          ],
          "heatmap": [
           {
            "colorbar": {
             "outlinewidth": 0,
             "ticks": ""
            },
            "colorscale": [
             [
              0,
              "#0d0887"
             ],
             [
              0.1111111111111111,
              "#46039f"
             ],
             [
              0.2222222222222222,
              "#7201a8"
             ],
             [
              0.3333333333333333,
              "#9c179e"
             ],
             [
              0.4444444444444444,
              "#bd3786"
             ],
             [
              0.5555555555555556,
              "#d8576b"
             ],
             [
              0.6666666666666666,
              "#ed7953"
             ],
             [
              0.7777777777777778,
              "#fb9f3a"
             ],
             [
              0.8888888888888888,
              "#fdca26"
             ],
             [
              1,
              "#f0f921"
             ]
            ],
            "type": "heatmap"
           }
          ],
          "heatmapgl": [
           {
            "colorbar": {
             "outlinewidth": 0,
             "ticks": ""
            },
            "colorscale": [
             [
              0,
              "#0d0887"
             ],
             [
              0.1111111111111111,
              "#46039f"
             ],
             [
              0.2222222222222222,
              "#7201a8"
             ],
             [
              0.3333333333333333,
              "#9c179e"
             ],
             [
              0.4444444444444444,
              "#bd3786"
             ],
             [
              0.5555555555555556,
              "#d8576b"
             ],
             [
              0.6666666666666666,
              "#ed7953"
             ],
             [
              0.7777777777777778,
              "#fb9f3a"
             ],
             [
              0.8888888888888888,
              "#fdca26"
             ],
             [
              1,
              "#f0f921"
             ]
            ],
            "type": "heatmapgl"
           }
          ],
          "histogram": [
           {
            "marker": {
             "colorbar": {
              "outlinewidth": 0,
              "ticks": ""
             }
            },
            "type": "histogram"
           }
          ],
          "histogram2d": [
           {
            "colorbar": {
             "outlinewidth": 0,
             "ticks": ""
            },
            "colorscale": [
             [
              0,
              "#0d0887"
             ],
             [
              0.1111111111111111,
              "#46039f"
             ],
             [
              0.2222222222222222,
              "#7201a8"
             ],
             [
              0.3333333333333333,
              "#9c179e"
             ],
             [
              0.4444444444444444,
              "#bd3786"
             ],
             [
              0.5555555555555556,
              "#d8576b"
             ],
             [
              0.6666666666666666,
              "#ed7953"
             ],
             [
              0.7777777777777778,
              "#fb9f3a"
             ],
             [
              0.8888888888888888,
              "#fdca26"
             ],
             [
              1,
              "#f0f921"
             ]
            ],
            "type": "histogram2d"
           }
          ],
          "histogram2dcontour": [
           {
            "colorbar": {
             "outlinewidth": 0,
             "ticks": ""
            },
            "colorscale": [
             [
              0,
              "#0d0887"
             ],
             [
              0.1111111111111111,
              "#46039f"
             ],
             [
              0.2222222222222222,
              "#7201a8"
             ],
             [
              0.3333333333333333,
              "#9c179e"
             ],
             [
              0.4444444444444444,
              "#bd3786"
             ],
             [
              0.5555555555555556,
              "#d8576b"
             ],
             [
              0.6666666666666666,
              "#ed7953"
             ],
             [
              0.7777777777777778,
              "#fb9f3a"
             ],
             [
              0.8888888888888888,
              "#fdca26"
             ],
             [
              1,
              "#f0f921"
             ]
            ],
            "type": "histogram2dcontour"
           }
          ],
          "mesh3d": [
           {
            "colorbar": {
             "outlinewidth": 0,
             "ticks": ""
            },
            "type": "mesh3d"
           }
          ],
          "parcoords": [
           {
            "line": {
             "colorbar": {
              "outlinewidth": 0,
              "ticks": ""
             }
            },
            "type": "parcoords"
           }
          ],
          "scatter": [
           {
            "marker": {
             "colorbar": {
              "outlinewidth": 0,
              "ticks": ""
             }
            },
            "type": "scatter"
           }
          ],
          "scatter3d": [
           {
            "line": {
             "colorbar": {
              "outlinewidth": 0,
              "ticks": ""
             }
            },
            "marker": {
             "colorbar": {
              "outlinewidth": 0,
              "ticks": ""
             }
            },
            "type": "scatter3d"
           }
          ],
          "scattercarpet": [
           {
            "marker": {
             "colorbar": {
              "outlinewidth": 0,
              "ticks": ""
             }
            },
            "type": "scattercarpet"
           }
          ],
          "scattergeo": [
           {
            "marker": {
             "colorbar": {
              "outlinewidth": 0,
              "ticks": ""
             }
            },
            "type": "scattergeo"
           }
          ],
          "scattergl": [
           {
            "marker": {
             "colorbar": {
              "outlinewidth": 0,
              "ticks": ""
             }
            },
            "type": "scattergl"
           }
          ],
          "scattermapbox": [
           {
            "marker": {
             "colorbar": {
              "outlinewidth": 0,
              "ticks": ""
             }
            },
            "type": "scattermapbox"
           }
          ],
          "scatterpolar": [
           {
            "marker": {
             "colorbar": {
              "outlinewidth": 0,
              "ticks": ""
             }
            },
            "type": "scatterpolar"
           }
          ],
          "scatterpolargl": [
           {
            "marker": {
             "colorbar": {
              "outlinewidth": 0,
              "ticks": ""
             }
            },
            "type": "scatterpolargl"
           }
          ],
          "scatterternary": [
           {
            "marker": {
             "colorbar": {
              "outlinewidth": 0,
              "ticks": ""
             }
            },
            "type": "scatterternary"
           }
          ],
          "surface": [
           {
            "colorbar": {
             "outlinewidth": 0,
             "ticks": ""
            },
            "colorscale": [
             [
              0,
              "#0d0887"
             ],
             [
              0.1111111111111111,
              "#46039f"
             ],
             [
              0.2222222222222222,
              "#7201a8"
             ],
             [
              0.3333333333333333,
              "#9c179e"
             ],
             [
              0.4444444444444444,
              "#bd3786"
             ],
             [
              0.5555555555555556,
              "#d8576b"
             ],
             [
              0.6666666666666666,
              "#ed7953"
             ],
             [
              0.7777777777777778,
              "#fb9f3a"
             ],
             [
              0.8888888888888888,
              "#fdca26"
             ],
             [
              1,
              "#f0f921"
             ]
            ],
            "type": "surface"
           }
          ],
          "table": [
           {
            "cells": {
             "fill": {
              "color": "#EBF0F8"
             },
             "line": {
              "color": "white"
             }
            },
            "header": {
             "fill": {
              "color": "#C8D4E3"
             },
             "line": {
              "color": "white"
             }
            },
            "type": "table"
           }
          ]
         },
         "layout": {
          "annotationdefaults": {
           "arrowcolor": "#2a3f5f",
           "arrowhead": 0,
           "arrowwidth": 1
          },
          "colorscale": {
           "diverging": [
            [
             0,
             "#8e0152"
            ],
            [
             0.1,
             "#c51b7d"
            ],
            [
             0.2,
             "#de77ae"
            ],
            [
             0.3,
             "#f1b6da"
            ],
            [
             0.4,
             "#fde0ef"
            ],
            [
             0.5,
             "#f7f7f7"
            ],
            [
             0.6,
             "#e6f5d0"
            ],
            [
             0.7,
             "#b8e186"
            ],
            [
             0.8,
             "#7fbc41"
            ],
            [
             0.9,
             "#4d9221"
            ],
            [
             1,
             "#276419"
            ]
           ],
           "sequential": [
            [
             0,
             "#0d0887"
            ],
            [
             0.1111111111111111,
             "#46039f"
            ],
            [
             0.2222222222222222,
             "#7201a8"
            ],
            [
             0.3333333333333333,
             "#9c179e"
            ],
            [
             0.4444444444444444,
             "#bd3786"
            ],
            [
             0.5555555555555556,
             "#d8576b"
            ],
            [
             0.6666666666666666,
             "#ed7953"
            ],
            [
             0.7777777777777778,
             "#fb9f3a"
            ],
            [
             0.8888888888888888,
             "#fdca26"
            ],
            [
             1,
             "#f0f921"
            ]
           ],
           "sequentialminus": [
            [
             0,
             "#0d0887"
            ],
            [
             0.1111111111111111,
             "#46039f"
            ],
            [
             0.2222222222222222,
             "#7201a8"
            ],
            [
             0.3333333333333333,
             "#9c179e"
            ],
            [
             0.4444444444444444,
             "#bd3786"
            ],
            [
             0.5555555555555556,
             "#d8576b"
            ],
            [
             0.6666666666666666,
             "#ed7953"
            ],
            [
             0.7777777777777778,
             "#fb9f3a"
            ],
            [
             0.8888888888888888,
             "#fdca26"
            ],
            [
             1,
             "#f0f921"
            ]
           ]
          },
          "colorway": [
           "#636efa",
           "#EF553B",
           "#00cc96",
           "#ab63fa",
           "#FFA15A",
           "#19d3f3",
           "#FF6692",
           "#B6E880",
           "#FF97FF",
           "#FECB52"
          ],
          "font": {
           "color": "#2a3f5f"
          },
          "geo": {
           "bgcolor": "white",
           "lakecolor": "white",
           "landcolor": "#E5ECF6",
           "showlakes": true,
           "showland": true,
           "subunitcolor": "white"
          },
          "hoverlabel": {
           "align": "left"
          },
          "hovermode": "closest",
          "mapbox": {
           "style": "light"
          },
          "paper_bgcolor": "white",
          "plot_bgcolor": "#E5ECF6",
          "polar": {
           "angularaxis": {
            "gridcolor": "white",
            "linecolor": "white",
            "ticks": ""
           },
           "bgcolor": "#E5ECF6",
           "radialaxis": {
            "gridcolor": "white",
            "linecolor": "white",
            "ticks": ""
           }
          },
          "scene": {
           "xaxis": {
            "backgroundcolor": "#E5ECF6",
            "gridcolor": "white",
            "gridwidth": 2,
            "linecolor": "white",
            "showbackground": true,
            "ticks": "",
            "zerolinecolor": "white"
           },
           "yaxis": {
            "backgroundcolor": "#E5ECF6",
            "gridcolor": "white",
            "gridwidth": 2,
            "linecolor": "white",
            "showbackground": true,
            "ticks": "",
            "zerolinecolor": "white"
           },
           "zaxis": {
            "backgroundcolor": "#E5ECF6",
            "gridcolor": "white",
            "gridwidth": 2,
            "linecolor": "white",
            "showbackground": true,
            "ticks": "",
            "zerolinecolor": "white"
           }
          },
          "shapedefaults": {
           "line": {
            "color": "#2a3f5f"
           }
          },
          "ternary": {
           "aaxis": {
            "gridcolor": "white",
            "linecolor": "white",
            "ticks": ""
           },
           "baxis": {
            "gridcolor": "white",
            "linecolor": "white",
            "ticks": ""
           },
           "bgcolor": "#E5ECF6",
           "caxis": {
            "gridcolor": "white",
            "linecolor": "white",
            "ticks": ""
           }
          },
          "title": {
           "x": 0.05
          },
          "xaxis": {
           "automargin": true,
           "gridcolor": "white",
           "linecolor": "white",
           "ticks": "",
           "zerolinecolor": "white",
           "zerolinewidth": 2
          },
          "yaxis": {
           "automargin": true,
           "gridcolor": "white",
           "linecolor": "white",
           "ticks": "",
           "zerolinecolor": "white",
           "zerolinewidth": 2
          }
         }
        },
        "title": {
         "text": "Bar Chart with Relative Frequencies per Letter"
        },
        "xaxis": {
         "anchor": "y",
         "domain": [
          0,
          0.18000000000000002
         ],
         "title": {
          "text": "letter"
         }
        },
        "xaxis2": {
         "anchor": "y2",
         "domain": [
          0.2,
          0.38
         ],
         "matches": "x",
         "title": {
          "text": "letter"
         }
        },
        "xaxis3": {
         "anchor": "y3",
         "domain": [
          0.4,
          0.5800000000000001
         ],
         "matches": "x",
         "title": {
          "text": "letter"
         }
        },
        "xaxis4": {
         "anchor": "y4",
         "domain": [
          0.6000000000000001,
          0.7800000000000001
         ],
         "matches": "x",
         "title": {
          "text": "letter"
         }
        },
        "xaxis5": {
         "anchor": "y5",
         "domain": [
          0.8,
          0.9800000000000001
         ],
         "matches": "x",
         "title": {
          "text": "letter"
         }
        },
        "yaxis": {
         "anchor": "x",
         "domain": [
          0,
          1
         ],
         "range": [
          0,
          18
         ],
         "title": {
          "text": "frequency"
         }
        },
        "yaxis2": {
         "anchor": "x2",
         "domain": [
          0,
          1
         ],
         "matches": "y",
         "showticklabels": false
        },
        "yaxis3": {
         "anchor": "x3",
         "domain": [
          0,
          1
         ],
         "matches": "y",
         "showticklabels": false
        },
        "yaxis4": {
         "anchor": "x4",
         "domain": [
          0,
          1
         ],
         "matches": "y",
         "showticklabels": false
        },
        "yaxis5": {
         "anchor": "x5",
         "domain": [
          0,
          1
         ],
         "matches": "y",
         "showticklabels": false
        }
       }
      },
      "text/html": [
       "<div>\n",
       "        \n",
       "        \n",
       "            <div id=\"507af960-a439-4b10-bb5f-43b9f402b004\" class=\"plotly-graph-div\" style=\"height:600px; width:100%;\"></div>\n",
       "            <script type=\"text/javascript\">\n",
       "                require([\"plotly\"], function(Plotly) {\n",
       "                    window.PLOTLYENV=window.PLOTLYENV || {};\n",
       "                    \n",
       "                if (document.getElementById(\"507af960-a439-4b10-bb5f-43b9f402b004\")) {\n",
       "                    Plotly.newPlot(\n",
       "                        '507af960-a439-4b10-bb5f-43b9f402b004',\n",
       "                        [{\"alignmentgroup\": \"True\", \"hoverlabel\": {\"namelength\": 0}, \"hovertemplate\": \"language=French<br>letter=%{x}<br>frequency=%{y}\", \"legendgroup\": \"language=French\", \"marker\": {\"color\": \"#636efa\"}, \"name\": \"language=French\", \"offsetgroup\": \"language=French\", \"orientation\": \"v\", \"showlegend\": true, \"textposition\": \"auto\", \"type\": \"bar\", \"x\": [\"a\", \"c\", \"e\", \"i\", \"o\", \"u\", \"x\", \"y\"], \"xaxis\": \"x\", \"y\": [7.636, 3.26, 14.715, 7.529, 5.796, 6.311, 0.427, 0.128], \"yaxis\": \"y\"}, {\"alignmentgroup\": \"True\", \"hoverlabel\": {\"namelength\": 0}, \"hovertemplate\": \"language=German<br>letter=%{x}<br>frequency=%{y}\", \"legendgroup\": \"language=German\", \"marker\": {\"color\": \"#EF553B\"}, \"name\": \"language=German\", \"offsetgroup\": \"language=German\", \"orientation\": \"v\", \"showlegend\": true, \"textposition\": \"auto\", \"type\": \"bar\", \"x\": [\"a\", \"c\", \"e\", \"i\", \"o\", \"u\", \"x\", \"y\"], \"xaxis\": \"x2\", \"y\": [6.516, 2.732, 16.396, 6.55, 2.594, 4.166, 0.034, 0.039], \"yaxis\": \"y2\"}, {\"alignmentgroup\": \"True\", \"hoverlabel\": {\"namelength\": 0}, \"hovertemplate\": \"language=Italian<br>letter=%{x}<br>frequency=%{y}\", \"legendgroup\": \"language=Italian\", \"marker\": {\"color\": \"#00cc96\"}, \"name\": \"language=Italian\", \"offsetgroup\": \"language=Italian\", \"orientation\": \"v\", \"showlegend\": true, \"textposition\": \"auto\", \"type\": \"bar\", \"x\": [\"a\", \"c\", \"e\", \"i\", \"o\", \"u\", \"x\", \"y\"], \"xaxis\": \"x3\", \"y\": [11.745, 4.501, 11.792, 10.143, 9.832, 3.011, 0.003, 0.02], \"yaxis\": \"y3\"}, {\"alignmentgroup\": \"True\", \"hoverlabel\": {\"namelength\": 0}, \"hovertemplate\": \"language=Dutch<br>letter=%{x}<br>frequency=%{y}\", \"legendgroup\": \"language=Dutch\", \"marker\": {\"color\": \"#ab63fa\"}, \"name\": \"language=Dutch\", \"offsetgroup\": \"language=Dutch\", \"orientation\": \"v\", \"showlegend\": true, \"textposition\": \"auto\", \"type\": \"bar\", \"x\": [\"a\", \"c\", \"e\", \"i\", \"o\", \"u\", \"x\", \"y\"], \"xaxis\": \"x4\", \"y\": [7.486, 1.242, 17.324, 6.499, 6.063, 2.192, 0.036, 0.035], \"yaxis\": \"y4\"}, {\"alignmentgroup\": \"True\", \"hoverlabel\": {\"namelength\": 0}, \"hovertemplate\": \"language=Czech<br>letter=%{x}<br>frequency=%{y}\", \"legendgroup\": \"language=Czech\", \"marker\": {\"color\": \"#FFA15A\"}, \"name\": \"language=Czech\", \"offsetgroup\": \"language=Czech\", \"orientation\": \"v\", \"showlegend\": true, \"textposition\": \"auto\", \"type\": \"bar\", \"x\": [\"a\", \"c\", \"e\", \"i\", \"o\", \"u\", \"x\", \"y\"], \"xaxis\": \"x5\", \"y\": [8.421, 0.74, 7.562, 6.073, 6.695, 2.16, 0.027, 1.043], \"yaxis\": \"y5\"}],\n",
       "                        {\"annotations\": [{\"font\": {}, \"showarrow\": false, \"text\": \"language=French\", \"x\": 0.09000000000000001, \"xanchor\": \"center\", \"xref\": \"paper\", \"y\": 1.0, \"yanchor\": \"bottom\", \"yref\": \"paper\"}, {\"font\": {}, \"showarrow\": false, \"text\": \"language=German\", \"x\": 0.29000000000000004, \"xanchor\": \"center\", \"xref\": \"paper\", \"y\": 1.0, \"yanchor\": \"bottom\", \"yref\": \"paper\"}, {\"font\": {}, \"showarrow\": false, \"text\": \"language=Italian\", \"x\": 0.49000000000000005, \"xanchor\": \"center\", \"xref\": \"paper\", \"y\": 1.0, \"yanchor\": \"bottom\", \"yref\": \"paper\"}, {\"font\": {}, \"showarrow\": false, \"text\": \"language=Dutch\", \"x\": 0.6900000000000002, \"xanchor\": \"center\", \"xref\": \"paper\", \"y\": 1.0, \"yanchor\": \"bottom\", \"yref\": \"paper\"}, {\"font\": {}, \"showarrow\": false, \"text\": \"language=Czech\", \"x\": 0.8900000000000001, \"xanchor\": \"center\", \"xref\": \"paper\", \"y\": 1.0, \"yanchor\": \"bottom\", \"yref\": \"paper\"}], \"barmode\": \"group\", \"height\": 600, \"legend\": {\"tracegroupgap\": 0}, \"margin\": {\"t\": 60}, \"template\": {\"data\": {\"bar\": [{\"error_x\": {\"color\": \"#2a3f5f\"}, \"error_y\": {\"color\": \"#2a3f5f\"}, \"marker\": {\"line\": {\"color\": \"#E5ECF6\", \"width\": 0.5}}, \"type\": \"bar\"}], \"barpolar\": [{\"marker\": {\"line\": {\"color\": \"#E5ECF6\", \"width\": 0.5}}, \"type\": \"barpolar\"}], \"carpet\": [{\"aaxis\": {\"endlinecolor\": \"#2a3f5f\", \"gridcolor\": \"white\", \"linecolor\": \"white\", \"minorgridcolor\": \"white\", \"startlinecolor\": \"#2a3f5f\"}, \"baxis\": {\"endlinecolor\": \"#2a3f5f\", \"gridcolor\": \"white\", \"linecolor\": \"white\", \"minorgridcolor\": \"white\", \"startlinecolor\": \"#2a3f5f\"}, \"type\": \"carpet\"}], \"choropleth\": [{\"colorbar\": {\"outlinewidth\": 0, \"ticks\": \"\"}, \"type\": \"choropleth\"}], \"contour\": [{\"colorbar\": {\"outlinewidth\": 0, \"ticks\": \"\"}, \"colorscale\": [[0.0, \"#0d0887\"], [0.1111111111111111, \"#46039f\"], [0.2222222222222222, \"#7201a8\"], [0.3333333333333333, \"#9c179e\"], [0.4444444444444444, \"#bd3786\"], [0.5555555555555556, \"#d8576b\"], [0.6666666666666666, \"#ed7953\"], [0.7777777777777778, \"#fb9f3a\"], [0.8888888888888888, \"#fdca26\"], [1.0, \"#f0f921\"]], \"type\": \"contour\"}], \"contourcarpet\": [{\"colorbar\": {\"outlinewidth\": 0, \"ticks\": \"\"}, \"type\": \"contourcarpet\"}], \"heatmap\": [{\"colorbar\": {\"outlinewidth\": 0, \"ticks\": \"\"}, \"colorscale\": [[0.0, \"#0d0887\"], [0.1111111111111111, \"#46039f\"], [0.2222222222222222, \"#7201a8\"], [0.3333333333333333, \"#9c179e\"], [0.4444444444444444, \"#bd3786\"], [0.5555555555555556, \"#d8576b\"], [0.6666666666666666, \"#ed7953\"], [0.7777777777777778, \"#fb9f3a\"], [0.8888888888888888, \"#fdca26\"], [1.0, \"#f0f921\"]], \"type\": \"heatmap\"}], \"heatmapgl\": [{\"colorbar\": {\"outlinewidth\": 0, \"ticks\": \"\"}, \"colorscale\": [[0.0, \"#0d0887\"], [0.1111111111111111, \"#46039f\"], [0.2222222222222222, \"#7201a8\"], [0.3333333333333333, \"#9c179e\"], [0.4444444444444444, \"#bd3786\"], [0.5555555555555556, \"#d8576b\"], [0.6666666666666666, \"#ed7953\"], [0.7777777777777778, \"#fb9f3a\"], [0.8888888888888888, \"#fdca26\"], [1.0, \"#f0f921\"]], \"type\": \"heatmapgl\"}], \"histogram\": [{\"marker\": {\"colorbar\": {\"outlinewidth\": 0, \"ticks\": \"\"}}, \"type\": \"histogram\"}], \"histogram2d\": [{\"colorbar\": {\"outlinewidth\": 0, \"ticks\": \"\"}, \"colorscale\": [[0.0, \"#0d0887\"], [0.1111111111111111, \"#46039f\"], [0.2222222222222222, \"#7201a8\"], [0.3333333333333333, \"#9c179e\"], [0.4444444444444444, \"#bd3786\"], [0.5555555555555556, \"#d8576b\"], [0.6666666666666666, \"#ed7953\"], [0.7777777777777778, \"#fb9f3a\"], [0.8888888888888888, \"#fdca26\"], [1.0, \"#f0f921\"]], \"type\": \"histogram2d\"}], \"histogram2dcontour\": [{\"colorbar\": {\"outlinewidth\": 0, \"ticks\": \"\"}, \"colorscale\": [[0.0, \"#0d0887\"], [0.1111111111111111, \"#46039f\"], [0.2222222222222222, \"#7201a8\"], [0.3333333333333333, \"#9c179e\"], [0.4444444444444444, \"#bd3786\"], [0.5555555555555556, \"#d8576b\"], [0.6666666666666666, \"#ed7953\"], [0.7777777777777778, \"#fb9f3a\"], [0.8888888888888888, \"#fdca26\"], [1.0, \"#f0f921\"]], \"type\": \"histogram2dcontour\"}], \"mesh3d\": [{\"colorbar\": {\"outlinewidth\": 0, \"ticks\": \"\"}, \"type\": \"mesh3d\"}], \"parcoords\": [{\"line\": {\"colorbar\": {\"outlinewidth\": 0, \"ticks\": \"\"}}, \"type\": \"parcoords\"}], \"scatter\": [{\"marker\": {\"colorbar\": {\"outlinewidth\": 0, \"ticks\": \"\"}}, \"type\": \"scatter\"}], \"scatter3d\": [{\"line\": {\"colorbar\": {\"outlinewidth\": 0, \"ticks\": \"\"}}, \"marker\": {\"colorbar\": {\"outlinewidth\": 0, \"ticks\": \"\"}}, \"type\": \"scatter3d\"}], \"scattercarpet\": [{\"marker\": {\"colorbar\": {\"outlinewidth\": 0, \"ticks\": \"\"}}, \"type\": \"scattercarpet\"}], \"scattergeo\": [{\"marker\": {\"colorbar\": {\"outlinewidth\": 0, \"ticks\": \"\"}}, \"type\": \"scattergeo\"}], \"scattergl\": [{\"marker\": {\"colorbar\": {\"outlinewidth\": 0, \"ticks\": \"\"}}, \"type\": \"scattergl\"}], \"scattermapbox\": [{\"marker\": {\"colorbar\": {\"outlinewidth\": 0, \"ticks\": \"\"}}, \"type\": \"scattermapbox\"}], \"scatterpolar\": [{\"marker\": {\"colorbar\": {\"outlinewidth\": 0, \"ticks\": \"\"}}, \"type\": \"scatterpolar\"}], \"scatterpolargl\": [{\"marker\": {\"colorbar\": {\"outlinewidth\": 0, \"ticks\": \"\"}}, \"type\": \"scatterpolargl\"}], \"scatterternary\": [{\"marker\": {\"colorbar\": {\"outlinewidth\": 0, \"ticks\": \"\"}}, \"type\": \"scatterternary\"}], \"surface\": [{\"colorbar\": {\"outlinewidth\": 0, \"ticks\": \"\"}, \"colorscale\": [[0.0, \"#0d0887\"], [0.1111111111111111, \"#46039f\"], [0.2222222222222222, \"#7201a8\"], [0.3333333333333333, \"#9c179e\"], [0.4444444444444444, \"#bd3786\"], [0.5555555555555556, \"#d8576b\"], [0.6666666666666666, \"#ed7953\"], [0.7777777777777778, \"#fb9f3a\"], [0.8888888888888888, \"#fdca26\"], [1.0, \"#f0f921\"]], \"type\": \"surface\"}], \"table\": [{\"cells\": {\"fill\": {\"color\": \"#EBF0F8\"}, \"line\": {\"color\": \"white\"}}, \"header\": {\"fill\": {\"color\": \"#C8D4E3\"}, \"line\": {\"color\": \"white\"}}, \"type\": \"table\"}]}, \"layout\": {\"annotationdefaults\": {\"arrowcolor\": \"#2a3f5f\", \"arrowhead\": 0, \"arrowwidth\": 1}, \"colorscale\": {\"diverging\": [[0, \"#8e0152\"], [0.1, \"#c51b7d\"], [0.2, \"#de77ae\"], [0.3, \"#f1b6da\"], [0.4, \"#fde0ef\"], [0.5, \"#f7f7f7\"], [0.6, \"#e6f5d0\"], [0.7, \"#b8e186\"], [0.8, \"#7fbc41\"], [0.9, \"#4d9221\"], [1, \"#276419\"]], \"sequential\": [[0.0, \"#0d0887\"], [0.1111111111111111, \"#46039f\"], [0.2222222222222222, \"#7201a8\"], [0.3333333333333333, \"#9c179e\"], [0.4444444444444444, \"#bd3786\"], [0.5555555555555556, \"#d8576b\"], [0.6666666666666666, \"#ed7953\"], [0.7777777777777778, \"#fb9f3a\"], [0.8888888888888888, \"#fdca26\"], [1.0, \"#f0f921\"]], \"sequentialminus\": [[0.0, \"#0d0887\"], [0.1111111111111111, \"#46039f\"], [0.2222222222222222, \"#7201a8\"], [0.3333333333333333, \"#9c179e\"], [0.4444444444444444, \"#bd3786\"], [0.5555555555555556, \"#d8576b\"], [0.6666666666666666, \"#ed7953\"], [0.7777777777777778, \"#fb9f3a\"], [0.8888888888888888, \"#fdca26\"], [1.0, \"#f0f921\"]]}, \"colorway\": [\"#636efa\", \"#EF553B\", \"#00cc96\", \"#ab63fa\", \"#FFA15A\", \"#19d3f3\", \"#FF6692\", \"#B6E880\", \"#FF97FF\", \"#FECB52\"], \"font\": {\"color\": \"#2a3f5f\"}, \"geo\": {\"bgcolor\": \"white\", \"lakecolor\": \"white\", \"landcolor\": \"#E5ECF6\", \"showlakes\": true, \"showland\": true, \"subunitcolor\": \"white\"}, \"hoverlabel\": {\"align\": \"left\"}, \"hovermode\": \"closest\", \"mapbox\": {\"style\": \"light\"}, \"paper_bgcolor\": \"white\", \"plot_bgcolor\": \"#E5ECF6\", \"polar\": {\"angularaxis\": {\"gridcolor\": \"white\", \"linecolor\": \"white\", \"ticks\": \"\"}, \"bgcolor\": \"#E5ECF6\", \"radialaxis\": {\"gridcolor\": \"white\", \"linecolor\": \"white\", \"ticks\": \"\"}}, \"scene\": {\"xaxis\": {\"backgroundcolor\": \"#E5ECF6\", \"gridcolor\": \"white\", \"gridwidth\": 2, \"linecolor\": \"white\", \"showbackground\": true, \"ticks\": \"\", \"zerolinecolor\": \"white\"}, \"yaxis\": {\"backgroundcolor\": \"#E5ECF6\", \"gridcolor\": \"white\", \"gridwidth\": 2, \"linecolor\": \"white\", \"showbackground\": true, \"ticks\": \"\", \"zerolinecolor\": \"white\"}, \"zaxis\": {\"backgroundcolor\": \"#E5ECF6\", \"gridcolor\": \"white\", \"gridwidth\": 2, \"linecolor\": \"white\", \"showbackground\": true, \"ticks\": \"\", \"zerolinecolor\": \"white\"}}, \"shapedefaults\": {\"line\": {\"color\": \"#2a3f5f\"}}, \"ternary\": {\"aaxis\": {\"gridcolor\": \"white\", \"linecolor\": \"white\", \"ticks\": \"\"}, \"baxis\": {\"gridcolor\": \"white\", \"linecolor\": \"white\", \"ticks\": \"\"}, \"bgcolor\": \"#E5ECF6\", \"caxis\": {\"gridcolor\": \"white\", \"linecolor\": \"white\", \"ticks\": \"\"}}, \"title\": {\"x\": 0.05}, \"xaxis\": {\"automargin\": true, \"gridcolor\": \"white\", \"linecolor\": \"white\", \"ticks\": \"\", \"zerolinecolor\": \"white\", \"zerolinewidth\": 2}, \"yaxis\": {\"automargin\": true, \"gridcolor\": \"white\", \"linecolor\": \"white\", \"ticks\": \"\", \"zerolinecolor\": \"white\", \"zerolinewidth\": 2}}}, \"title\": {\"text\": \"Bar Chart with Relative Frequencies per Letter\"}, \"xaxis\": {\"anchor\": \"y\", \"domain\": [0.0, 0.18000000000000002], \"title\": {\"text\": \"letter\"}}, \"xaxis2\": {\"anchor\": \"y2\", \"domain\": [0.2, 0.38], \"matches\": \"x\", \"title\": {\"text\": \"letter\"}}, \"xaxis3\": {\"anchor\": \"y3\", \"domain\": [0.4, 0.5800000000000001], \"matches\": \"x\", \"title\": {\"text\": \"letter\"}}, \"xaxis4\": {\"anchor\": \"y4\", \"domain\": [0.6000000000000001, 0.7800000000000001], \"matches\": \"x\", \"title\": {\"text\": \"letter\"}}, \"xaxis5\": {\"anchor\": \"y5\", \"domain\": [0.8, 0.9800000000000001], \"matches\": \"x\", \"title\": {\"text\": \"letter\"}}, \"yaxis\": {\"anchor\": \"x\", \"domain\": [0.0, 1.0], \"range\": [0, 18], \"title\": {\"text\": \"frequency\"}}, \"yaxis2\": {\"anchor\": \"x2\", \"domain\": [0.0, 1.0], \"matches\": \"y\", \"showticklabels\": false}, \"yaxis3\": {\"anchor\": \"x3\", \"domain\": [0.0, 1.0], \"matches\": \"y\", \"showticklabels\": false}, \"yaxis4\": {\"anchor\": \"x4\", \"domain\": [0.0, 1.0], \"matches\": \"y\", \"showticklabels\": false}, \"yaxis5\": {\"anchor\": \"x5\", \"domain\": [0.0, 1.0], \"matches\": \"y\", \"showticklabels\": false}},\n",
       "                        {\"responsive\": true}\n",
       "                    ).then(function(){\n",
       "                            \n",
       "var gd = document.getElementById('507af960-a439-4b10-bb5f-43b9f402b004');\n",
       "var x = new MutationObserver(function (mutations, observer) {{\n",
       "        var display = window.getComputedStyle(gd).display;\n",
       "        if (!display || display === 'none') {{\n",
       "            console.log([gd, 'removed!']);\n",
       "            Plotly.purge(gd);\n",
       "            observer.disconnect();\n",
       "        }}\n",
       "}});\n",
       "\n",
       "// Listen for the removal of the full notebook cells\n",
       "var notebookContainer = gd.closest('#notebook-container');\n",
       "if (notebookContainer) {{\n",
       "    x.observe(notebookContainer, {childList: true});\n",
       "}}\n",
       "\n",
       "// Listen for the clearing of the current output cell\n",
       "var outputEl = gd.closest('.output');\n",
       "if (outputEl) {{\n",
       "    x.observe(outputEl, {childList: true});\n",
       "}}\n",
       "\n",
       "                        })\n",
       "                };\n",
       "                });\n",
       "            </script>\n",
       "        </div>"
      ]
     },
     "metadata": {},
     "output_type": "display_data"
    }
   ],
   "source": [
    "# show a partial fingerprint for several languages - to see that immediately a meaningful difference emerges\n",
    "fig = px.bar(df[(df['language'].isin(  ['French','German','Dutch','Czech','Italian'])) & (df['letter'].isin(['a','e','i','o','u','y','c','x']))] \n",
    "             , x=\"letter\", y=\"frequency\"\n",
    "             , range_y=[0,18]\n",
    "             , color=\"language\"\n",
    "             , barmode=\"group\"\n",
    "             , facet_col=\"language\"\n",
    "            )\n",
    "\n",
    "fig.update_layout(\n",
    "    title=go.layout.Title(\n",
    "        text=\"Bar Chart with Relative Frequencies per Letter\"\n",
    "    ))\n",
    "fig.show()"
   ]
  },
  {
   "cell_type": "code",
   "execution_count": 239,
   "metadata": {},
   "outputs": [],
   "source": [
    "# Process Text File and Determine Letter Frequency\n",
    "# from https://github.com/akleemans/letter-frequency/blob/master/language_identifier.py\n",
    "\n",
    "def process_file(textfile):\n",
    "    with open(textfile) as myfile:\n",
    "        content = myfile.readlines()\n",
    "    # initialize the dict with ordered entries for all letters, with each a value initialized to 0\n",
    "    dic ={letter: 0 for letter in all_letters}\n",
    "    total = 0\n",
    "    for line in content:\n",
    "        for letter in line:\n",
    "            letter = letter.lower()\n",
    "            if letter in all_letters:\n",
    "                total += 1\n",
    "                if letter in dic: dic[letter] += 1\n",
    "                else: dic[letter] = 0\n",
    "\n",
    "    # normalize\n",
    "    for letter in dic:\n",
    "        dic[letter] = dic[letter] / total\n",
    "    return dic\n",
    "\n",
    "textfile='text-file-italian.txt'\n",
    "\n",
    "text_lf_dict = process_file(textfile)\n"
   ]
  },
  {
   "cell_type": "code",
   "execution_count": 240,
   "metadata": {},
   "outputs": [
    {
     "data": {
      "text/html": [
       "<div>\n",
       "<style scoped>\n",
       "    .dataframe tbody tr th:only-of-type {\n",
       "        vertical-align: middle;\n",
       "    }\n",
       "\n",
       "    .dataframe tbody tr th {\n",
       "        vertical-align: top;\n",
       "    }\n",
       "\n",
       "    .dataframe thead th {\n",
       "        text-align: right;\n",
       "    }\n",
       "</style>\n",
       "<table border=\"1\" class=\"dataframe\">\n",
       "  <thead>\n",
       "    <tr style=\"text-align: right;\">\n",
       "      <th></th>\n",
       "      <th>frequency</th>\n",
       "      <th>letter</th>\n",
       "    </tr>\n",
       "  </thead>\n",
       "  <tbody>\n",
       "    <tr>\n",
       "      <th>a</th>\n",
       "      <td>0.103346</td>\n",
       "      <td>a</td>\n",
       "    </tr>\n",
       "    <tr>\n",
       "      <th>b</th>\n",
       "      <td>0.007594</td>\n",
       "      <td>b</td>\n",
       "    </tr>\n",
       "    <tr>\n",
       "      <th>c</th>\n",
       "      <td>0.043363</td>\n",
       "      <td>c</td>\n",
       "    </tr>\n",
       "    <tr>\n",
       "      <th>d</th>\n",
       "      <td>0.038081</td>\n",
       "      <td>d</td>\n",
       "    </tr>\n",
       "    <tr>\n",
       "      <th>e</th>\n",
       "      <td>0.127559</td>\n",
       "      <td>e</td>\n",
       "    </tr>\n",
       "    <tr>\n",
       "      <th>f</th>\n",
       "      <td>0.011886</td>\n",
       "      <td>f</td>\n",
       "    </tr>\n",
       "    <tr>\n",
       "      <th>g</th>\n",
       "      <td>0.019260</td>\n",
       "      <td>g</td>\n",
       "    </tr>\n",
       "    <tr>\n",
       "      <th>h</th>\n",
       "      <td>0.011116</td>\n",
       "      <td>h</td>\n",
       "    </tr>\n",
       "    <tr>\n",
       "      <th>i</th>\n",
       "      <td>0.107858</td>\n",
       "      <td>i</td>\n",
       "    </tr>\n",
       "    <tr>\n",
       "      <th>j</th>\n",
       "      <td>0.000110</td>\n",
       "      <td>j</td>\n",
       "    </tr>\n",
       "  </tbody>\n",
       "</table>\n",
       "</div>"
      ],
      "text/plain": [
       "   frequency letter\n",
       "a   0.103346      a\n",
       "b   0.007594      b\n",
       "c   0.043363      c\n",
       "d   0.038081      d\n",
       "e   0.127559      e\n",
       "f   0.011886      f\n",
       "g   0.019260      g\n",
       "h   0.011116      h\n",
       "i   0.107858      i\n",
       "j   0.000110      j"
      ]
     },
     "execution_count": 240,
     "metadata": {},
     "output_type": "execute_result"
    }
   ],
   "source": [
    "# create a dataframe text_lf that contains all letters and for each letter the relative frequency in the processed document\n",
    "text_lf = pd.DataFrame.from_dict(text_lf_dict, orient='index', columns=['frequency'])\n",
    "text_lf['letter'] = text_lf.index\n",
    "text_lf.head(10)       "
   ]
  },
  {
   "cell_type": "code",
   "execution_count": 241,
   "metadata": {},
   "outputs": [
    {
     "data": {
      "application/vnd.plotly.v1+json": {
       "config": {
        "plotlyServerURL": "https://plot.ly"
       },
       "data": [
        {
         "alignmentgroup": "True",
         "hoverlabel": {
          "namelength": 0
         },
         "hovertemplate": "letter=%{x}<br>frequency=%{y}",
         "legendgroup": "",
         "marker": {
          "color": "#636efa"
         },
         "name": "",
         "offsetgroup": "",
         "orientation": "v",
         "showlegend": false,
         "textposition": "auto",
         "type": "bar",
         "x": [
          "a",
          "b",
          "c",
          "d",
          "e",
          "f",
          "g",
          "h",
          "i",
          "j",
          "k",
          "l",
          "m",
          "n",
          "o",
          "p",
          "q",
          "r",
          "s",
          "t",
          "u",
          "v",
          "w",
          "x",
          "y",
          "z",
          "ß",
          "à",
          "á",
          "â",
          "ã",
          "ä",
          "å",
          "æ",
          "ç",
          "è",
          "é",
          "ê",
          "ë",
          "ì",
          "í",
          "î",
          "ï",
          "ð",
          "ñ",
          "ò",
          "ó",
          "ô",
          "ö",
          "ø",
          "ù",
          "ú",
          "ü",
          "ý",
          "þ",
          "ą",
          "ć",
          "ĉ",
          "č",
          "ď",
          "ę",
          "ě",
          "ĝ",
          "ğ",
          "ĥ",
          "ı",
          "ĵ",
          "ł",
          "ń",
          "ň",
          "œ",
          "ř",
          "ś",
          "ŝ",
          "ş",
          "š",
          "ť",
          "ŭ",
          "ů",
          "ź",
          "ż",
          "ž"
         ],
         "xaxis": "x",
         "y": [
          0.10334580673563724,
          0.007594100814439797,
          0.04336341624477218,
          0.03808056350429232,
          0.12755888179616992,
          0.011886418666079684,
          0.01926040061633282,
          0.01111600264142637,
          0.10785824345146379,
          0.00011005943209333039,
          0,
          0.06207351970063835,
          0.02784503631961259,
          0.06933744221879815,
          0.09145938806955756,
          0.028285274047985913,
          0.009465111160026414,
          0.060092449922958396,
          0.053929121725731895,
          0.05844155844155844,
          0.036429672022892365,
          0.014858023332599604,
          0,
          0.00011005943209333039,
          0,
          0.005833149900946511,
          0,
          0,
          0.0020911292097732775,
          0.00011005943209333039,
          0,
          0,
          0,
          0,
          0,
          0.0013207131851199648,
          0.002971604666519921,
          0,
          0,
          0,
          0.0017609509134932863,
          0,
          0,
          0,
          0,
          0.0018710103455866168,
          0,
          0,
          0,
          0,
          0,
          0.0015408320493066256,
          0,
          0,
          0,
          0,
          0,
          0,
          0,
          0,
          0,
          0,
          0,
          0,
          0,
          0,
          0,
          0,
          0,
          0,
          0,
          0,
          0,
          0,
          0,
          0,
          0,
          0,
          0,
          0,
          0,
          0
         ],
         "yaxis": "y"
        }
       ],
       "layout": {
        "barmode": "group",
        "height": 600,
        "legend": {
         "tracegroupgap": 0
        },
        "margin": {
         "t": 60
        },
        "template": {
         "data": {
          "bar": [
           {
            "error_x": {
             "color": "#2a3f5f"
            },
            "error_y": {
             "color": "#2a3f5f"
            },
            "marker": {
             "line": {
              "color": "#E5ECF6",
              "width": 0.5
             }
            },
            "type": "bar"
           }
          ],
          "barpolar": [
           {
            "marker": {
             "line": {
              "color": "#E5ECF6",
              "width": 0.5
             }
            },
            "type": "barpolar"
           }
          ],
          "carpet": [
           {
            "aaxis": {
             "endlinecolor": "#2a3f5f",
             "gridcolor": "white",
             "linecolor": "white",
             "minorgridcolor": "white",
             "startlinecolor": "#2a3f5f"
            },
            "baxis": {
             "endlinecolor": "#2a3f5f",
             "gridcolor": "white",
             "linecolor": "white",
             "minorgridcolor": "white",
             "startlinecolor": "#2a3f5f"
            },
            "type": "carpet"
           }
          ],
          "choropleth": [
           {
            "colorbar": {
             "outlinewidth": 0,
             "ticks": ""
            },
            "type": "choropleth"
           }
          ],
          "contour": [
           {
            "colorbar": {
             "outlinewidth": 0,
             "ticks": ""
            },
            "colorscale": [
             [
              0,
              "#0d0887"
             ],
             [
              0.1111111111111111,
              "#46039f"
             ],
             [
              0.2222222222222222,
              "#7201a8"
             ],
             [
              0.3333333333333333,
              "#9c179e"
             ],
             [
              0.4444444444444444,
              "#bd3786"
             ],
             [
              0.5555555555555556,
              "#d8576b"
             ],
             [
              0.6666666666666666,
              "#ed7953"
             ],
             [
              0.7777777777777778,
              "#fb9f3a"
             ],
             [
              0.8888888888888888,
              "#fdca26"
             ],
             [
              1,
              "#f0f921"
             ]
            ],
            "type": "contour"
           }
          ],
          "contourcarpet": [
           {
            "colorbar": {
             "outlinewidth": 0,
             "ticks": ""
            },
            "type": "contourcarpet"
           }
          ],
          "heatmap": [
           {
            "colorbar": {
             "outlinewidth": 0,
             "ticks": ""
            },
            "colorscale": [
             [
              0,
              "#0d0887"
             ],
             [
              0.1111111111111111,
              "#46039f"
             ],
             [
              0.2222222222222222,
              "#7201a8"
             ],
             [
              0.3333333333333333,
              "#9c179e"
             ],
             [
              0.4444444444444444,
              "#bd3786"
             ],
             [
              0.5555555555555556,
              "#d8576b"
             ],
             [
              0.6666666666666666,
              "#ed7953"
             ],
             [
              0.7777777777777778,
              "#fb9f3a"
             ],
             [
              0.8888888888888888,
              "#fdca26"
             ],
             [
              1,
              "#f0f921"
             ]
            ],
            "type": "heatmap"
           }
          ],
          "heatmapgl": [
           {
            "colorbar": {
             "outlinewidth": 0,
             "ticks": ""
            },
            "colorscale": [
             [
              0,
              "#0d0887"
             ],
             [
              0.1111111111111111,
              "#46039f"
             ],
             [
              0.2222222222222222,
              "#7201a8"
             ],
             [
              0.3333333333333333,
              "#9c179e"
             ],
             [
              0.4444444444444444,
              "#bd3786"
             ],
             [
              0.5555555555555556,
              "#d8576b"
             ],
             [
              0.6666666666666666,
              "#ed7953"
             ],
             [
              0.7777777777777778,
              "#fb9f3a"
             ],
             [
              0.8888888888888888,
              "#fdca26"
             ],
             [
              1,
              "#f0f921"
             ]
            ],
            "type": "heatmapgl"
           }
          ],
          "histogram": [
           {
            "marker": {
             "colorbar": {
              "outlinewidth": 0,
              "ticks": ""
             }
            },
            "type": "histogram"
           }
          ],
          "histogram2d": [
           {
            "colorbar": {
             "outlinewidth": 0,
             "ticks": ""
            },
            "colorscale": [
             [
              0,
              "#0d0887"
             ],
             [
              0.1111111111111111,
              "#46039f"
             ],
             [
              0.2222222222222222,
              "#7201a8"
             ],
             [
              0.3333333333333333,
              "#9c179e"
             ],
             [
              0.4444444444444444,
              "#bd3786"
             ],
             [
              0.5555555555555556,
              "#d8576b"
             ],
             [
              0.6666666666666666,
              "#ed7953"
             ],
             [
              0.7777777777777778,
              "#fb9f3a"
             ],
             [
              0.8888888888888888,
              "#fdca26"
             ],
             [
              1,
              "#f0f921"
             ]
            ],
            "type": "histogram2d"
           }
          ],
          "histogram2dcontour": [
           {
            "colorbar": {
             "outlinewidth": 0,
             "ticks": ""
            },
            "colorscale": [
             [
              0,
              "#0d0887"
             ],
             [
              0.1111111111111111,
              "#46039f"
             ],
             [
              0.2222222222222222,
              "#7201a8"
             ],
             [
              0.3333333333333333,
              "#9c179e"
             ],
             [
              0.4444444444444444,
              "#bd3786"
             ],
             [
              0.5555555555555556,
              "#d8576b"
             ],
             [
              0.6666666666666666,
              "#ed7953"
             ],
             [
              0.7777777777777778,
              "#fb9f3a"
             ],
             [
              0.8888888888888888,
              "#fdca26"
             ],
             [
              1,
              "#f0f921"
             ]
            ],
            "type": "histogram2dcontour"
           }
          ],
          "mesh3d": [
           {
            "colorbar": {
             "outlinewidth": 0,
             "ticks": ""
            },
            "type": "mesh3d"
           }
          ],
          "parcoords": [
           {
            "line": {
             "colorbar": {
              "outlinewidth": 0,
              "ticks": ""
             }
            },
            "type": "parcoords"
           }
          ],
          "scatter": [
           {
            "marker": {
             "colorbar": {
              "outlinewidth": 0,
              "ticks": ""
             }
            },
            "type": "scatter"
           }
          ],
          "scatter3d": [
           {
            "line": {
             "colorbar": {
              "outlinewidth": 0,
              "ticks": ""
             }
            },
            "marker": {
             "colorbar": {
              "outlinewidth": 0,
              "ticks": ""
             }
            },
            "type": "scatter3d"
           }
          ],
          "scattercarpet": [
           {
            "marker": {
             "colorbar": {
              "outlinewidth": 0,
              "ticks": ""
             }
            },
            "type": "scattercarpet"
           }
          ],
          "scattergeo": [
           {
            "marker": {
             "colorbar": {
              "outlinewidth": 0,
              "ticks": ""
             }
            },
            "type": "scattergeo"
           }
          ],
          "scattergl": [
           {
            "marker": {
             "colorbar": {
              "outlinewidth": 0,
              "ticks": ""
             }
            },
            "type": "scattergl"
           }
          ],
          "scattermapbox": [
           {
            "marker": {
             "colorbar": {
              "outlinewidth": 0,
              "ticks": ""
             }
            },
            "type": "scattermapbox"
           }
          ],
          "scatterpolar": [
           {
            "marker": {
             "colorbar": {
              "outlinewidth": 0,
              "ticks": ""
             }
            },
            "type": "scatterpolar"
           }
          ],
          "scatterpolargl": [
           {
            "marker": {
             "colorbar": {
              "outlinewidth": 0,
              "ticks": ""
             }
            },
            "type": "scatterpolargl"
           }
          ],
          "scatterternary": [
           {
            "marker": {
             "colorbar": {
              "outlinewidth": 0,
              "ticks": ""
             }
            },
            "type": "scatterternary"
           }
          ],
          "surface": [
           {
            "colorbar": {
             "outlinewidth": 0,
             "ticks": ""
            },
            "colorscale": [
             [
              0,
              "#0d0887"
             ],
             [
              0.1111111111111111,
              "#46039f"
             ],
             [
              0.2222222222222222,
              "#7201a8"
             ],
             [
              0.3333333333333333,
              "#9c179e"
             ],
             [
              0.4444444444444444,
              "#bd3786"
             ],
             [
              0.5555555555555556,
              "#d8576b"
             ],
             [
              0.6666666666666666,
              "#ed7953"
             ],
             [
              0.7777777777777778,
              "#fb9f3a"
             ],
             [
              0.8888888888888888,
              "#fdca26"
             ],
             [
              1,
              "#f0f921"
             ]
            ],
            "type": "surface"
           }
          ],
          "table": [
           {
            "cells": {
             "fill": {
              "color": "#EBF0F8"
             },
             "line": {
              "color": "white"
             }
            },
            "header": {
             "fill": {
              "color": "#C8D4E3"
             },
             "line": {
              "color": "white"
             }
            },
            "type": "table"
           }
          ]
         },
         "layout": {
          "annotationdefaults": {
           "arrowcolor": "#2a3f5f",
           "arrowhead": 0,
           "arrowwidth": 1
          },
          "colorscale": {
           "diverging": [
            [
             0,
             "#8e0152"
            ],
            [
             0.1,
             "#c51b7d"
            ],
            [
             0.2,
             "#de77ae"
            ],
            [
             0.3,
             "#f1b6da"
            ],
            [
             0.4,
             "#fde0ef"
            ],
            [
             0.5,
             "#f7f7f7"
            ],
            [
             0.6,
             "#e6f5d0"
            ],
            [
             0.7,
             "#b8e186"
            ],
            [
             0.8,
             "#7fbc41"
            ],
            [
             0.9,
             "#4d9221"
            ],
            [
             1,
             "#276419"
            ]
           ],
           "sequential": [
            [
             0,
             "#0d0887"
            ],
            [
             0.1111111111111111,
             "#46039f"
            ],
            [
             0.2222222222222222,
             "#7201a8"
            ],
            [
             0.3333333333333333,
             "#9c179e"
            ],
            [
             0.4444444444444444,
             "#bd3786"
            ],
            [
             0.5555555555555556,
             "#d8576b"
            ],
            [
             0.6666666666666666,
             "#ed7953"
            ],
            [
             0.7777777777777778,
             "#fb9f3a"
            ],
            [
             0.8888888888888888,
             "#fdca26"
            ],
            [
             1,
             "#f0f921"
            ]
           ],
           "sequentialminus": [
            [
             0,
             "#0d0887"
            ],
            [
             0.1111111111111111,
             "#46039f"
            ],
            [
             0.2222222222222222,
             "#7201a8"
            ],
            [
             0.3333333333333333,
             "#9c179e"
            ],
            [
             0.4444444444444444,
             "#bd3786"
            ],
            [
             0.5555555555555556,
             "#d8576b"
            ],
            [
             0.6666666666666666,
             "#ed7953"
            ],
            [
             0.7777777777777778,
             "#fb9f3a"
            ],
            [
             0.8888888888888888,
             "#fdca26"
            ],
            [
             1,
             "#f0f921"
            ]
           ]
          },
          "colorway": [
           "#636efa",
           "#EF553B",
           "#00cc96",
           "#ab63fa",
           "#FFA15A",
           "#19d3f3",
           "#FF6692",
           "#B6E880",
           "#FF97FF",
           "#FECB52"
          ],
          "font": {
           "color": "#2a3f5f"
          },
          "geo": {
           "bgcolor": "white",
           "lakecolor": "white",
           "landcolor": "#E5ECF6",
           "showlakes": true,
           "showland": true,
           "subunitcolor": "white"
          },
          "hoverlabel": {
           "align": "left"
          },
          "hovermode": "closest",
          "mapbox": {
           "style": "light"
          },
          "paper_bgcolor": "white",
          "plot_bgcolor": "#E5ECF6",
          "polar": {
           "angularaxis": {
            "gridcolor": "white",
            "linecolor": "white",
            "ticks": ""
           },
           "bgcolor": "#E5ECF6",
           "radialaxis": {
            "gridcolor": "white",
            "linecolor": "white",
            "ticks": ""
           }
          },
          "scene": {
           "xaxis": {
            "backgroundcolor": "#E5ECF6",
            "gridcolor": "white",
            "gridwidth": 2,
            "linecolor": "white",
            "showbackground": true,
            "ticks": "",
            "zerolinecolor": "white"
           },
           "yaxis": {
            "backgroundcolor": "#E5ECF6",
            "gridcolor": "white",
            "gridwidth": 2,
            "linecolor": "white",
            "showbackground": true,
            "ticks": "",
            "zerolinecolor": "white"
           },
           "zaxis": {
            "backgroundcolor": "#E5ECF6",
            "gridcolor": "white",
            "gridwidth": 2,
            "linecolor": "white",
            "showbackground": true,
            "ticks": "",
            "zerolinecolor": "white"
           }
          },
          "shapedefaults": {
           "line": {
            "color": "#2a3f5f"
           }
          },
          "ternary": {
           "aaxis": {
            "gridcolor": "white",
            "linecolor": "white",
            "ticks": ""
           },
           "baxis": {
            "gridcolor": "white",
            "linecolor": "white",
            "ticks": ""
           },
           "bgcolor": "#E5ECF6",
           "caxis": {
            "gridcolor": "white",
            "linecolor": "white",
            "ticks": ""
           }
          },
          "title": {
           "x": 0.05
          },
          "xaxis": {
           "automargin": true,
           "gridcolor": "white",
           "linecolor": "white",
           "ticks": "",
           "zerolinecolor": "white",
           "zerolinewidth": 2
          },
          "yaxis": {
           "automargin": true,
           "gridcolor": "white",
           "linecolor": "white",
           "ticks": "",
           "zerolinecolor": "white",
           "zerolinewidth": 2
          }
         }
        },
        "title": {
         "text": "Bar Chart with Relative Frequencies for Letters for text in as to yet unknown language"
        },
        "xaxis": {
         "anchor": "y",
         "domain": [
          0,
          0.98
         ],
         "title": {
          "text": "letter"
         }
        },
        "yaxis": {
         "anchor": "x",
         "domain": [
          0,
          1
         ],
         "range": [
          0,
          0.14
         ],
         "title": {
          "text": "frequency"
         }
        }
       }
      },
      "text/html": [
       "<div>\n",
       "        \n",
       "        \n",
       "            <div id=\"81149b5d-8e28-4933-ac8d-738fa7e1f696\" class=\"plotly-graph-div\" style=\"height:600px; width:100%;\"></div>\n",
       "            <script type=\"text/javascript\">\n",
       "                require([\"plotly\"], function(Plotly) {\n",
       "                    window.PLOTLYENV=window.PLOTLYENV || {};\n",
       "                    \n",
       "                if (document.getElementById(\"81149b5d-8e28-4933-ac8d-738fa7e1f696\")) {\n",
       "                    Plotly.newPlot(\n",
       "                        '81149b5d-8e28-4933-ac8d-738fa7e1f696',\n",
       "                        [{\"alignmentgroup\": \"True\", \"hoverlabel\": {\"namelength\": 0}, \"hovertemplate\": \"letter=%{x}<br>frequency=%{y}\", \"legendgroup\": \"\", \"marker\": {\"color\": \"#636efa\"}, \"name\": \"\", \"offsetgroup\": \"\", \"orientation\": \"v\", \"showlegend\": false, \"textposition\": \"auto\", \"type\": \"bar\", \"x\": [\"a\", \"b\", \"c\", \"d\", \"e\", \"f\", \"g\", \"h\", \"i\", \"j\", \"k\", \"l\", \"m\", \"n\", \"o\", \"p\", \"q\", \"r\", \"s\", \"t\", \"u\", \"v\", \"w\", \"x\", \"y\", \"z\", \"\\u00df\", \"\\u00e0\", \"\\u00e1\", \"\\u00e2\", \"\\u00e3\", \"\\u00e4\", \"\\u00e5\", \"\\u00e6\", \"\\u00e7\", \"\\u00e8\", \"\\u00e9\", \"\\u00ea\", \"\\u00eb\", \"\\u00ec\", \"\\u00ed\", \"\\u00ee\", \"\\u00ef\", \"\\u00f0\", \"\\u00f1\", \"\\u00f2\", \"\\u00f3\", \"\\u00f4\", \"\\u00f6\", \"\\u00f8\", \"\\u00f9\", \"\\u00fa\", \"\\u00fc\", \"\\u00fd\", \"\\u00fe\", \"\\u0105\", \"\\u0107\", \"\\u0109\", \"\\u010d\", \"\\u010f\", \"\\u0119\", \"\\u011b\", \"\\u011d\", \"\\u011f\", \"\\u0125\", \"\\u0131\", \"\\u0135\", \"\\u0142\", \"\\u0144\", \"\\u0148\", \"\\u0153\", \"\\u0159\", \"\\u015b\", \"\\u015d\", \"\\u015f\", \"\\u0161\", \"\\u0165\", \"\\u016d\", \"\\u016f\", \"\\u017a\", \"\\u017c\", \"\\u017e\"], \"xaxis\": \"x\", \"y\": [0.10334580673563724, 0.007594100814439797, 0.04336341624477218, 0.03808056350429232, 0.12755888179616992, 0.011886418666079684, 0.01926040061633282, 0.01111600264142637, 0.10785824345146379, 0.00011005943209333039, 0.0, 0.06207351970063835, 0.02784503631961259, 0.06933744221879815, 0.09145938806955756, 0.028285274047985913, 0.009465111160026414, 0.060092449922958396, 0.053929121725731895, 0.05844155844155844, 0.036429672022892365, 0.014858023332599604, 0.0, 0.00011005943209333039, 0.0, 0.005833149900946511, 0.0, 0.0, 0.0020911292097732775, 0.00011005943209333039, 0.0, 0.0, 0.0, 0.0, 0.0, 0.0013207131851199648, 0.002971604666519921, 0.0, 0.0, 0.0, 0.0017609509134932863, 0.0, 0.0, 0.0, 0.0, 0.0018710103455866168, 0.0, 0.0, 0.0, 0.0, 0.0, 0.0015408320493066256, 0.0, 0.0, 0.0, 0.0, 0.0, 0.0, 0.0, 0.0, 0.0, 0.0, 0.0, 0.0, 0.0, 0.0, 0.0, 0.0, 0.0, 0.0, 0.0, 0.0, 0.0, 0.0, 0.0, 0.0, 0.0, 0.0, 0.0, 0.0, 0.0, 0.0], \"yaxis\": \"y\"}],\n",
       "                        {\"barmode\": \"group\", \"height\": 600, \"legend\": {\"tracegroupgap\": 0}, \"margin\": {\"t\": 60}, \"template\": {\"data\": {\"bar\": [{\"error_x\": {\"color\": \"#2a3f5f\"}, \"error_y\": {\"color\": \"#2a3f5f\"}, \"marker\": {\"line\": {\"color\": \"#E5ECF6\", \"width\": 0.5}}, \"type\": \"bar\"}], \"barpolar\": [{\"marker\": {\"line\": {\"color\": \"#E5ECF6\", \"width\": 0.5}}, \"type\": \"barpolar\"}], \"carpet\": [{\"aaxis\": {\"endlinecolor\": \"#2a3f5f\", \"gridcolor\": \"white\", \"linecolor\": \"white\", \"minorgridcolor\": \"white\", \"startlinecolor\": \"#2a3f5f\"}, \"baxis\": {\"endlinecolor\": \"#2a3f5f\", \"gridcolor\": \"white\", \"linecolor\": \"white\", \"minorgridcolor\": \"white\", \"startlinecolor\": \"#2a3f5f\"}, \"type\": \"carpet\"}], \"choropleth\": [{\"colorbar\": {\"outlinewidth\": 0, \"ticks\": \"\"}, \"type\": \"choropleth\"}], \"contour\": [{\"colorbar\": {\"outlinewidth\": 0, \"ticks\": \"\"}, \"colorscale\": [[0.0, \"#0d0887\"], [0.1111111111111111, \"#46039f\"], [0.2222222222222222, \"#7201a8\"], [0.3333333333333333, \"#9c179e\"], [0.4444444444444444, \"#bd3786\"], [0.5555555555555556, \"#d8576b\"], [0.6666666666666666, \"#ed7953\"], [0.7777777777777778, \"#fb9f3a\"], [0.8888888888888888, \"#fdca26\"], [1.0, \"#f0f921\"]], \"type\": \"contour\"}], \"contourcarpet\": [{\"colorbar\": {\"outlinewidth\": 0, \"ticks\": \"\"}, \"type\": \"contourcarpet\"}], \"heatmap\": [{\"colorbar\": {\"outlinewidth\": 0, \"ticks\": \"\"}, \"colorscale\": [[0.0, \"#0d0887\"], [0.1111111111111111, \"#46039f\"], [0.2222222222222222, \"#7201a8\"], [0.3333333333333333, \"#9c179e\"], [0.4444444444444444, \"#bd3786\"], [0.5555555555555556, \"#d8576b\"], [0.6666666666666666, \"#ed7953\"], [0.7777777777777778, \"#fb9f3a\"], [0.8888888888888888, \"#fdca26\"], [1.0, \"#f0f921\"]], \"type\": \"heatmap\"}], \"heatmapgl\": [{\"colorbar\": {\"outlinewidth\": 0, \"ticks\": \"\"}, \"colorscale\": [[0.0, \"#0d0887\"], [0.1111111111111111, \"#46039f\"], [0.2222222222222222, \"#7201a8\"], [0.3333333333333333, \"#9c179e\"], [0.4444444444444444, \"#bd3786\"], [0.5555555555555556, \"#d8576b\"], [0.6666666666666666, \"#ed7953\"], [0.7777777777777778, \"#fb9f3a\"], [0.8888888888888888, \"#fdca26\"], [1.0, \"#f0f921\"]], \"type\": \"heatmapgl\"}], \"histogram\": [{\"marker\": {\"colorbar\": {\"outlinewidth\": 0, \"ticks\": \"\"}}, \"type\": \"histogram\"}], \"histogram2d\": [{\"colorbar\": {\"outlinewidth\": 0, \"ticks\": \"\"}, \"colorscale\": [[0.0, \"#0d0887\"], [0.1111111111111111, \"#46039f\"], [0.2222222222222222, \"#7201a8\"], [0.3333333333333333, \"#9c179e\"], [0.4444444444444444, \"#bd3786\"], [0.5555555555555556, \"#d8576b\"], [0.6666666666666666, \"#ed7953\"], [0.7777777777777778, \"#fb9f3a\"], [0.8888888888888888, \"#fdca26\"], [1.0, \"#f0f921\"]], \"type\": \"histogram2d\"}], \"histogram2dcontour\": [{\"colorbar\": {\"outlinewidth\": 0, \"ticks\": \"\"}, \"colorscale\": [[0.0, \"#0d0887\"], [0.1111111111111111, \"#46039f\"], [0.2222222222222222, \"#7201a8\"], [0.3333333333333333, \"#9c179e\"], [0.4444444444444444, \"#bd3786\"], [0.5555555555555556, \"#d8576b\"], [0.6666666666666666, \"#ed7953\"], [0.7777777777777778, \"#fb9f3a\"], [0.8888888888888888, \"#fdca26\"], [1.0, \"#f0f921\"]], \"type\": \"histogram2dcontour\"}], \"mesh3d\": [{\"colorbar\": {\"outlinewidth\": 0, \"ticks\": \"\"}, \"type\": \"mesh3d\"}], \"parcoords\": [{\"line\": {\"colorbar\": {\"outlinewidth\": 0, \"ticks\": \"\"}}, \"type\": \"parcoords\"}], \"scatter\": [{\"marker\": {\"colorbar\": {\"outlinewidth\": 0, \"ticks\": \"\"}}, \"type\": \"scatter\"}], \"scatter3d\": [{\"line\": {\"colorbar\": {\"outlinewidth\": 0, \"ticks\": \"\"}}, \"marker\": {\"colorbar\": {\"outlinewidth\": 0, \"ticks\": \"\"}}, \"type\": \"scatter3d\"}], \"scattercarpet\": [{\"marker\": {\"colorbar\": {\"outlinewidth\": 0, \"ticks\": \"\"}}, \"type\": \"scattercarpet\"}], \"scattergeo\": [{\"marker\": {\"colorbar\": {\"outlinewidth\": 0, \"ticks\": \"\"}}, \"type\": \"scattergeo\"}], \"scattergl\": [{\"marker\": {\"colorbar\": {\"outlinewidth\": 0, \"ticks\": \"\"}}, \"type\": \"scattergl\"}], \"scattermapbox\": [{\"marker\": {\"colorbar\": {\"outlinewidth\": 0, \"ticks\": \"\"}}, \"type\": \"scattermapbox\"}], \"scatterpolar\": [{\"marker\": {\"colorbar\": {\"outlinewidth\": 0, \"ticks\": \"\"}}, \"type\": \"scatterpolar\"}], \"scatterpolargl\": [{\"marker\": {\"colorbar\": {\"outlinewidth\": 0, \"ticks\": \"\"}}, \"type\": \"scatterpolargl\"}], \"scatterternary\": [{\"marker\": {\"colorbar\": {\"outlinewidth\": 0, \"ticks\": \"\"}}, \"type\": \"scatterternary\"}], \"surface\": [{\"colorbar\": {\"outlinewidth\": 0, \"ticks\": \"\"}, \"colorscale\": [[0.0, \"#0d0887\"], [0.1111111111111111, \"#46039f\"], [0.2222222222222222, \"#7201a8\"], [0.3333333333333333, \"#9c179e\"], [0.4444444444444444, \"#bd3786\"], [0.5555555555555556, \"#d8576b\"], [0.6666666666666666, \"#ed7953\"], [0.7777777777777778, \"#fb9f3a\"], [0.8888888888888888, \"#fdca26\"], [1.0, \"#f0f921\"]], \"type\": \"surface\"}], \"table\": [{\"cells\": {\"fill\": {\"color\": \"#EBF0F8\"}, \"line\": {\"color\": \"white\"}}, \"header\": {\"fill\": {\"color\": \"#C8D4E3\"}, \"line\": {\"color\": \"white\"}}, \"type\": \"table\"}]}, \"layout\": {\"annotationdefaults\": {\"arrowcolor\": \"#2a3f5f\", \"arrowhead\": 0, \"arrowwidth\": 1}, \"colorscale\": {\"diverging\": [[0, \"#8e0152\"], [0.1, \"#c51b7d\"], [0.2, \"#de77ae\"], [0.3, \"#f1b6da\"], [0.4, \"#fde0ef\"], [0.5, \"#f7f7f7\"], [0.6, \"#e6f5d0\"], [0.7, \"#b8e186\"], [0.8, \"#7fbc41\"], [0.9, \"#4d9221\"], [1, \"#276419\"]], \"sequential\": [[0.0, \"#0d0887\"], [0.1111111111111111, \"#46039f\"], [0.2222222222222222, \"#7201a8\"], [0.3333333333333333, \"#9c179e\"], [0.4444444444444444, \"#bd3786\"], [0.5555555555555556, \"#d8576b\"], [0.6666666666666666, \"#ed7953\"], [0.7777777777777778, \"#fb9f3a\"], [0.8888888888888888, \"#fdca26\"], [1.0, \"#f0f921\"]], \"sequentialminus\": [[0.0, \"#0d0887\"], [0.1111111111111111, \"#46039f\"], [0.2222222222222222, \"#7201a8\"], [0.3333333333333333, \"#9c179e\"], [0.4444444444444444, \"#bd3786\"], [0.5555555555555556, \"#d8576b\"], [0.6666666666666666, \"#ed7953\"], [0.7777777777777778, \"#fb9f3a\"], [0.8888888888888888, \"#fdca26\"], [1.0, \"#f0f921\"]]}, \"colorway\": [\"#636efa\", \"#EF553B\", \"#00cc96\", \"#ab63fa\", \"#FFA15A\", \"#19d3f3\", \"#FF6692\", \"#B6E880\", \"#FF97FF\", \"#FECB52\"], \"font\": {\"color\": \"#2a3f5f\"}, \"geo\": {\"bgcolor\": \"white\", \"lakecolor\": \"white\", \"landcolor\": \"#E5ECF6\", \"showlakes\": true, \"showland\": true, \"subunitcolor\": \"white\"}, \"hoverlabel\": {\"align\": \"left\"}, \"hovermode\": \"closest\", \"mapbox\": {\"style\": \"light\"}, \"paper_bgcolor\": \"white\", \"plot_bgcolor\": \"#E5ECF6\", \"polar\": {\"angularaxis\": {\"gridcolor\": \"white\", \"linecolor\": \"white\", \"ticks\": \"\"}, \"bgcolor\": \"#E5ECF6\", \"radialaxis\": {\"gridcolor\": \"white\", \"linecolor\": \"white\", \"ticks\": \"\"}}, \"scene\": {\"xaxis\": {\"backgroundcolor\": \"#E5ECF6\", \"gridcolor\": \"white\", \"gridwidth\": 2, \"linecolor\": \"white\", \"showbackground\": true, \"ticks\": \"\", \"zerolinecolor\": \"white\"}, \"yaxis\": {\"backgroundcolor\": \"#E5ECF6\", \"gridcolor\": \"white\", \"gridwidth\": 2, \"linecolor\": \"white\", \"showbackground\": true, \"ticks\": \"\", \"zerolinecolor\": \"white\"}, \"zaxis\": {\"backgroundcolor\": \"#E5ECF6\", \"gridcolor\": \"white\", \"gridwidth\": 2, \"linecolor\": \"white\", \"showbackground\": true, \"ticks\": \"\", \"zerolinecolor\": \"white\"}}, \"shapedefaults\": {\"line\": {\"color\": \"#2a3f5f\"}}, \"ternary\": {\"aaxis\": {\"gridcolor\": \"white\", \"linecolor\": \"white\", \"ticks\": \"\"}, \"baxis\": {\"gridcolor\": \"white\", \"linecolor\": \"white\", \"ticks\": \"\"}, \"bgcolor\": \"#E5ECF6\", \"caxis\": {\"gridcolor\": \"white\", \"linecolor\": \"white\", \"ticks\": \"\"}}, \"title\": {\"x\": 0.05}, \"xaxis\": {\"automargin\": true, \"gridcolor\": \"white\", \"linecolor\": \"white\", \"ticks\": \"\", \"zerolinecolor\": \"white\", \"zerolinewidth\": 2}, \"yaxis\": {\"automargin\": true, \"gridcolor\": \"white\", \"linecolor\": \"white\", \"ticks\": \"\", \"zerolinecolor\": \"white\", \"zerolinewidth\": 2}}}, \"title\": {\"text\": \"Bar Chart with Relative Frequencies for Letters for text in as to yet unknown language\"}, \"xaxis\": {\"anchor\": \"y\", \"domain\": [0.0, 0.98], \"title\": {\"text\": \"letter\"}}, \"yaxis\": {\"anchor\": \"x\", \"domain\": [0.0, 1.0], \"range\": [0, 0.14], \"title\": {\"text\": \"frequency\"}}},\n",
       "                        {\"responsive\": true}\n",
       "                    ).then(function(){\n",
       "                            \n",
       "var gd = document.getElementById('81149b5d-8e28-4933-ac8d-738fa7e1f696');\n",
       "var x = new MutationObserver(function (mutations, observer) {{\n",
       "        var display = window.getComputedStyle(gd).display;\n",
       "        if (!display || display === 'none') {{\n",
       "            console.log([gd, 'removed!']);\n",
       "            Plotly.purge(gd);\n",
       "            observer.disconnect();\n",
       "        }}\n",
       "}});\n",
       "\n",
       "// Listen for the removal of the full notebook cells\n",
       "var notebookContainer = gd.closest('#notebook-container');\n",
       "if (notebookContainer) {{\n",
       "    x.observe(notebookContainer, {childList: true});\n",
       "}}\n",
       "\n",
       "// Listen for the clearing of the current output cell\n",
       "var outputEl = gd.closest('.output');\n",
       "if (outputEl) {{\n",
       "    x.observe(outputEl, {childList: true});\n",
       "}}\n",
       "\n",
       "                        })\n",
       "                };\n",
       "                });\n",
       "            </script>\n",
       "        </div>"
      ]
     },
     "metadata": {},
     "output_type": "display_data"
    }
   ],
   "source": [
    "fig = px.bar(text_lf, x=\"letter\", y=\"frequency\"\n",
    "             , range_y=[0,0.14]\n",
    "             , barmode=\"group\"\n",
    "            )\n",
    "\n",
    "fig.update_layout(\n",
    "    title=go.layout.Title(\n",
    "        text=\"Bar Chart with Relative Frequencies for Letters for text in as to yet unknown language\"\n",
    "    ))\n",
    "fig.show()"
   ]
  },
  {
   "cell_type": "markdown",
   "metadata": {},
   "source": [
    "We can perhaps determine the language of the document by comparing this bar chart, this fingerprint, with the bar charts we have for all languages. The one that is most similar is probably for the language of our document.\n",
    "\n",
    "Spoiler alert. It is Italian.\n",
    "\n",
    "Is the next bar chart for Italian similar to the previous one?"
   ]
  },
  {
   "cell_type": "code",
   "execution_count": 247,
   "metadata": {},
   "outputs": [
    {
     "data": {
      "application/vnd.plotly.v1+json": {
       "config": {
        "plotlyServerURL": "https://plot.ly"
       },
       "data": [
        {
         "alignmentgroup": "True",
         "hoverlabel": {
          "namelength": 0
         },
         "hovertemplate": "language=Italian<br>letter=%{x}<br>frequency=%{y}",
         "legendgroup": "language=Italian",
         "marker": {
          "color": "#636efa"
         },
         "name": "language=Italian",
         "offsetgroup": "language=Italian",
         "orientation": "v",
         "showlegend": true,
         "textposition": "auto",
         "type": "bar",
         "x": [
          "a",
          "b",
          "c",
          "d",
          "e",
          "f",
          "g",
          "h",
          "i",
          "j",
          "k",
          "l",
          "m",
          "n",
          "o",
          "p",
          "q",
          "r",
          "s",
          "t",
          "u",
          "v",
          "w",
          "x",
          "y",
          "z",
          "ß",
          "à",
          "á",
          "â",
          "ã",
          "ä",
          "å",
          "æ",
          "ç",
          "è",
          "é",
          "ê",
          "ë",
          "ì",
          "í",
          "î",
          "ï",
          "ð",
          "ñ",
          "ò",
          "ó",
          "ô",
          "ö",
          "ø",
          "ù",
          "ú",
          "ü",
          "ý",
          "þ",
          "ą",
          "ć",
          "ĉ",
          "č",
          "ď",
          "ę",
          "ě",
          "ĝ",
          "ğ",
          "ĥ",
          "ı",
          "ĵ",
          "ł",
          "ń",
          "ň",
          "œ",
          "ř",
          "ś",
          "ŝ",
          "ş",
          "š",
          "ť",
          "ŭ",
          "ů",
          "ź",
          "ż",
          "ž"
         ],
         "xaxis": "x",
         "y": [
          11.745,
          0.927,
          4.501,
          3.736,
          11.792,
          1.153,
          1.644,
          0.636,
          10.143,
          0.011,
          0.009,
          6.51,
          2.512,
          6.883,
          9.832,
          3.056,
          0.505,
          6.367,
          4.981,
          5.623,
          3.011,
          2.097,
          0.033,
          0.003,
          0.02,
          1.181,
          0,
          0.635,
          0,
          0,
          0,
          0,
          0,
          0,
          0,
          0.263,
          0,
          0,
          0,
          0.03,
          0,
          0,
          0,
          0,
          0,
          0.002,
          0,
          0,
          0,
          0,
          0.166,
          0,
          0,
          0,
          0,
          0,
          0,
          0,
          0,
          0,
          0,
          0,
          0,
          0,
          0,
          0,
          0,
          0,
          0,
          0,
          0,
          0,
          0,
          0,
          0,
          0,
          0,
          0,
          0,
          0,
          0,
          0
         ],
         "yaxis": "y"
        }
       ],
       "layout": {
        "barmode": "group",
        "height": 600,
        "legend": {
         "tracegroupgap": 0
        },
        "margin": {
         "t": 60
        },
        "template": {
         "data": {
          "bar": [
           {
            "error_x": {
             "color": "#2a3f5f"
            },
            "error_y": {
             "color": "#2a3f5f"
            },
            "marker": {
             "line": {
              "color": "#E5ECF6",
              "width": 0.5
             }
            },
            "type": "bar"
           }
          ],
          "barpolar": [
           {
            "marker": {
             "line": {
              "color": "#E5ECF6",
              "width": 0.5
             }
            },
            "type": "barpolar"
           }
          ],
          "carpet": [
           {
            "aaxis": {
             "endlinecolor": "#2a3f5f",
             "gridcolor": "white",
             "linecolor": "white",
             "minorgridcolor": "white",
             "startlinecolor": "#2a3f5f"
            },
            "baxis": {
             "endlinecolor": "#2a3f5f",
             "gridcolor": "white",
             "linecolor": "white",
             "minorgridcolor": "white",
             "startlinecolor": "#2a3f5f"
            },
            "type": "carpet"
           }
          ],
          "choropleth": [
           {
            "colorbar": {
             "outlinewidth": 0,
             "ticks": ""
            },
            "type": "choropleth"
           }
          ],
          "contour": [
           {
            "colorbar": {
             "outlinewidth": 0,
             "ticks": ""
            },
            "colorscale": [
             [
              0,
              "#0d0887"
             ],
             [
              0.1111111111111111,
              "#46039f"
             ],
             [
              0.2222222222222222,
              "#7201a8"
             ],
             [
              0.3333333333333333,
              "#9c179e"
             ],
             [
              0.4444444444444444,
              "#bd3786"
             ],
             [
              0.5555555555555556,
              "#d8576b"
             ],
             [
              0.6666666666666666,
              "#ed7953"
             ],
             [
              0.7777777777777778,
              "#fb9f3a"
             ],
             [
              0.8888888888888888,
              "#fdca26"
             ],
             [
              1,
              "#f0f921"
             ]
            ],
            "type": "contour"
           }
          ],
          "contourcarpet": [
           {
            "colorbar": {
             "outlinewidth": 0,
             "ticks": ""
            },
            "type": "contourcarpet"
           }
          ],
          "heatmap": [
           {
            "colorbar": {
             "outlinewidth": 0,
             "ticks": ""
            },
            "colorscale": [
             [
              0,
              "#0d0887"
             ],
             [
              0.1111111111111111,
              "#46039f"
             ],
             [
              0.2222222222222222,
              "#7201a8"
             ],
             [
              0.3333333333333333,
              "#9c179e"
             ],
             [
              0.4444444444444444,
              "#bd3786"
             ],
             [
              0.5555555555555556,
              "#d8576b"
             ],
             [
              0.6666666666666666,
              "#ed7953"
             ],
             [
              0.7777777777777778,
              "#fb9f3a"
             ],
             [
              0.8888888888888888,
              "#fdca26"
             ],
             [
              1,
              "#f0f921"
             ]
            ],
            "type": "heatmap"
           }
          ],
          "heatmapgl": [
           {
            "colorbar": {
             "outlinewidth": 0,
             "ticks": ""
            },
            "colorscale": [
             [
              0,
              "#0d0887"
             ],
             [
              0.1111111111111111,
              "#46039f"
             ],
             [
              0.2222222222222222,
              "#7201a8"
             ],
             [
              0.3333333333333333,
              "#9c179e"
             ],
             [
              0.4444444444444444,
              "#bd3786"
             ],
             [
              0.5555555555555556,
              "#d8576b"
             ],
             [
              0.6666666666666666,
              "#ed7953"
             ],
             [
              0.7777777777777778,
              "#fb9f3a"
             ],
             [
              0.8888888888888888,
              "#fdca26"
             ],
             [
              1,
              "#f0f921"
             ]
            ],
            "type": "heatmapgl"
           }
          ],
          "histogram": [
           {
            "marker": {
             "colorbar": {
              "outlinewidth": 0,
              "ticks": ""
             }
            },
            "type": "histogram"
           }
          ],
          "histogram2d": [
           {
            "colorbar": {
             "outlinewidth": 0,
             "ticks": ""
            },
            "colorscale": [
             [
              0,
              "#0d0887"
             ],
             [
              0.1111111111111111,
              "#46039f"
             ],
             [
              0.2222222222222222,
              "#7201a8"
             ],
             [
              0.3333333333333333,
              "#9c179e"
             ],
             [
              0.4444444444444444,
              "#bd3786"
             ],
             [
              0.5555555555555556,
              "#d8576b"
             ],
             [
              0.6666666666666666,
              "#ed7953"
             ],
             [
              0.7777777777777778,
              "#fb9f3a"
             ],
             [
              0.8888888888888888,
              "#fdca26"
             ],
             [
              1,
              "#f0f921"
             ]
            ],
            "type": "histogram2d"
           }
          ],
          "histogram2dcontour": [
           {
            "colorbar": {
             "outlinewidth": 0,
             "ticks": ""
            },
            "colorscale": [
             [
              0,
              "#0d0887"
             ],
             [
              0.1111111111111111,
              "#46039f"
             ],
             [
              0.2222222222222222,
              "#7201a8"
             ],
             [
              0.3333333333333333,
              "#9c179e"
             ],
             [
              0.4444444444444444,
              "#bd3786"
             ],
             [
              0.5555555555555556,
              "#d8576b"
             ],
             [
              0.6666666666666666,
              "#ed7953"
             ],
             [
              0.7777777777777778,
              "#fb9f3a"
             ],
             [
              0.8888888888888888,
              "#fdca26"
             ],
             [
              1,
              "#f0f921"
             ]
            ],
            "type": "histogram2dcontour"
           }
          ],
          "mesh3d": [
           {
            "colorbar": {
             "outlinewidth": 0,
             "ticks": ""
            },
            "type": "mesh3d"
           }
          ],
          "parcoords": [
           {
            "line": {
             "colorbar": {
              "outlinewidth": 0,
              "ticks": ""
             }
            },
            "type": "parcoords"
           }
          ],
          "scatter": [
           {
            "marker": {
             "colorbar": {
              "outlinewidth": 0,
              "ticks": ""
             }
            },
            "type": "scatter"
           }
          ],
          "scatter3d": [
           {
            "line": {
             "colorbar": {
              "outlinewidth": 0,
              "ticks": ""
             }
            },
            "marker": {
             "colorbar": {
              "outlinewidth": 0,
              "ticks": ""
             }
            },
            "type": "scatter3d"
           }
          ],
          "scattercarpet": [
           {
            "marker": {
             "colorbar": {
              "outlinewidth": 0,
              "ticks": ""
             }
            },
            "type": "scattercarpet"
           }
          ],
          "scattergeo": [
           {
            "marker": {
             "colorbar": {
              "outlinewidth": 0,
              "ticks": ""
             }
            },
            "type": "scattergeo"
           }
          ],
          "scattergl": [
           {
            "marker": {
             "colorbar": {
              "outlinewidth": 0,
              "ticks": ""
             }
            },
            "type": "scattergl"
           }
          ],
          "scattermapbox": [
           {
            "marker": {
             "colorbar": {
              "outlinewidth": 0,
              "ticks": ""
             }
            },
            "type": "scattermapbox"
           }
          ],
          "scatterpolar": [
           {
            "marker": {
             "colorbar": {
              "outlinewidth": 0,
              "ticks": ""
             }
            },
            "type": "scatterpolar"
           }
          ],
          "scatterpolargl": [
           {
            "marker": {
             "colorbar": {
              "outlinewidth": 0,
              "ticks": ""
             }
            },
            "type": "scatterpolargl"
           }
          ],
          "scatterternary": [
           {
            "marker": {
             "colorbar": {
              "outlinewidth": 0,
              "ticks": ""
             }
            },
            "type": "scatterternary"
           }
          ],
          "surface": [
           {
            "colorbar": {
             "outlinewidth": 0,
             "ticks": ""
            },
            "colorscale": [
             [
              0,
              "#0d0887"
             ],
             [
              0.1111111111111111,
              "#46039f"
             ],
             [
              0.2222222222222222,
              "#7201a8"
             ],
             [
              0.3333333333333333,
              "#9c179e"
             ],
             [
              0.4444444444444444,
              "#bd3786"
             ],
             [
              0.5555555555555556,
              "#d8576b"
             ],
             [
              0.6666666666666666,
              "#ed7953"
             ],
             [
              0.7777777777777778,
              "#fb9f3a"
             ],
             [
              0.8888888888888888,
              "#fdca26"
             ],
             [
              1,
              "#f0f921"
             ]
            ],
            "type": "surface"
           }
          ],
          "table": [
           {
            "cells": {
             "fill": {
              "color": "#EBF0F8"
             },
             "line": {
              "color": "white"
             }
            },
            "header": {
             "fill": {
              "color": "#C8D4E3"
             },
             "line": {
              "color": "white"
             }
            },
            "type": "table"
           }
          ]
         },
         "layout": {
          "annotationdefaults": {
           "arrowcolor": "#2a3f5f",
           "arrowhead": 0,
           "arrowwidth": 1
          },
          "colorscale": {
           "diverging": [
            [
             0,
             "#8e0152"
            ],
            [
             0.1,
             "#c51b7d"
            ],
            [
             0.2,
             "#de77ae"
            ],
            [
             0.3,
             "#f1b6da"
            ],
            [
             0.4,
             "#fde0ef"
            ],
            [
             0.5,
             "#f7f7f7"
            ],
            [
             0.6,
             "#e6f5d0"
            ],
            [
             0.7,
             "#b8e186"
            ],
            [
             0.8,
             "#7fbc41"
            ],
            [
             0.9,
             "#4d9221"
            ],
            [
             1,
             "#276419"
            ]
           ],
           "sequential": [
            [
             0,
             "#0d0887"
            ],
            [
             0.1111111111111111,
             "#46039f"
            ],
            [
             0.2222222222222222,
             "#7201a8"
            ],
            [
             0.3333333333333333,
             "#9c179e"
            ],
            [
             0.4444444444444444,
             "#bd3786"
            ],
            [
             0.5555555555555556,
             "#d8576b"
            ],
            [
             0.6666666666666666,
             "#ed7953"
            ],
            [
             0.7777777777777778,
             "#fb9f3a"
            ],
            [
             0.8888888888888888,
             "#fdca26"
            ],
            [
             1,
             "#f0f921"
            ]
           ],
           "sequentialminus": [
            [
             0,
             "#0d0887"
            ],
            [
             0.1111111111111111,
             "#46039f"
            ],
            [
             0.2222222222222222,
             "#7201a8"
            ],
            [
             0.3333333333333333,
             "#9c179e"
            ],
            [
             0.4444444444444444,
             "#bd3786"
            ],
            [
             0.5555555555555556,
             "#d8576b"
            ],
            [
             0.6666666666666666,
             "#ed7953"
            ],
            [
             0.7777777777777778,
             "#fb9f3a"
            ],
            [
             0.8888888888888888,
             "#fdca26"
            ],
            [
             1,
             "#f0f921"
            ]
           ]
          },
          "colorway": [
           "#636efa",
           "#EF553B",
           "#00cc96",
           "#ab63fa",
           "#FFA15A",
           "#19d3f3",
           "#FF6692",
           "#B6E880",
           "#FF97FF",
           "#FECB52"
          ],
          "font": {
           "color": "#2a3f5f"
          },
          "geo": {
           "bgcolor": "white",
           "lakecolor": "white",
           "landcolor": "#E5ECF6",
           "showlakes": true,
           "showland": true,
           "subunitcolor": "white"
          },
          "hoverlabel": {
           "align": "left"
          },
          "hovermode": "closest",
          "mapbox": {
           "style": "light"
          },
          "paper_bgcolor": "white",
          "plot_bgcolor": "#E5ECF6",
          "polar": {
           "angularaxis": {
            "gridcolor": "white",
            "linecolor": "white",
            "ticks": ""
           },
           "bgcolor": "#E5ECF6",
           "radialaxis": {
            "gridcolor": "white",
            "linecolor": "white",
            "ticks": ""
           }
          },
          "scene": {
           "xaxis": {
            "backgroundcolor": "#E5ECF6",
            "gridcolor": "white",
            "gridwidth": 2,
            "linecolor": "white",
            "showbackground": true,
            "ticks": "",
            "zerolinecolor": "white"
           },
           "yaxis": {
            "backgroundcolor": "#E5ECF6",
            "gridcolor": "white",
            "gridwidth": 2,
            "linecolor": "white",
            "showbackground": true,
            "ticks": "",
            "zerolinecolor": "white"
           },
           "zaxis": {
            "backgroundcolor": "#E5ECF6",
            "gridcolor": "white",
            "gridwidth": 2,
            "linecolor": "white",
            "showbackground": true,
            "ticks": "",
            "zerolinecolor": "white"
           }
          },
          "shapedefaults": {
           "line": {
            "color": "#2a3f5f"
           }
          },
          "ternary": {
           "aaxis": {
            "gridcolor": "white",
            "linecolor": "white",
            "ticks": ""
           },
           "baxis": {
            "gridcolor": "white",
            "linecolor": "white",
            "ticks": ""
           },
           "bgcolor": "#E5ECF6",
           "caxis": {
            "gridcolor": "white",
            "linecolor": "white",
            "ticks": ""
           }
          },
          "title": {
           "x": 0.05
          },
          "xaxis": {
           "automargin": true,
           "gridcolor": "white",
           "linecolor": "white",
           "ticks": "",
           "zerolinecolor": "white",
           "zerolinewidth": 2
          },
          "yaxis": {
           "automargin": true,
           "gridcolor": "white",
           "linecolor": "white",
           "ticks": "",
           "zerolinecolor": "white",
           "zerolinewidth": 2
          }
         }
        },
        "title": {
         "text": "Bar Chart with reference values for Relative Frequencies per Letter in Italian"
        },
        "xaxis": {
         "anchor": "y",
         "domain": [
          0,
          0.98
         ],
         "title": {
          "text": "letter"
         }
        },
        "yaxis": {
         "anchor": "x",
         "domain": [
          0,
          1
         ],
         "range": [
          0,
          15
         ],
         "title": {
          "text": "frequency"
         }
        }
       }
      },
      "text/html": [
       "<div>\n",
       "        \n",
       "        \n",
       "            <div id=\"faa0a682-1c50-4598-9f8d-268e650026ed\" class=\"plotly-graph-div\" style=\"height:600px; width:100%;\"></div>\n",
       "            <script type=\"text/javascript\">\n",
       "                require([\"plotly\"], function(Plotly) {\n",
       "                    window.PLOTLYENV=window.PLOTLYENV || {};\n",
       "                    \n",
       "                if (document.getElementById(\"faa0a682-1c50-4598-9f8d-268e650026ed\")) {\n",
       "                    Plotly.newPlot(\n",
       "                        'faa0a682-1c50-4598-9f8d-268e650026ed',\n",
       "                        [{\"alignmentgroup\": \"True\", \"hoverlabel\": {\"namelength\": 0}, \"hovertemplate\": \"language=Italian<br>letter=%{x}<br>frequency=%{y}\", \"legendgroup\": \"language=Italian\", \"marker\": {\"color\": \"#636efa\"}, \"name\": \"language=Italian\", \"offsetgroup\": \"language=Italian\", \"orientation\": \"v\", \"showlegend\": true, \"textposition\": \"auto\", \"type\": \"bar\", \"x\": [\"a\", \"b\", \"c\", \"d\", \"e\", \"f\", \"g\", \"h\", \"i\", \"j\", \"k\", \"l\", \"m\", \"n\", \"o\", \"p\", \"q\", \"r\", \"s\", \"t\", \"u\", \"v\", \"w\", \"x\", \"y\", \"z\", \"\\u00df\", \"\\u00e0\", \"\\u00e1\", \"\\u00e2\", \"\\u00e3\", \"\\u00e4\", \"\\u00e5\", \"\\u00e6\", \"\\u00e7\", \"\\u00e8\", \"\\u00e9\", \"\\u00ea\", \"\\u00eb\", \"\\u00ec\", \"\\u00ed\", \"\\u00ee\", \"\\u00ef\", \"\\u00f0\", \"\\u00f1\", \"\\u00f2\", \"\\u00f3\", \"\\u00f4\", \"\\u00f6\", \"\\u00f8\", \"\\u00f9\", \"\\u00fa\", \"\\u00fc\", \"\\u00fd\", \"\\u00fe\", \"\\u0105\", \"\\u0107\", \"\\u0109\", \"\\u010d\", \"\\u010f\", \"\\u0119\", \"\\u011b\", \"\\u011d\", \"\\u011f\", \"\\u0125\", \"\\u0131\", \"\\u0135\", \"\\u0142\", \"\\u0144\", \"\\u0148\", \"\\u0153\", \"\\u0159\", \"\\u015b\", \"\\u015d\", \"\\u015f\", \"\\u0161\", \"\\u0165\", \"\\u016d\", \"\\u016f\", \"\\u017a\", \"\\u017c\", \"\\u017e\"], \"xaxis\": \"x\", \"y\": [11.745, 0.927, 4.501, 3.736, 11.792, 1.153, 1.644, 0.636, 10.143, 0.011, 0.009, 6.51, 2.512, 6.883, 9.832, 3.056, 0.505, 6.367, 4.981, 5.623, 3.011, 2.097, 0.033, 0.003, 0.02, 1.181, 0.0, 0.635, 0.0, 0.0, 0.0, 0.0, 0.0, 0.0, 0.0, 0.263, 0.0, 0.0, 0.0, 0.03, 0.0, 0.0, 0.0, 0.0, 0.0, 0.002, 0.0, 0.0, 0.0, 0.0, 0.166, 0.0, 0.0, 0.0, 0.0, 0.0, 0.0, 0.0, 0.0, 0.0, 0.0, 0.0, 0.0, 0.0, 0.0, 0.0, 0.0, 0.0, 0.0, 0.0, 0.0, 0.0, 0.0, 0.0, 0.0, 0.0, 0.0, 0.0, 0.0, 0.0, 0.0, 0.0], \"yaxis\": \"y\"}],\n",
       "                        {\"barmode\": \"group\", \"height\": 600, \"legend\": {\"tracegroupgap\": 0}, \"margin\": {\"t\": 60}, \"template\": {\"data\": {\"bar\": [{\"error_x\": {\"color\": \"#2a3f5f\"}, \"error_y\": {\"color\": \"#2a3f5f\"}, \"marker\": {\"line\": {\"color\": \"#E5ECF6\", \"width\": 0.5}}, \"type\": \"bar\"}], \"barpolar\": [{\"marker\": {\"line\": {\"color\": \"#E5ECF6\", \"width\": 0.5}}, \"type\": \"barpolar\"}], \"carpet\": [{\"aaxis\": {\"endlinecolor\": \"#2a3f5f\", \"gridcolor\": \"white\", \"linecolor\": \"white\", \"minorgridcolor\": \"white\", \"startlinecolor\": \"#2a3f5f\"}, \"baxis\": {\"endlinecolor\": \"#2a3f5f\", \"gridcolor\": \"white\", \"linecolor\": \"white\", \"minorgridcolor\": \"white\", \"startlinecolor\": \"#2a3f5f\"}, \"type\": \"carpet\"}], \"choropleth\": [{\"colorbar\": {\"outlinewidth\": 0, \"ticks\": \"\"}, \"type\": \"choropleth\"}], \"contour\": [{\"colorbar\": {\"outlinewidth\": 0, \"ticks\": \"\"}, \"colorscale\": [[0.0, \"#0d0887\"], [0.1111111111111111, \"#46039f\"], [0.2222222222222222, \"#7201a8\"], [0.3333333333333333, \"#9c179e\"], [0.4444444444444444, \"#bd3786\"], [0.5555555555555556, \"#d8576b\"], [0.6666666666666666, \"#ed7953\"], [0.7777777777777778, \"#fb9f3a\"], [0.8888888888888888, \"#fdca26\"], [1.0, \"#f0f921\"]], \"type\": \"contour\"}], \"contourcarpet\": [{\"colorbar\": {\"outlinewidth\": 0, \"ticks\": \"\"}, \"type\": \"contourcarpet\"}], \"heatmap\": [{\"colorbar\": {\"outlinewidth\": 0, \"ticks\": \"\"}, \"colorscale\": [[0.0, \"#0d0887\"], [0.1111111111111111, \"#46039f\"], [0.2222222222222222, \"#7201a8\"], [0.3333333333333333, \"#9c179e\"], [0.4444444444444444, \"#bd3786\"], [0.5555555555555556, \"#d8576b\"], [0.6666666666666666, \"#ed7953\"], [0.7777777777777778, \"#fb9f3a\"], [0.8888888888888888, \"#fdca26\"], [1.0, \"#f0f921\"]], \"type\": \"heatmap\"}], \"heatmapgl\": [{\"colorbar\": {\"outlinewidth\": 0, \"ticks\": \"\"}, \"colorscale\": [[0.0, \"#0d0887\"], [0.1111111111111111, \"#46039f\"], [0.2222222222222222, \"#7201a8\"], [0.3333333333333333, \"#9c179e\"], [0.4444444444444444, \"#bd3786\"], [0.5555555555555556, \"#d8576b\"], [0.6666666666666666, \"#ed7953\"], [0.7777777777777778, \"#fb9f3a\"], [0.8888888888888888, \"#fdca26\"], [1.0, \"#f0f921\"]], \"type\": \"heatmapgl\"}], \"histogram\": [{\"marker\": {\"colorbar\": {\"outlinewidth\": 0, \"ticks\": \"\"}}, \"type\": \"histogram\"}], \"histogram2d\": [{\"colorbar\": {\"outlinewidth\": 0, \"ticks\": \"\"}, \"colorscale\": [[0.0, \"#0d0887\"], [0.1111111111111111, \"#46039f\"], [0.2222222222222222, \"#7201a8\"], [0.3333333333333333, \"#9c179e\"], [0.4444444444444444, \"#bd3786\"], [0.5555555555555556, \"#d8576b\"], [0.6666666666666666, \"#ed7953\"], [0.7777777777777778, \"#fb9f3a\"], [0.8888888888888888, \"#fdca26\"], [1.0, \"#f0f921\"]], \"type\": \"histogram2d\"}], \"histogram2dcontour\": [{\"colorbar\": {\"outlinewidth\": 0, \"ticks\": \"\"}, \"colorscale\": [[0.0, \"#0d0887\"], [0.1111111111111111, \"#46039f\"], [0.2222222222222222, \"#7201a8\"], [0.3333333333333333, \"#9c179e\"], [0.4444444444444444, \"#bd3786\"], [0.5555555555555556, \"#d8576b\"], [0.6666666666666666, \"#ed7953\"], [0.7777777777777778, \"#fb9f3a\"], [0.8888888888888888, \"#fdca26\"], [1.0, \"#f0f921\"]], \"type\": \"histogram2dcontour\"}], \"mesh3d\": [{\"colorbar\": {\"outlinewidth\": 0, \"ticks\": \"\"}, \"type\": \"mesh3d\"}], \"parcoords\": [{\"line\": {\"colorbar\": {\"outlinewidth\": 0, \"ticks\": \"\"}}, \"type\": \"parcoords\"}], \"scatter\": [{\"marker\": {\"colorbar\": {\"outlinewidth\": 0, \"ticks\": \"\"}}, \"type\": \"scatter\"}], \"scatter3d\": [{\"line\": {\"colorbar\": {\"outlinewidth\": 0, \"ticks\": \"\"}}, \"marker\": {\"colorbar\": {\"outlinewidth\": 0, \"ticks\": \"\"}}, \"type\": \"scatter3d\"}], \"scattercarpet\": [{\"marker\": {\"colorbar\": {\"outlinewidth\": 0, \"ticks\": \"\"}}, \"type\": \"scattercarpet\"}], \"scattergeo\": [{\"marker\": {\"colorbar\": {\"outlinewidth\": 0, \"ticks\": \"\"}}, \"type\": \"scattergeo\"}], \"scattergl\": [{\"marker\": {\"colorbar\": {\"outlinewidth\": 0, \"ticks\": \"\"}}, \"type\": \"scattergl\"}], \"scattermapbox\": [{\"marker\": {\"colorbar\": {\"outlinewidth\": 0, \"ticks\": \"\"}}, \"type\": \"scattermapbox\"}], \"scatterpolar\": [{\"marker\": {\"colorbar\": {\"outlinewidth\": 0, \"ticks\": \"\"}}, \"type\": \"scatterpolar\"}], \"scatterpolargl\": [{\"marker\": {\"colorbar\": {\"outlinewidth\": 0, \"ticks\": \"\"}}, \"type\": \"scatterpolargl\"}], \"scatterternary\": [{\"marker\": {\"colorbar\": {\"outlinewidth\": 0, \"ticks\": \"\"}}, \"type\": \"scatterternary\"}], \"surface\": [{\"colorbar\": {\"outlinewidth\": 0, \"ticks\": \"\"}, \"colorscale\": [[0.0, \"#0d0887\"], [0.1111111111111111, \"#46039f\"], [0.2222222222222222, \"#7201a8\"], [0.3333333333333333, \"#9c179e\"], [0.4444444444444444, \"#bd3786\"], [0.5555555555555556, \"#d8576b\"], [0.6666666666666666, \"#ed7953\"], [0.7777777777777778, \"#fb9f3a\"], [0.8888888888888888, \"#fdca26\"], [1.0, \"#f0f921\"]], \"type\": \"surface\"}], \"table\": [{\"cells\": {\"fill\": {\"color\": \"#EBF0F8\"}, \"line\": {\"color\": \"white\"}}, \"header\": {\"fill\": {\"color\": \"#C8D4E3\"}, \"line\": {\"color\": \"white\"}}, \"type\": \"table\"}]}, \"layout\": {\"annotationdefaults\": {\"arrowcolor\": \"#2a3f5f\", \"arrowhead\": 0, \"arrowwidth\": 1}, \"colorscale\": {\"diverging\": [[0, \"#8e0152\"], [0.1, \"#c51b7d\"], [0.2, \"#de77ae\"], [0.3, \"#f1b6da\"], [0.4, \"#fde0ef\"], [0.5, \"#f7f7f7\"], [0.6, \"#e6f5d0\"], [0.7, \"#b8e186\"], [0.8, \"#7fbc41\"], [0.9, \"#4d9221\"], [1, \"#276419\"]], \"sequential\": [[0.0, \"#0d0887\"], [0.1111111111111111, \"#46039f\"], [0.2222222222222222, \"#7201a8\"], [0.3333333333333333, \"#9c179e\"], [0.4444444444444444, \"#bd3786\"], [0.5555555555555556, \"#d8576b\"], [0.6666666666666666, \"#ed7953\"], [0.7777777777777778, \"#fb9f3a\"], [0.8888888888888888, \"#fdca26\"], [1.0, \"#f0f921\"]], \"sequentialminus\": [[0.0, \"#0d0887\"], [0.1111111111111111, \"#46039f\"], [0.2222222222222222, \"#7201a8\"], [0.3333333333333333, \"#9c179e\"], [0.4444444444444444, \"#bd3786\"], [0.5555555555555556, \"#d8576b\"], [0.6666666666666666, \"#ed7953\"], [0.7777777777777778, \"#fb9f3a\"], [0.8888888888888888, \"#fdca26\"], [1.0, \"#f0f921\"]]}, \"colorway\": [\"#636efa\", \"#EF553B\", \"#00cc96\", \"#ab63fa\", \"#FFA15A\", \"#19d3f3\", \"#FF6692\", \"#B6E880\", \"#FF97FF\", \"#FECB52\"], \"font\": {\"color\": \"#2a3f5f\"}, \"geo\": {\"bgcolor\": \"white\", \"lakecolor\": \"white\", \"landcolor\": \"#E5ECF6\", \"showlakes\": true, \"showland\": true, \"subunitcolor\": \"white\"}, \"hoverlabel\": {\"align\": \"left\"}, \"hovermode\": \"closest\", \"mapbox\": {\"style\": \"light\"}, \"paper_bgcolor\": \"white\", \"plot_bgcolor\": \"#E5ECF6\", \"polar\": {\"angularaxis\": {\"gridcolor\": \"white\", \"linecolor\": \"white\", \"ticks\": \"\"}, \"bgcolor\": \"#E5ECF6\", \"radialaxis\": {\"gridcolor\": \"white\", \"linecolor\": \"white\", \"ticks\": \"\"}}, \"scene\": {\"xaxis\": {\"backgroundcolor\": \"#E5ECF6\", \"gridcolor\": \"white\", \"gridwidth\": 2, \"linecolor\": \"white\", \"showbackground\": true, \"ticks\": \"\", \"zerolinecolor\": \"white\"}, \"yaxis\": {\"backgroundcolor\": \"#E5ECF6\", \"gridcolor\": \"white\", \"gridwidth\": 2, \"linecolor\": \"white\", \"showbackground\": true, \"ticks\": \"\", \"zerolinecolor\": \"white\"}, \"zaxis\": {\"backgroundcolor\": \"#E5ECF6\", \"gridcolor\": \"white\", \"gridwidth\": 2, \"linecolor\": \"white\", \"showbackground\": true, \"ticks\": \"\", \"zerolinecolor\": \"white\"}}, \"shapedefaults\": {\"line\": {\"color\": \"#2a3f5f\"}}, \"ternary\": {\"aaxis\": {\"gridcolor\": \"white\", \"linecolor\": \"white\", \"ticks\": \"\"}, \"baxis\": {\"gridcolor\": \"white\", \"linecolor\": \"white\", \"ticks\": \"\"}, \"bgcolor\": \"#E5ECF6\", \"caxis\": {\"gridcolor\": \"white\", \"linecolor\": \"white\", \"ticks\": \"\"}}, \"title\": {\"x\": 0.05}, \"xaxis\": {\"automargin\": true, \"gridcolor\": \"white\", \"linecolor\": \"white\", \"ticks\": \"\", \"zerolinecolor\": \"white\", \"zerolinewidth\": 2}, \"yaxis\": {\"automargin\": true, \"gridcolor\": \"white\", \"linecolor\": \"white\", \"ticks\": \"\", \"zerolinecolor\": \"white\", \"zerolinewidth\": 2}}}, \"title\": {\"text\": \"Bar Chart with reference values for Relative Frequencies per Letter in Italian\"}, \"xaxis\": {\"anchor\": \"y\", \"domain\": [0.0, 0.98], \"title\": {\"text\": \"letter\"}}, \"yaxis\": {\"anchor\": \"x\", \"domain\": [0.0, 1.0], \"range\": [0, 15], \"title\": {\"text\": \"frequency\"}}},\n",
       "                        {\"responsive\": true}\n",
       "                    ).then(function(){\n",
       "                            \n",
       "var gd = document.getElementById('faa0a682-1c50-4598-9f8d-268e650026ed');\n",
       "var x = new MutationObserver(function (mutations, observer) {{\n",
       "        var display = window.getComputedStyle(gd).display;\n",
       "        if (!display || display === 'none') {{\n",
       "            console.log([gd, 'removed!']);\n",
       "            Plotly.purge(gd);\n",
       "            observer.disconnect();\n",
       "        }}\n",
       "}});\n",
       "\n",
       "// Listen for the removal of the full notebook cells\n",
       "var notebookContainer = gd.closest('#notebook-container');\n",
       "if (notebookContainer) {{\n",
       "    x.observe(notebookContainer, {childList: true});\n",
       "}}\n",
       "\n",
       "// Listen for the clearing of the current output cell\n",
       "var outputEl = gd.closest('.output');\n",
       "if (outputEl) {{\n",
       "    x.observe(outputEl, {childList: true});\n",
       "}}\n",
       "\n",
       "                        })\n",
       "                };\n",
       "                });\n",
       "            </script>\n",
       "        </div>"
      ]
     },
     "metadata": {},
     "output_type": "display_data"
    }
   ],
   "source": [
    "fig = px.bar(df[(df['language'].isin(['Italian'])) ] , x=\"letter\", y=\"frequency\"\n",
    "             , range_y=[0,15]\n",
    "             , color=\"language\"\n",
    "             , barmode=\"group\"\n",
    "            #,facet_col=\"language\"\n",
    "            )\n",
    "\n",
    "fig.update_layout(\n",
    "    title=go.layout.Title(\n",
    "        text=\"Bar Chart with reference values for Relative Frequencies per Letter in Italian\"\n",
    "    ))\n",
    "fig.show()"
   ]
  },
  {
   "cell_type": "markdown",
   "metadata": {},
   "source": [
    "## Euclidean Distance\n",
    "Calculate the euclidean distance between the frequency value of all letters in the document with the reference frequency values for a specific language. \n",
    "\n",
    "Here we take the bar chart for the scanned document and compare it one by one to the bar chart for each language. We calculate the distance between the two charts using the Euclidean distance method - looking directly at the numerical differences in frequency value for each of the letters.  "
   ]
  },
  {
   "cell_type": "code",
   "execution_count": 48,
   "metadata": {},
   "outputs": [],
   "source": [
    "# we want to know the distance between\n",
    "# text_lf['frequency']\n",
    "# and each of the language frequency sequences\n",
    "# df[(df['language'] == 'French']]['frequency'] \n",
    "from scipy.spatial import distance\n",
    "def compare_letter_frequencies_to_language(unknown_text_frequencies , language):\n",
    "  # create a Series with all letter frequencies for the given language (sort of normalized between 0 and 1)\n",
    "  letter_frequencies_in_language =df[df['language'] == language]['frequency'] *0.01\n",
    "  dst = distance.euclidean(unknown_text_frequencies, letter_frequencies_in_language)\n",
    "  return dst\n"
   ]
  },
  {
   "cell_type": "code",
   "execution_count": 54,
   "metadata": {},
   "outputs": [
    {
     "data": {
      "text/plain": [
       "array(['French', 'German', 'Spanish', 'Portuguese', 'Esperanto',\n",
       "       'Italian', 'Turkish', 'Swedish', 'Polish', 'Dutch', 'Danish',\n",
       "       'Icelandic', 'Finnish', 'Czech'], dtype=object)"
      ]
     },
     "execution_count": 54,
     "metadata": {},
     "output_type": "execute_result"
    }
   ],
   "source": [
    "df['language'].unique()"
   ]
  },
  {
   "cell_type": "code",
   "execution_count": 69,
   "metadata": {},
   "outputs": [
    {
     "data": {
      "text/html": [
       "<div>\n",
       "<style scoped>\n",
       "    .dataframe tbody tr th:only-of-type {\n",
       "        vertical-align: middle;\n",
       "    }\n",
       "\n",
       "    .dataframe tbody tr th {\n",
       "        vertical-align: top;\n",
       "    }\n",
       "\n",
       "    .dataframe thead th {\n",
       "        text-align: right;\n",
       "    }\n",
       "</style>\n",
       "<table border=\"1\" class=\"dataframe\">\n",
       "  <thead>\n",
       "    <tr style=\"text-align: right;\">\n",
       "      <th></th>\n",
       "      <th>Language</th>\n",
       "      <th>Distance</th>\n",
       "    </tr>\n",
       "  </thead>\n",
       "  <tbody>\n",
       "    <tr>\n",
       "      <th>5</th>\n",
       "      <td>Italian</td>\n",
       "      <td>0.025948</td>\n",
       "    </tr>\n",
       "    <tr>\n",
       "      <th>2</th>\n",
       "      <td>Spanish</td>\n",
       "      <td>0.063690</td>\n",
       "    </tr>\n",
       "    <tr>\n",
       "      <th>0</th>\n",
       "      <td>French</td>\n",
       "      <td>0.074196</td>\n",
       "    </tr>\n",
       "    <tr>\n",
       "      <th>4</th>\n",
       "      <td>Esperanto</td>\n",
       "      <td>0.081720</td>\n",
       "    </tr>\n",
       "    <tr>\n",
       "      <th>3</th>\n",
       "      <td>Portuguese</td>\n",
       "      <td>0.084151</td>\n",
       "    </tr>\n",
       "  </tbody>\n",
       "</table>\n",
       "</div>"
      ],
      "text/plain": [
       "     Language  Distance\n",
       "5     Italian  0.025948\n",
       "2     Spanish  0.063690\n",
       "0      French  0.074196\n",
       "4   Esperanto  0.081720\n",
       "3  Portuguese  0.084151"
      ]
     },
     "execution_count": 69,
     "metadata": {},
     "output_type": "execute_result"
    }
   ],
   "source": [
    "unknown_text_frequencies = text_lf['frequency']\n",
    "language_scores = pd.DataFrame ({}, columns = ['Language','Distance'])\n",
    "# loop over all unique language values and calculate the distance; add results to Data Frame language_scores\n",
    "for language in df['language'].unique():\n",
    "    dst = compare_letter_frequencies_to_language(unknown_text_frequencies, language)\n",
    "    language_scores = language_scores.append({'Language' : language , 'Distance' : dst} , ignore_index=True)\n",
    "    \n",
    "# get top 5 of languages with shortest distance compare to letter frequencies in document\n",
    "language_scores.sort_values('Distance').head(5)\n"
   ]
  },
  {
   "cell_type": "code",
   "execution_count": 73,
   "metadata": {},
   "outputs": [
    {
     "name": "stdout",
     "output_type": "stream",
     "text": [
      "Top 5 scores for  text-file-italian.txt\n",
      "     Language  Distance\n",
      "5     Italian  0.025948\n",
      "2     Spanish  0.063690\n",
      "0      French  0.074196\n",
      "4   Esperanto  0.081720\n",
      "3  Portuguese  0.084151\n",
      "Top 5 scores for  text-file-danish.txt\n",
      "   Language  Distance\n",
      "9     Dutch  0.055544\n",
      "10   Danish  0.062055\n",
      "1    German  0.075647\n",
      "7   Swedish  0.093439\n",
      "0    French  0.107550\n",
      "Top 5 scores for  text-file-german.txt\n",
      "   Language  Distance\n",
      "1    German  0.031016\n",
      "9     Dutch  0.061782\n",
      "10   Danish  0.078350\n",
      "0    French  0.094755\n",
      "7   Swedish  0.104399\n",
      "Top 5 scores for  text-file-dutch.txt\n",
      "   Language  Distance\n",
      "9     Dutch  0.029877\n",
      "1    German  0.070388\n",
      "10   Danish  0.078216\n",
      "0    French  0.087943\n",
      "7   Swedish  0.099022\n"
     ]
    }
   ],
   "source": [
    "# cerate a function to perform this analysis on any text file\n",
    "def process_text_file(text_file):\n",
    "    text_lf_dict = process_file(text_file)\n",
    "    text_lf = pd.DataFrame.from_dict(text_lf_dict, orient='index', columns=['frequency'])\n",
    "    text_lf['letter'] = text_lf.index\n",
    "    unknown_text_frequencies = text_lf['frequency']\n",
    "    language_scores = pd.DataFrame ({}, columns = ['Language','Distance'])\n",
    "    for language in df['language'].unique():\n",
    "        dst = compare_letter_frequencies_to_language(unknown_text_frequencies, language)\n",
    "        language_scores = language_scores.append({'Language' : language , 'Distance' : dst} , ignore_index=True)\n",
    "    \n",
    "    # get top 5\n",
    "    print(\"Top 5 scores based on Euclidean distance for \",text_file)\n",
    "    print(language_scores.sort_values('Distance').head(5))\n",
    "    \n",
    "# invoke this function for a number of local text files\n",
    "# the results are promising - although we keep struggling with Danish\n",
    "process_text_file('text-file-italian.txt')    \n",
    "process_text_file('text-file-danish.txt')    \n",
    "process_text_file('text-file-german.txt')    \n",
    "process_text_file('text-file-dutch.txt')    "
   ]
  },
  {
   "cell_type": "markdown",
   "metadata": {},
   "source": [
    "## Find distance from Symbolic Representations\n",
    "Convert the letter frequency values into quantile based representations and compare the resulting letter sequences.\n",
    "\n",
    "The frequency for a letter is a value between 0 and 20%. Letters with a frequency of 10% or higher are top dogs in letter land, letters with a frequency below 0.5 % are not. We will categorize our letters based on the frequency: very frequenty letters go in one category, less frequent in another and very unfrequent in yet another. Each category corresponds to a quantile - and we can pick the number of quantiles as we see fit (more quantiles give more differentiation but perhaps the data and its error may not warrant such a level of differentiation; you can always start with a small number of quantiles ). We can represent the quantile for each of our letters with a symbol that represents the category. To really confuse you, I have selected capital letters as symbols. Here, capital A represents a letter classified as very unfreqent. B is more frequent and the further we go in the alphabet, the more frequent the letters assigned to that category become.\n",
    "\n",
    "The letter frequencies for a language can now be expressed as a string or a word that consists of symbols. Each symbol in the word tells us something about the element from the Series at that index. The first symbol tells us about the frequency of the letter 'a'. The second symbol about the letter 'b' and so on.\n",
    "\n",
    "Here we assign the quantiles for all letters for each of the languages, based on the known frequency values."
   ]
  },
  {
   "cell_type": "code",
   "execution_count": 248,
   "metadata": {},
   "outputs": [
    {
     "data": {
      "text/html": [
       "<div>\n",
       "<style scoped>\n",
       "    .dataframe tbody tr th:only-of-type {\n",
       "        vertical-align: middle;\n",
       "    }\n",
       "\n",
       "    .dataframe tbody tr th {\n",
       "        vertical-align: top;\n",
       "    }\n",
       "\n",
       "    .dataframe thead th {\n",
       "        text-align: right;\n",
       "    }\n",
       "</style>\n",
       "<table border=\"1\" class=\"dataframe\">\n",
       "  <thead>\n",
       "    <tr style=\"text-align: right;\">\n",
       "      <th></th>\n",
       "      <th>language</th>\n",
       "      <th>quantile_label</th>\n",
       "    </tr>\n",
       "  </thead>\n",
       "  <tbody>\n",
       "    <tr>\n",
       "      <th>0</th>\n",
       "      <td>Czech</td>\n",
       "      <td>DBBCDAABDBCCCDDCACDDCDAABBAABAAAAAAABAAABAAAAA...</td>\n",
       "    </tr>\n",
       "    <tr>\n",
       "      <th>1</th>\n",
       "      <td>Danish</td>\n",
       "      <td>DCBDDCCBDBCDCDCBADDDCCAABAAAAAAABBAAAAAAAAAAAA...</td>\n",
       "    </tr>\n",
       "    <tr>\n",
       "      <th>2</th>\n",
       "      <td>Dutch</td>\n",
       "      <td>DBBDDBCCDBCCCDDBADDDCCCAABAAAAAAAAAAAAAAAAAAAA...</td>\n",
       "    </tr>\n",
       "    <tr>\n",
       "      <th>3</th>\n",
       "      <td>Esperanto</td>\n",
       "      <td>DBBCDBBADCCDCDDCADDDCCAAAAAAAAAAAAAAAAAAAAAAAA...</td>\n",
       "    </tr>\n",
       "    <tr>\n",
       "      <th>4</th>\n",
       "      <td>Finnish</td>\n",
       "      <td>DAABDAACDCCDCDDCACDDDCAABAAAAAACAAAAAAAAAAAAAA...</td>\n",
       "    </tr>\n",
       "    <tr>\n",
       "      <th>5</th>\n",
       "      <td>French</td>\n",
       "      <td>DBCCDBBBDBADCDDCBDDDDCAAAAAAAAAAAAAABAAAAAAAAA...</td>\n",
       "    </tr>\n",
       "    <tr>\n",
       "      <th>6</th>\n",
       "      <td>German</td>\n",
       "      <td>DCCDDBCCDABCCDCBADDDCBCAABAAAAABAAAAAAAAAAAAAA...</td>\n",
       "    </tr>\n",
       "    <tr>\n",
       "      <th>7</th>\n",
       "      <td>Icelandic</td>\n",
       "      <td>DBABDCCCDBCCCDCBADDCCCAABAAABAAAABAABAAABAACAA...</td>\n",
       "    </tr>\n",
       "    <tr>\n",
       "      <th>8</th>\n",
       "      <td>Italian</td>\n",
       "      <td>DBCCDBBBDAADCDDCBDCDCCAAABABAAAAAAAAAAAAAAAAAA...</td>\n",
       "    </tr>\n",
       "    <tr>\n",
       "      <th>9</th>\n",
       "      <td>Polish</td>\n",
       "      <td>DBCCDABBDCCCCDDCADDCCADACCAAAAAAAAAAAAAAAAAAAA...</td>\n",
       "    </tr>\n",
       "    <tr>\n",
       "      <th>10</th>\n",
       "      <td>Portuguese</td>\n",
       "      <td>DBCCDBBBDAACCCDCBDDCCBAAAAAAABBAAABAAAAAAAAAAA...</td>\n",
       "    </tr>\n",
       "    <tr>\n",
       "      <th>11</th>\n",
       "      <td>Spanish</td>\n",
       "      <td>DCCDDBBBDAACCDDCBDDCCBAABAAABAAAAAAAAAAABAAAAA...</td>\n",
       "    </tr>\n",
       "    <tr>\n",
       "      <th>12</th>\n",
       "      <td>Swedish</td>\n",
       "      <td>DBBCDCCCDBCDCDCCADDDCCAABAAAAAABBAAAAAAAAAAAAA...</td>\n",
       "    </tr>\n",
       "    <tr>\n",
       "      <th>13</th>\n",
       "      <td>Turkish</td>\n",
       "      <td>DCBDDABBDADDCDCBADCCCBAACBAAAAAAAABAAAAAAAAAAA...</td>\n",
       "    </tr>\n",
       "  </tbody>\n",
       "</table>\n",
       "</div>"
      ],
      "text/plain": [
       "      language                                     quantile_label\n",
       "0        Czech  DBBCDAABDBCCCDDCACDDCDAABBAABAAAAAAABAAABAAAAA...\n",
       "1       Danish  DCBDDCCBDBCDCDCBADDDCCAABAAAAAAABBAAAAAAAAAAAA...\n",
       "2        Dutch  DBBDDBCCDBCCCDDBADDDCCCAABAAAAAAAAAAAAAAAAAAAA...\n",
       "3    Esperanto  DBBCDBBADCCDCDDCADDDCCAAAAAAAAAAAAAAAAAAAAAAAA...\n",
       "4      Finnish  DAABDAACDCCDCDDCACDDDCAABAAAAAACAAAAAAAAAAAAAA...\n",
       "5       French  DBCCDBBBDBADCDDCBDDDDCAAAAAAAAAAAAAABAAAAAAAAA...\n",
       "6       German  DCCDDBCCDABCCDCBADDDCBCAABAAAAABAAAAAAAAAAAAAA...\n",
       "7    Icelandic  DBABDCCCDBCCCDCBADDCCCAABAAABAAAABAABAAABAACAA...\n",
       "8      Italian  DBCCDBBBDAADCDDCBDCDCCAAABABAAAAAAAAAAAAAAAAAA...\n",
       "9       Polish  DBCCDABBDCCCCDDCADDCCADACCAAAAAAAAAAAAAAAAAAAA...\n",
       "10  Portuguese  DBCCDBBBDAACCCDCBDDCCBAAAAAAABBAAABAAAAAAAAAAA...\n",
       "11     Spanish  DCCDDBBBDAACCDDCBDDCCBAABAAABAAAAAAAAAAABAAAAA...\n",
       "12     Swedish  DBBCDCCCDBCDCDCCADDDCCAABAAAAAABBAAAAAAAAAAAAA...\n",
       "13     Turkish  DCBDDABBDADDCDCBADCCCBAACBAAAAAAAABAAAAAAAAAAA..."
      ]
     },
     "execution_count": 248,
     "metadata": {},
     "output_type": "execute_result"
    }
   ],
   "source": [
    "# represent each languages's letter frequencies as a single string of characters\n",
    "# each letter's quantile is represented by a string (a..z)\n",
    "# 97 is the ASCII code for a / capital A = 65)\n",
    "number_of_quantiles = 10\n",
    "df['quantile'] = pd.qcut(df['frequency'], number_of_quantiles, labels=False, duplicates='drop')\n",
    "df['quantile_label']=df['quantile'].apply(lambda q: chr(65+q))\n",
    "lq = df.groupby(['language'])['quantile_label'].apply(lambda q: ''.join(q)).reset_index()\n",
    "lq"
   ]
  },
  {
   "cell_type": "markdown",
   "metadata": {},
   "source": [
    "The highest category is assigned in almost all cased to at least the fifth element in each word, representing the letter 'e'.\n",
    "\n",
    "Let's create the symbolic representation for the letter frequencies for the processed text document, using the same number of quantiles for binning or classifying the values."
   ]
  },
  {
   "cell_type": "code",
   "execution_count": 249,
   "metadata": {},
   "outputs": [
    {
     "name": "stdout",
     "output_type": "stream",
     "text": [
      "DBCCDCCBDAADCDDCBDDDCCAAABAABAAAAAAABAAABAAAABAAAAAAAAAAAAAAAAAAAAAAAAAAAAAAAAAAAA\n"
     ]
    }
   ],
   "source": [
    "# represent the letter frequencies from this unknown text  (italian text) as a single string of characters\n",
    "# each letter's quantile is represented by a string (a..z)\n",
    "# 97 is the ASCII code for a / capital A = 65)\n",
    "\n",
    "text_lf['quantile'] = pd.qcut(text_lf['frequency'], number_of_quantiles, labels=False, duplicates='drop')\n",
    "text_lf['quantile_label']=text_lf['quantile'].apply(lambda q: chr(65+q))\n",
    "text_lf\n",
    "symbolic_representation = ''.join(text_lf['quantile_label'].astype(str))\n",
    "print(symbolic_representation)"
   ]
  },
  {
   "cell_type": "markdown",
   "metadata": {},
   "source": [
    "This word should look at least a little similar to the word for Italian.\n",
    "\n",
    "Instead of mannually trying to assess the similarity of this word with all the language reference words, we will use [module fuzzy search](https://pypi.org/project/fuzzysearch) to find similarities for us. It searches for matches between strings, accepting slight differences, based on the Levenshtein distance calculation. \n",
    "\n",
    "This does *not* consider A and B more similar than A and X when comparing the strings. We know that strings AAA and BBB are far closer than AAA and XXX. This method therefore is quite crude. Later on we will be using the MINDIST method that is kinder to close symbols than to distant ones. \n",
    "\n",
    "Note: we could have assigned numbers to the categories instead of letters and looked at the delta between the numbers. Or we could look at ascii value for the letters and compare those. The MINDIST comparison discussed later on takes care of this."
   ]
  },
  {
   "cell_type": "code",
   "execution_count": 75,
   "metadata": {},
   "outputs": [
    {
     "name": "stdout",
     "output_type": "stream",
     "text": [
      "Collecting fuzzysearch\n",
      "\u001b[?25l  Downloading https://files.pythonhosted.org/packages/84/a4/ae12fef8f50332419291f40c0faeb2af1e24804faabcc6e386a9c854a4db/fuzzysearch-0.6.2.tar.gz (99kB)\n",
      "\u001b[K    100% |████████████████████████████████| 102kB 2.9MB/s a 0:00:011\n",
      "\u001b[?25hRequirement already satisfied: six in /opt/conda/lib/python3.6/site-packages (from fuzzysearch) (1.12.0)\n",
      "Building wheels for collected packages: fuzzysearch\n",
      "  Building wheel for fuzzysearch (setup.py) ... \u001b[?25ldone\n",
      "\u001b[?25h  Stored in directory: /home/jovyan/.cache/pip/wheels/c8/88/03/be9b7fb7326e8d5880023ffd0aa719941515240a5096938a06\n",
      "Successfully built fuzzysearch\n",
      "Installing collected packages: fuzzysearch\n",
      "Successfully installed fuzzysearch-0.6.2\n"
     ]
    }
   ],
   "source": [
    "# we are looking for one on one comparison & distance calculation\n",
    "# https://pypi.org/project/fuzzysearch/ for Approximate sub-string searches\n",
    "# Install a pip package in the current Jupyter kernel\n",
    "import sys\n",
    "!{sys.executable} -m pip install  fuzzysearch"
   ]
  },
  {
   "cell_type": "code",
   "execution_count": 250,
   "metadata": {},
   "outputs": [
    {
     "name": "stdout",
     "output_type": "stream",
     "text": [
      "Symbolic representation for Italian  DBCCDBBBDAADCDDCBDCDCCAAABABAAAAAAAAAAAAAAAAAAAAAAAAAAAAAAAAAAAAAAAAAAAAAAAAAAAAAA\n",
      "Symbolic representation for the unknown document (it should be similar) DBCCDCCBDAADCDDCBDDDCCAAABAABAAAAAAABAAABAAAABAAAAAAAAAAAAAAAAAAAAAAAAAAAAAAAAAAAA\n"
     ]
    }
   ],
   "source": [
    "language_sentence = lq[lq['language']=='Italian']['quantile_label'].squeeze() # squeeze to turn the single value from the Pandas series into a single string\n",
    "print(\"Symbolic representation for Italian \",language_sentence)\n",
    "print(\"Symbolic representation for the unknown document (it should be similar)\",symbolic_representation)"
   ]
  },
  {
   "cell_type": "markdown",
   "metadata": {},
   "source": [
    "Compare the words for Italian and the unknown document; see if there is a match and if the distance is not high."
   ]
  },
  {
   "cell_type": "code",
   "execution_count": 251,
   "metadata": {},
   "outputs": [
    {
     "data": {
      "text/plain": [
       "[Match(start=0, end=81, dist=7)]"
      ]
     },
     "execution_count": 251,
     "metadata": {},
     "output_type": "execute_result"
    }
   ],
   "source": [
    "from fuzzysearch import find_near_matches\n",
    "# not a great match, even for the correct language\n",
    "find_near_matches(symbolic_representation,language_sentence , max_l_dist=16)"
   ]
  },
  {
   "cell_type": "markdown",
   "metadata": {},
   "source": [
    "So we have a match. Italian is certainly a candidate as language for the document.\n",
    "\n",
    "Let's create a function that allows us to compare symbolic representations for any document against any language: "
   ]
  },
  {
   "cell_type": "code",
   "execution_count": 252,
   "metadata": {},
   "outputs": [],
   "source": [
    "def inspect_against_language(symbolic_representation, language):\n",
    "    distance = find_near_matches(symbolic_representation,lq[lq['language']==language]['quantile_label'].squeeze() , max_l_dist=25)\n",
    "    print('fuzzy search in ',language,' - result:',distance)\n",
    "    return distance"
   ]
  },
  {
   "cell_type": "markdown",
   "metadata": {},
   "source": [
    "and then try the fuzzy search to match the document's symbolic representation against the representations of several languages. See which one scores best."
   ]
  },
  {
   "cell_type": "code",
   "execution_count": 253,
   "metadata": {},
   "outputs": [
    {
     "name": "stdout",
     "output_type": "stream",
     "text": [
      "fuzzy search in  French  - result: [Match(start=0, end=82, dist=8)]\n",
      "fuzzy search in  German  - result: [Match(start=8, end=82, dist=15)]\n",
      "fuzzy search in  Spanish  - result: [Match(start=0, end=82, dist=11)]\n",
      "fuzzy search in  Dutch  - result: [Match(start=4, end=82, dist=13)]\n",
      "fuzzy search in  Finnish  - result: [Match(start=4, end=82, dist=15)]\n",
      "fuzzy search in  Danish  - result: [Match(start=0, end=80, dist=14)]\n",
      "fuzzy search in  Italian  - result: [Match(start=0, end=81, dist=7)]\n"
     ]
    },
    {
     "data": {
      "text/plain": [
       "[Match(start=0, end=81, dist=7)]"
      ]
     },
     "execution_count": 253,
     "metadata": {},
     "output_type": "execute_result"
    }
   ],
   "source": [
    "# fuzzy search against some language; lower distance means higher similarity\n",
    "inspect_against_language(symbolic_representation, \"French\")\n",
    "inspect_against_language(symbolic_representation, \"German\")\n",
    "inspect_against_language(symbolic_representation, \"Spanish\")\n",
    "inspect_against_language(symbolic_representation, \"Dutch\")\n",
    "inspect_against_language(symbolic_representation, \"Finnish\")\n",
    "inspect_against_language(symbolic_representation, \"Danish\")\n",
    "inspect_against_language(symbolic_representation, \"Italian\")"
   ]
  },
  {
   "cell_type": "markdown",
   "metadata": {},
   "source": [
    "Italian scored best, only just beating French.\n",
    "\n",
    "Let's try the same thing again for a different text document. See if the correct language is suggested again:"
   ]
  },
  {
   "cell_type": "code",
   "execution_count": 227,
   "metadata": {},
   "outputs": [
    {
     "name": "stdout",
     "output_type": "stream",
     "text": [
      "GEFGHDFGHBDFEHEBBHGHFDDABECAAAACAAAAAAAAAAAAAAAACAAACAAAAAAAAAAAAAAAAAAAAAAAAAAAAA\n",
      "fuzzy search in  French  - result: [Match(start=11, end=82, dist=24)]\n",
      "fuzzy search in  German  - result: [Match(start=0, end=82, dist=13)]\n",
      "fuzzy search in  Spanish  - result: [Match(start=0, end=81, dist=19)]\n",
      "fuzzy search in  Dutch  - result: [Match(start=0, end=82, dist=21)]\n",
      "fuzzy search in  Finnish  - result: [Match(start=8, end=82, dist=19)]\n",
      "fuzzy search in  Danish  - result: [Match(start=0, end=79, dist=20)]\n",
      "fuzzy search in  Italian  - result: [Match(start=11, end=82, dist=22)]\n",
      "Do we have a winner? And is it German?\n"
     ]
    }
   ],
   "source": [
    "# load german document and try again\n",
    "text_lf_dict = process_file('text-file-german.txt')\n",
    "text_lf = pd.DataFrame.from_dict(text_lf_dict, orient='index', columns=['frequency'])\n",
    "text_lf['letter'] = text_lf.index\n",
    "# represent the letter frequencies from thistext as a single string of characters\n",
    "# each letter's quantile is represented by a string (a..z)\n",
    "# 97 is the ASCII code for a / capital A = 65)\n",
    "number_of_quantiles = 20\n",
    "text_lf['quantile'] = pd.qcut(text_lf['frequency'], number_of_quantiles, labels=False, duplicates='drop')\n",
    "text_lf['quantile_label']=text_lf['quantile'].apply(lambda q: chr(65+q))\n",
    "symbolic_representation = ''.join(text_lf['quantile_label'].astype(str))\n",
    "print(symbolic_representation)\n",
    "# fuzzy search against some language; lower distance means higher similarity\n",
    "inspect_against_language(symbolic_representation, \"French\")\n",
    "inspect_against_language(symbolic_representation, \"German\")\n",
    "inspect_against_language(symbolic_representation, \"Spanish\")\n",
    "inspect_against_language(symbolic_representation, \"Dutch\")\n",
    "inspect_against_language(symbolic_representation, \"Finnish\")\n",
    "inspect_against_language(symbolic_representation, \"Danish\")\n",
    "inspect_against_language(symbolic_representation, \"Italian\")\n",
    "print(\"Do we have a winner? And is it German?\")"
   ]
  },
  {
   "cell_type": "markdown",
   "metadata": {},
   "source": [
    "So this crude comparison renders pretty okay results. Nice to know. Nice to have such a straightforward, naive approach at our disposal."
   ]
  },
  {
   "cell_type": "markdown",
   "metadata": {},
   "source": [
    "# SAX: Symbolic Aggregate approXimation\n",
    "A more refined, scalable and better result producing way to represent data series.\n",
    "\n"
   ]
  },
  {
   "cell_type": "code",
   "execution_count": 131,
   "metadata": {},
   "outputs": [
    {
     "name": "stdout",
     "output_type": "stream",
     "text": [
      "Collecting package metadata: done\n",
      "Solving environment: failed\n",
      "\n",
      "PackagesNotFoundError: The following packages are not available from current channels:\n",
      "\n",
      "  - saxpy\n",
      "\n",
      "Current channels:\n",
      "\n",
      "  - https://conda.anaconda.org/conda-forge/linux-64\n",
      "  - https://conda.anaconda.org/conda-forge/noarch\n",
      "  - https://repo.anaconda.com/pkgs/main/linux-64\n",
      "  - https://repo.anaconda.com/pkgs/main/noarch\n",
      "  - https://repo.anaconda.com/pkgs/free/linux-64\n",
      "  - https://repo.anaconda.com/pkgs/free/noarch\n",
      "  - https://repo.anaconda.com/pkgs/r/linux-64\n",
      "  - https://repo.anaconda.com/pkgs/r/noarch\n",
      "\n",
      "To search for alternate channels that may provide the conda package you're\n",
      "looking for, navigate to\n",
      "\n",
      "    https://anaconda.org\n",
      "\n",
      "and use the search bar at the top of the page.\n",
      "\n",
      "\n",
      "Requirement already satisfied: saxpy in /opt/conda/lib/python3.6/site-packages (1.0.1.dev167)\n",
      "Requirement already satisfied: pytest in /opt/conda/lib/python3.6/site-packages (from saxpy) (5.1.0)\n",
      "Requirement already satisfied: pytest-cov in /opt/conda/lib/python3.6/site-packages (from saxpy) (2.7.1)\n",
      "Requirement already satisfied: codecov in /opt/conda/lib/python3.6/site-packages (from saxpy) (2.0.15)\n",
      "Requirement already satisfied: numpy in /opt/conda/lib/python3.6/site-packages (from saxpy) (1.17.0)\n",
      "Requirement already satisfied: attrs>=17.4.0 in /opt/conda/lib/python3.6/site-packages (from pytest->saxpy) (18.2.0)\n",
      "Requirement already satisfied: py>=1.5.0 in /opt/conda/lib/python3.6/site-packages (from pytest->saxpy) (1.8.0)\n",
      "Requirement already satisfied: more-itertools>=4.0.0 in /opt/conda/lib/python3.6/site-packages (from pytest->saxpy) (7.2.0)\n",
      "Requirement already satisfied: pluggy<1.0,>=0.12 in /opt/conda/lib/python3.6/site-packages (from pytest->saxpy) (0.12.0)\n",
      "Requirement already satisfied: packaging in /opt/conda/lib/python3.6/site-packages (from pytest->saxpy) (19.0)\n",
      "Requirement already satisfied: atomicwrites>=1.0 in /opt/conda/lib/python3.6/site-packages (from pytest->saxpy) (1.3.0)\n",
      "Requirement already satisfied: wcwidth in /opt/conda/lib/python3.6/site-packages (from pytest->saxpy) (0.1.7)\n",
      "Requirement already satisfied: importlib-metadata>=0.12; python_version < \"3.8\" in /opt/conda/lib/python3.6/site-packages (from pytest->saxpy) (0.19)\n",
      "Requirement already satisfied: coverage>=4.4 in /opt/conda/lib/python3.6/site-packages (from pytest-cov->saxpy) (4.5.4)\n",
      "Requirement already satisfied: requests>=2.7.9 in /opt/conda/lib/python3.6/site-packages (from codecov->saxpy) (2.21.0)\n",
      "Requirement already satisfied: pyparsing>=2.0.2 in /opt/conda/lib/python3.6/site-packages (from packaging->pytest->saxpy) (2.3.1)\n",
      "Requirement already satisfied: six in /opt/conda/lib/python3.6/site-packages (from packaging->pytest->saxpy) (1.12.0)\n",
      "Requirement already satisfied: zipp>=0.5 in /opt/conda/lib/python3.6/site-packages (from importlib-metadata>=0.12; python_version < \"3.8\"->pytest->saxpy) (0.5.2)\n",
      "Requirement already satisfied: idna<2.9,>=2.5 in /opt/conda/lib/python3.6/site-packages (from requests>=2.7.9->codecov->saxpy) (2.8)\n",
      "Requirement already satisfied: urllib3<1.25,>=1.21.1 in /opt/conda/lib/python3.6/site-packages (from requests>=2.7.9->codecov->saxpy) (1.24.1)\n",
      "Requirement already satisfied: chardet<3.1.0,>=3.0.2 in /opt/conda/lib/python3.6/site-packages (from requests>=2.7.9->codecov->saxpy) (3.0.4)\n",
      "Requirement already satisfied: certifi>=2017.4.17 in /opt/conda/lib/python3.6/site-packages (from requests>=2.7.9->codecov->saxpy) (2019.6.16)\n"
     ]
    }
   ],
   "source": [
    "# Install a conda package in the current Jupyter kernel\n",
    "# based on https://jakevdp.github.io/blog/2017/12/05/installing-python-packages-from-jupyter/\n",
    "import sys\n",
    "!conda install --yes --prefix {sys.prefix} saxpy\n",
    "\n",
    "# Install a pip package in the current Jupyter kernel\n",
    "import sys\n",
    "!{sys.executable} -m pip install saxpy"
   ]
  },
  {
   "cell_type": "code",
   "execution_count": 203,
   "metadata": {},
   "outputs": [],
   "source": [
    "from saxpy.alphabet import cuts_for_asize\n",
    "import numpy as np\n",
    "from saxpy.znorm import znorm\n",
    "from saxpy.sax import ts_to_string\n",
    "\n",
    "alphabet_size = 5\n",
    "word_size =  len(all_letters) # feel free to use a smaller number of letters; just the first few letters of the alphabet can be telling"
   ]
  },
  {
   "cell_type": "code",
   "execution_count": 204,
   "metadata": {},
   "outputs": [
    {
     "name": "stdout",
     "output_type": "stream",
     "text": [
      "SAX symbolic representation for unknown document is  eceeecdcebbedeedceeeecbbbcbbbbbbbbbbbbbbbbbbbbbbbbbbbbbbbbbbbbbbbbbbbbbbbbbbbbbbbb\n"
     ]
    }
   ],
   "source": [
    "sax_unknown = ts_to_string(znorm(text_lf[:word_size]['frequency']), cuts_for_asize(alphabet_size))\n",
    "print('SAX symbolic representation for unknown document is ',sax_unknown)\n",
    "\n",
    "#df[(df['language'].isin(  ['French','German','Dutch','Czech','Italian']))"
   ]
  },
  {
   "cell_type": "code",
   "execution_count": 205,
   "metadata": {},
   "outputs": [
    {
     "data": {
      "text/plain": [
       "82"
      ]
     },
     "execution_count": 205,
     "metadata": {},
     "output_type": "execute_result"
    }
   ],
   "source": [
    "len(sax_unknown)"
   ]
  },
  {
   "cell_type": "code",
   "execution_count": 206,
   "metadata": {},
   "outputs": [],
   "source": [
    "italian_lf = list(df[df['language']=='Italian']['frequency'])\n",
    "sax_italian =ts_to_string(znorm(  italian_lf[:word_size]), cuts_for_asize(alphabet_size))\n"
   ]
  },
  {
   "cell_type": "code",
   "execution_count": 207,
   "metadata": {},
   "outputs": [],
   "source": [
    "german_lf = list(df[df['language']=='German']['frequency'])\n",
    "sax_german = ts_to_string(znorm(  german_lf[:word_size]), cuts_for_asize(alphabet_size))"
   ]
  },
  {
   "cell_type": "code",
   "execution_count": 208,
   "metadata": {},
   "outputs": [
    {
     "data": {
      "text/plain": [
       "0.0"
      ]
     },
     "execution_count": 208,
     "metadata": {},
     "output_type": "execute_result"
    }
   ],
   "source": [
    "import saxpy_nphoff as sx\n",
    "import importlib\n",
    "#importlib.reload(my_module)\n",
    "s = sx.SAX(alphabetSize = alphabet_size, wordSize = word_size)\n",
    "s.compare_strings(sax_unknown, sax_italian)\n"
   ]
  },
  {
   "cell_type": "code",
   "execution_count": 209,
   "metadata": {},
   "outputs": [
    {
     "data": {
      "text/plain": [
       "0.7733692520394123"
      ]
     },
     "execution_count": 209,
     "metadata": {},
     "output_type": "execute_result"
    }
   ],
   "source": [
    "s.compare_strings(sax_unknown, sax_german)"
   ]
  },
  {
   "cell_type": "code",
   "execution_count": 210,
   "metadata": {},
   "outputs": [],
   "source": [
    "def score_sax_string_against_language( sax_unknown, language):\n",
    "    language_lf = list(df[df['language']== language]['frequency'])\n",
    "    sax_language = ts_to_string(znorm(  language_lf[:word_size]), cuts_for_asize(alphabet_size))\n",
    "    print(language,': ',sax_language)\n",
    "    return s.compare_strings(sax_unknown, sax_language)"
   ]
  },
  {
   "cell_type": "code",
   "execution_count": 211,
   "metadata": {},
   "outputs": [
    {
     "name": "stdout",
     "output_type": "stream",
     "text": [
      "Scoring Document with unknown language against some known languages\n",
      "French :  ecdeecccecbedeedceeeecbbbbbbbbbbbbbbcbbbbbbbbbbbbbbbbbbbbbbbbbbbbbbbbbbbbbbbbbbbbb\n",
      "Against French 0.0\n",
      "German :  ecdeecdeebcddedcbeeeecdbbcbbbbbcbbbbbbbbbbbbbbbbbbbbcbbbbbbbbbbbbbbbbbbbbbbbbbbbbb\n",
      "Against German 0.7733692520394123\n",
      "Dutch :  ecceecddecdedeecbeeedccbbcbbbbbbbbbbbbbbbbbbbbbbbbbbbbbbbbbbbbbbbbbbbbbbbbbbbbbbbb\n",
      "Against Dutch 0.7733692520394123\n",
      "Italian :  eceeecccebbedeedbeeeddbbbcbcbbbbbbbbbbbbbbbbbbbbbbbbbbbbbbbbbbbbbbbbbbbbbbbbbbbbbb\n",
      "Against Italian 0.0\n",
      "Swedish :  ecceedddecdeeeedbeeeddbbcbbbbbbccbbbbbbbbbbbbbbbcbbbbbbbbbbbbbbbbbbbbbbbbbbbbbbbbb\n",
      "Against Swedish 0.7733692520394123\n",
      "Finnish :  ebbcebbcedeedeecbdeeedbbcbbbbbbebbbbbbbbbbbbbbbbbbbbbbbbbbbbbbbbbbbbbbbbbbbbbbbbbb\n",
      "Against Finnish 2.1005713508471926\n"
     ]
    }
   ],
   "source": [
    "print ('Scoring Document with unknown language against some known languages')\n",
    "print('Against French',score_sax_string_against_language( sax_unknown, 'French'))\n",
    "print('Against German',score_sax_string_against_language( sax_unknown, 'German'))\n",
    "print('Against Dutch',score_sax_string_against_language( sax_unknown, 'Dutch'))\n",
    "print('Against Italian',score_sax_string_against_language( sax_unknown, 'Italian'))\n",
    "print('Against Swedish',score_sax_string_against_language( sax_unknown, 'Swedish'))\n",
    "print('Against Finnish',score_sax_string_against_language( sax_unknown, 'Finnish'))"
   ]
  },
  {
   "cell_type": "code",
   "execution_count": 212,
   "metadata": {},
   "outputs": [
    {
     "name": "stdout",
     "output_type": "stream",
     "text": [
      "Top 5 scores for  text-file-italian.txt\n",
      "     Language  Distance\n",
      "5     Italian  0.025948\n",
      "2     Spanish  0.063690\n",
      "0      French  0.074196\n",
      "4   Esperanto  0.081720\n",
      "3  Portuguese  0.084151\n",
      "Top 5 scores for  text-file-danish.txt\n",
      "   Language  Distance\n",
      "9     Dutch  0.055544\n",
      "10   Danish  0.062055\n",
      "1    German  0.075647\n",
      "7   Swedish  0.093439\n",
      "0    French  0.107550\n",
      "Top 5 scores for  text-file-german.txt\n",
      "   Language  Distance\n",
      "1    German  0.031016\n",
      "9     Dutch  0.061782\n",
      "10   Danish  0.078350\n",
      "0    French  0.094755\n",
      "7   Swedish  0.104399\n",
      "Top 5 scores for  text-file-dutch.txt\n",
      "   Language  Distance\n",
      "9     Dutch  0.029877\n",
      "1    German  0.070388\n",
      "10   Danish  0.078216\n",
      "0    French  0.087943\n",
      "7   Swedish  0.099022\n"
     ]
    }
   ],
   "source": [
    "def process_text_file_sax(text_file):\n",
    "    text_lf_dict = process_file(text_file)\n",
    "    text_lf = pd.DataFrame.from_dict(text_lf_dict, orient='index', columns=['frequency'])\n",
    "    text_lf['letter'] = text_lf.index\n",
    "    sax_unknown_text_frequencies = ts_to_string(znorm(text_lf[:word_size]['frequency']), cuts_for_asize(alphabet_size))\n",
    "    language_scores = pd.DataFrame ({}, columns = ['Language','Distance'])\n",
    "    for language in df['language'].unique():\n",
    "        dst = score_sax_string_against_language( sax_unknown_text_frequencies, language)\n",
    "        language_scores = language_scores.append({'Language' : language , 'Distance' : dst} , ignore_index=True)\n",
    "    \n",
    "    # get top 5\n",
    "    print(\"Top 5 scores based on SAX distance for \",text_file)\n",
    "    print(language_scores.sort_values('Distance').head(5))\n",
    "    \n",
    "process_text_file('text-file-italian.txt')    \n",
    "process_text_file('text-file-danish.txt')    \n",
    "process_text_file('text-file-german.txt')    \n",
    "process_text_file('text-file-dutch.txt')    "
   ]
  },
  {
   "cell_type": "code",
   "execution_count": 213,
   "metadata": {},
   "outputs": [],
   "source": [
    "# NOTE: THIS DOES NOT APPLY TO THE CASE OF LETTER frequencies or other discrete series\n",
    "\n",
    "# Time series to SAX conversion with PAA aggregation (i.e., by \"chunking\")\n",
    "# In order to reduce dimensionality further, the PAA (Piecewise Aggregate Approximation) is usually applied prior to SAX:\n",
    "\n",
    "import numpy as np\n",
    "from saxpy.znorm import znorm\n",
    "from saxpy.paa import paa\n",
    "from saxpy.sax import ts_to_string\n",
    "\n",
    "#dat = text_lf['frequency']\n",
    "#dat_znorm = znorm(dat)\n",
    "#dat_paa_20 = paa(dat_znorm, 20)\n",
    "\n",
    "# ts_to_string(dat_paa_20, cuts_for_asize(10))"
   ]
  },
  {
   "cell_type": "markdown",
   "metadata": {},
   "source": [
    "# Resources\n",
    "https://datascience.stackexchange.com/questions/15812/check-similarity-between-time-series\n",
    "and:\n",
    "http://didawiki.cli.di.unipi.it/lib/exe/fetch.php/dm/time_series_from_keogh_tutorial.pdf\n",
    "\n",
    "Letter Frequencies: http://letterfrequency.org/ \n",
    "\n",
    "Symbolic Aggregate approXimation, HOT-SAX, and SAX-VSM implementation in Python: https://github.com/seninp/saxpy\n",
    "\n",
    "Shape matching with time series data - by Devini Senaratna and Chris Potts https://roamanalytics.com/2016/11/28/shape-matching-with-time-series-data/\n",
    "and: \n",
    "\n",
    "Experiencing SAX: a Novel Symbolic Representation of Time Series  - JESSICA LIN, EAMONN KEOGH, LI Wei, STEFANO LONARDI\n",
    "https://cs.gmu.edu/~jessica/SAX_DAMI_preprint.pdf\n",
    "\n",
    "SAX and Matrix Profile Techniques for Root Cause Analysis, Author: Supreet Oberoi Posted on October 29, 2018  https://www.datascience.com/blog/sax-and-matrix-profile-time-series\n",
    "\n",
    "\n",
    "jMotif - Java Implementation of SAX, EMMA: https://github.com/jMotif/SAX \n",
    "\n",
    "https://github.com/nphoff/saxpy\n",
    "s = SAX(12, 3)\n",
    "(a_sax, a_indexes) = s.to_letter_rep(motif)\n",
    "print \"a_sax: %s\" % a_sax\n",
    "(sequence_strings, sequence_indexes) = s.sliding_window(sequence, len(sequence)/ len(motif)) x3x2ComparisonScores = s.batch_compare(sequence_strings,a_sax)_\n",
    "\n",
    "SAX PY Fast implementation\n",
    "https://github.com/zangsir/SPM/blob/master/ts_mining/saxpyFast.py\n",
    "\n",
    " Levenshtein Distance - to compare series and their difference - https://stackabuse.com/levenshtein-distance-and-text-similarity-in-python/ "
   ]
  },
  {
   "cell_type": "markdown",
   "metadata": {},
   "source": [
    "# Technical Environment\n",
    "For this notebook, I made use of Jupyter Notebook 5.7 with the Jupyter Lab extension 1.0.4 installed (https://jupyterlab.readthedocs.io/en/stable/getting_started/installation.html) in combination with ploty 4.1\n",
    "\n",
    "conda install -c conda-forge jupyterlab\n",
    "\n",
    "Installing plotly (4.1): \n",
    "\n",
    "conda install -c plotly plotly=4.1.0 \n",
    "\n",
    "conda install -c plotly chart-studio=1.0.0\n",
    "\n",
    "conda install jupyterlab=1.0 \"ipywidgets>=7.5\"\n",
    "\n",
    "(see: https://plot.ly/python/getting-started/)\n",
    "\n"
   ]
  }
 ],
 "metadata": {
  "kernelspec": {
   "display_name": "Python 3",
   "language": "python",
   "name": "python3"
  },
  "language_info": {
   "codemirror_mode": {
    "name": "ipython",
    "version": 3
   },
   "file_extension": ".py",
   "mimetype": "text/x-python",
   "name": "python",
   "nbconvert_exporter": "python",
   "pygments_lexer": "ipython3",
   "version": "3.6.8"
  }
 },
 "nbformat": 4,
 "nbformat_minor": 4
}
